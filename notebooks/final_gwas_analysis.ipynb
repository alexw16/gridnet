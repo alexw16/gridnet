{
 "cells": [
  {
   "cell_type": "code",
   "execution_count": 1,
   "metadata": {},
   "outputs": [],
   "source": [
    "%matplotlib inline\n",
    "import os\n",
    "import numpy as np\n",
    "import matplotlib.pyplot as plt\n",
    "import numpy as np\n",
    "import seaborn as sns\n",
    "import pandas as pd\n",
    "\n",
    "import csv\n",
    "import umap\n",
    "import scanpy as sc"
   ]
  },
  {
   "cell_type": "code",
   "execution_count": 2,
   "metadata": {},
   "outputs": [],
   "source": [
    "import h5py\n",
    "from scipy.sparse import csr_matrix\n",
    "\n",
    "def load_data(dataset,gene_percent_cells=0.01,peak_percent_cells=0.001,include_h5=True,\n",
    "              preprocess=True,sampling=None,distance=1000000):\n",
    "    \n",
    "    data_dir = '/data/cb/alexwu/mm_finemap/datasets/{}'.format(dataset)\n",
    "\n",
    "    if sampling == 'geosketch':\n",
    "        rna_adata = sc.read(os.path.join(data_dir,'{}.rna.sketch.h5ad'.format(dataset)))\n",
    "        atac_adata = sc.read(os.path.join(data_dir,'{}.atac.sketch.h5ad'.format(dataset)))\n",
    "    elif sampling == 'uniform':\n",
    "        rna_adata = sc.read(os.path.join(data_dir,'{}.rna.uniform.h5ad'.format(dataset)))\n",
    "        atac_adata = sc.read(os.path.join(data_dir,'{}.atac.uniform.h5ad'.format(dataset)))        \n",
    "    else:\n",
    "        rna_adata = sc.read(os.path.join(data_dir,'{}.rna.h5ad'.format(dataset)))\n",
    "        atac_adata = sc.read(os.path.join(data_dir,'{}.atac.h5ad'.format(dataset)))\n",
    "\n",
    "    if dataset == 'sci_car':\n",
    "        data_dir = '/data/cb/alexwu/mm_finemap/data/sci_car'\n",
    "        adata = sc.read(os.path.join(data_dir,'adata-hs.h5ad'))\n",
    "\n",
    "        atac_adata.var['chr_no'] = ['chr' + n for n in atac_adata.var['chr_no']]\n",
    "        atac_adata.var['start'] = adata.uns['atac.var'][:,2].astype(int)\n",
    "        atac_adata.var['end'] = adata.uns['atac.var'][:,3].astype(int)\n",
    "\n",
    "    if preprocess:\n",
    "        # scale by maximum \n",
    "        # (rna already normalized by library size + log-transformed)\n",
    "        X_max = rna_adata.X.max(0).toarray().squeeze()\n",
    "        X_max[X_max == 0] = 1\n",
    "        rna_adata.X = csr_matrix(rna_adata.X / X_max)\n",
    "\n",
    "        # atac: normalize library size + log transformation\n",
    "        sc.pp.normalize_total(atac_adata,target_sum=1e4)\n",
    "        sc.pp.log1p(atac_adata)\n",
    "\n",
    "    if include_h5:\n",
    "        data_dir = '/data/cb/alexwu/mm_finemap/datasets/{}'.format(dataset)\n",
    "        with h5py.File(os.path.join(data_dir,'dataset.h5'),'r') as f:\n",
    "            print(f.keys())\n",
    "            data_df = pd.DataFrame()\n",
    "            for k in ['chr_no','eqtl','hic','dist','atac_id','gene','corr','group_corr','gene_percent_cells',\n",
    "                      'peak_percent_cells','hg38tohg19_eqtl','eqtl.new','corr_bin','group_corr_bin',\n",
    "                      'hic_0hr','hic_1hr','hic_4hr','eqtl.q','hic_4hr.expectedBL','eqtl.all','hic.new2',\n",
    "                      'hic.100kb','ABC.score']: #,\n",
    "#                      'hic_0hr.expectedBL','hic_1hr.expectedBL','hic_4hr.expectedBL.new','hic_0hr.expectedBL.new',\n",
    "#                      'hic_4hr.expectedBL.new2','hic_12hr.expectedBL','hic_4hr.expectedBL.full']:\n",
    "                if k in f.keys():\n",
    "                    data_df[k] = f[k][:]\n",
    "\n",
    "        small_df = data_df[abs(data_df['dist']) < distance]\n",
    "\n",
    "        # small_df = small_df[~np.isnan(small_df['group_corr'])]\n",
    "        small_df = small_df[small_df['gene_percent_cells'] > gene_percent_cells]\n",
    "        small_df = small_df[small_df['peak_percent_cells'] > peak_percent_cells]\n",
    "\n",
    "        small_df.index = [(atac_idx,gene) for atac_idx,gene in small_df[['atac_id','gene']].values]\n",
    "    \n",
    "        return rna_adata,atac_adata,small_df\n",
    "\n",
    "    else:\n",
    "        \n",
    "        return rna_adata,atac_adata"
   ]
  },
  {
   "cell_type": "code",
   "execution_count": 3,
   "metadata": {},
   "outputs": [],
   "source": [
    "import h5py\n",
    "from scipy.sparse import csr_matrix\n",
    "\n",
    "def load_data(dataset,gene_percent_cells=0.01,peak_percent_cells=0.001,include_h5=True,\n",
    "              preprocess=True,sampling=None,distance=1000000):\n",
    "    \n",
    "    data_dir = '/data/cb/alexwu/mm_finemap/datasets/{}'.format(dataset)\n",
    "\n",
    "    if sampling == 'geosketch':\n",
    "        rna_adata = sc.read(os.path.join(data_dir,'{}.rna.sketch.h5ad'.format(dataset)))\n",
    "        atac_adata = sc.read(os.path.join(data_dir,'{}.atac.sketch.h5ad'.format(dataset)))\n",
    "    elif sampling == 'uniform':\n",
    "        rna_adata = sc.read(os.path.join(data_dir,'{}.rna.uniform.h5ad'.format(dataset)))\n",
    "        atac_adata = sc.read(os.path.join(data_dir,'{}.atac.uniform.h5ad'.format(dataset)))        \n",
    "    else:\n",
    "        rna_adata = sc.read(os.path.join(data_dir,'{}.rna.h5ad'.format(dataset)))\n",
    "        atac_adata = sc.read(os.path.join(data_dir,'{}.atac.h5ad'.format(dataset)))\n",
    "\n",
    "    if dataset == 'sci_car':\n",
    "        data_dir = '/data/cb/alexwu/mm_finemap/data/sci_car'\n",
    "        adata = sc.read(os.path.join(data_dir,'adata-hs.h5ad'))\n",
    "\n",
    "        atac_adata.var['chr_no'] = ['chr' + n for n in atac_adata.var['chr_no']]\n",
    "        atac_adata.var['start'] = adata.uns['atac.var'][:,2].astype(int)\n",
    "        atac_adata.var['end'] = adata.uns['atac.var'][:,3].astype(int)\n",
    "\n",
    "    if preprocess:\n",
    "        # scale by maximum \n",
    "        # (rna already normalized by library size + log-transformed)\n",
    "        X_max = rna_adata.X.max(0).toarray().squeeze()\n",
    "        X_max[X_max == 0] = 1\n",
    "        rna_adata.X = csr_matrix(rna_adata.X / X_max)\n",
    "\n",
    "        # atac: normalize library size + log transformation\n",
    "        sc.pp.normalize_total(atac_adata,target_sum=1e4)\n",
    "        sc.pp.log1p(atac_adata)\n",
    "\n",
    "    if include_h5:\n",
    "        data_dir = '/data/cb/alexwu/mm_finemap/datasets/{}'.format(dataset)\n",
    "        with h5py.File(os.path.join(data_dir,'dataset.h5'),'r') as f:\n",
    "            print(f.keys())\n",
    "            data_df = pd.DataFrame()\n",
    "            for k in ['chr_no','eqtl','hic','dist','atac_id','gene','corr','group_corr','gene_percent_cells',\n",
    "                      'peak_percent_cells','hg38tohg19_eqtl','eqtl.new','corr_bin','group_corr_bin',\n",
    "                      'hic_0hr','hic_1hr','hic_4hr','eqtl.q','hic_4hr.expectedBL','eqtl.all','hic.new2',\n",
    "                      'hic.100kb','ABC.score','hic.new']: #,\n",
    "#                      'hic_0hr.expectedBL','hic_1hr.expectedBL','hic_4hr.expectedBL.new','hic_0hr.expectedBL.new',\n",
    "#                      'hic_4hr.expectedBL.new2','hic_12hr.expectedBL','hic_4hr.expectedBL.full']:\n",
    "                if k in f.keys():\n",
    "                    data_df[k] = f[k][:]\n",
    "\n",
    "        small_df = data_df[abs(data_df['dist']) < distance]\n",
    "\n",
    "        # small_df = small_df[~np.isnan(small_df['group_corr'])]\n",
    "        small_df = small_df[small_df['gene_percent_cells'] > gene_percent_cells]\n",
    "        small_df = small_df[small_df['peak_percent_cells'] > peak_percent_cells]\n",
    "\n",
    "        small_df.index = [(atac_idx,gene) for atac_idx,gene in small_df[['atac_id','gene']].values]\n",
    "    \n",
    "        return rna_adata,atac_adata,small_df\n",
    "\n",
    "    else:\n",
    "        \n",
    "        return rna_adata,atac_adata"
   ]
  },
  {
   "cell_type": "code",
   "execution_count": 4,
   "metadata": {},
   "outputs": [],
   "source": [
    "from scipy.stats import rankdata\n",
    "\n",
    "def load_results(dataset,eval_df,ensemble=False,gene_percent_cells=0.01,peak_percent_cells=0.001):\n",
    "    \n",
    "    n_layers = 10\n",
    "    n_neighbors = 15\n",
    "    mode = 'lr'\n",
    "\n",
    "    eval_df['ABC.score'] = eval_df['ABC.score'].replace(np.nan, 0)\n",
    "    eval_df['ABC.score'] = eval_df['ABC.score'].values #.astype(bool).astype(float)\n",
    "\n",
    "    eval_df['corr'] = eval_df['corr'].replace(np.nan, 0)\n",
    "    eval_df['group_corr'] = eval_df['group_corr'].replace(np.nan, 0)\n",
    "\n",
    "    data_dir = '/data/cb/alexwu/mm_finemap/results/tests_nn/{}'.format(dataset)\n",
    "\n",
    "    \n",
    "    if dataset in ['sci_car','snare_seq']:\n",
    "        \n",
    "        method = 'graph'\n",
    "        data_dir = '/data/cb/alexwu/mm_finemap/results/tests_nn/{}'.format(dataset)\n",
    "        for trial_no in range(1,6):\n",
    "\n",
    "            file_name = 'graph.trial{}.all.max_scale.mseloss.{}layers.nn{}.statistics.txt'.format(trial_no,n_layers,n_neighbors)\n",
    "            scores = pd.read_csv(os.path.join(data_dir,file_name),sep='\\t').values[:,2].astype(float)\n",
    "            scores[np.isinf(scores)] = 10**10\n",
    "            eval_df['{}.trial{}'.format(method,trial_no)] = scores\n",
    "            \n",
    "    elif dataset in ['share_seq_more','human_cortex_multiome_lineage']:\n",
    "        \n",
    "        method = 'graph'\n",
    "        for trial_no in range(1,6):\n",
    "\n",
    "            if trial_no == 1:\n",
    "                data_dir = '/data/cb/alexwu/mm_finemap/results/tests_nn/{}'.format(dataset)\n",
    "            else:\n",
    "                data_dir = '/data/cb/alexwu/mm_finemap/results/tests_nn/{}_{}'.format(dataset,trial_no)\n",
    "\n",
    "            if dataset == 'human_cortex_multiome_lineage':\n",
    "                file_name = 'graph.uniform.250kb.trial{}.all.max_scale.mseloss.{}layers.nn{}.statistics.txt'.format(trial_no,n_layers,n_neighbors)\n",
    "            elif dataset == 'share_seq_more':\n",
    "                file_name = 'graph.uniform.trial{}.all.max_scale.mseloss.{}layers.nn{}.statistics.txt'.format(trial_no,n_layers,n_neighbors)\n",
    "            else:\n",
    "                file_name = 'graph.uniform.trial{}.all.max_scale.mseloss.{}layers.nn{}.statistics.txt'.format(trial_no,n_layers,n_neighbors)\n",
    "\n",
    "            scores = pd.read_csv(os.path.join(data_dir,file_name),sep='\\t').values[:,2].astype(float)\n",
    "            scores[np.isinf(scores)] = 10**10\n",
    "            eval_df['{}.trial{}'.format(method,trial_no)] = scores\n",
    "            \n",
    "        \n",
    "            if trial_no == 1:\n",
    "                data_dir = '/data/cb/alexwu/mm_finemap/datasets/{}'.format(dataset)\n",
    "            else:\n",
    "                data_dir = '/data/cb/alexwu/mm_finemap/datasets/{}_{}'.format(dataset,trial_no)\n",
    "\n",
    "            # correlations\n",
    "            with h5py.File(os.path.join(data_dir,'dataset.h5'),'r') as f:\n",
    "                data_df = pd.DataFrame()\n",
    "                for k in ['dist','corr','group_corr','gene_percent_cells','peak_percent_cells']:\n",
    "                    if k in f.keys():\n",
    "                        data_df[k] = f[k][:]\n",
    "\n",
    "            small_df = data_df[abs(data_df['dist']) < distance]\n",
    "\n",
    "            # small_df = small_df[~np.isnan(small_df['group_corr'])]\n",
    "            small_df = small_df[small_df['gene_percent_cells'] > gene_percent_cells]\n",
    "            small_df = small_df[small_df['peak_percent_cells'] > peak_percent_cells]\n",
    "\n",
    "            eval_df['corr.trial{}'.format(trial_no)] = small_df['corr'].replace(np.nan, 0).values\n",
    "            eval_df['group_corr.trial{}'.format(trial_no)] = small_df['group_corr'].replace(np.nan, 0).values\n",
    "\n",
    "    if ensemble:\n",
    "                \n",
    "        for method in ['graph','corr','group_corr']:\n",
    "            eval_df['{}.ranks.mean'.format(method)] = np.array([rankdata(abs(eval_df['{}.trial{}'.format(method,trial_no)].values),\n",
    "                                                                method='average') for trial_no in range(1,6)]).mean(0)\n",
    "\n",
    "        distance_ranks = rankdata(-abs(eval_df['dist'].values),method='average')\n",
    "        eval_df['dist_ranks'] = distance_ranks\n",
    "\n",
    "        for feature in ['graph.ranks.mean','group_corr.ranks.mean','corr.ranks.mean']:\n",
    "            eval_df[feature + '-dist'] = (distance_ranks + eval_df[feature].values)/2\n",
    "            \n",
    "    return eval_df"
   ]
  },
  {
   "cell_type": "code",
   "execution_count": 5,
   "metadata": {},
   "outputs": [],
   "source": [
    "from scipy.stats import f\n",
    "from statsmodels.stats.multitest import fdrcorrection\n",
    "\n",
    "def lr_ftest(lr,n_layers,n):\n",
    "    \n",
    "    # number of reduced model parameters (W,b for each RNA layer)\n",
    "    p1 = n_layers * 2 \n",
    "    # number of full model parameters (W,b for each layer of RNA, ATAC + interaction)\n",
    "    p2 = n_layers * 2 * 2 + 1 \n",
    "    \n",
    "    dfn = 2 * n_layers + 1\n",
    "    dfd = n - 4 * n_layers - 1\n",
    "\n",
    "    F = (lr - 1) * (n - p2)/(p2-p1)\n",
    "\n",
    "    return 1-f.cdf(F,dfn,dfd)\n",
    "\n",
    "def calculate_fdr(p):\n",
    "    \n",
    "    return fdrcorrection(p)[1]"
   ]
  },
  {
   "cell_type": "code",
   "execution_count": 6,
   "metadata": {},
   "outputs": [],
   "source": [
    "def rank_disease_genes_per_variant(eval_df,trait,score_key,finemap_key='FINEMAP',pp_thresh=1e-2,N=5,score_percentile=50):\n",
    "    \n",
    "    data_dir = '/data/cb/alexwu/mm_finemap/data/gwas/human_cortex_multiome'\n",
    "    file_name = '{}.credible_sets.txt.gz'.format(trait)\n",
    "    \n",
    "    gwas_df = pd.read_csv(os.path.join(data_dir,file_name),sep='\\t',compression='gzip')\n",
    "    \n",
    "    # filter GWAS variants by p-value\n",
    "    gwas_df = gwas_df[gwas_df[finemap_key] >= pp_thresh]\n",
    "    gwas_df = gwas_df[gwas_df['atac_id'].notna()]\n",
    "    gwas_df['atac_id'] = gwas_df['atac_id'].astype(int)\n",
    "    \n",
    "    # retain highest PIP per variant\n",
    "    variant_p_dict = {'{}-{}'.format(chr_no,int(pos)): pp for chr_no,pos,pp \n",
    "                      in gwas_df[['chr_liftover','pos_liftover',finemap_key]].values}\n",
    "\n",
    "    # retain peak-gene pairs that are relevant to GWAS variants\n",
    "    gwas_peaks_set = set(gwas_df['atac_id'].values)\n",
    "    filtered_eval_df = eval_df.iloc[[i for i,atac_id in enumerate(eval_df['atac_id'].values) \n",
    "                                     if atac_id in gwas_peaks_set]]\n",
    "    \n",
    "    filtered_eval_df = filtered_eval_df[['atac_id','gene','dist',score_key]]\n",
    "\n",
    "    ranked_peak_gene_pairs = {}\n",
    "    score_thresh = np.percentile(eval_df[score_key],score_percentile)\n",
    "    \n",
    "    # only consider each peak once (even if multiple variants per peak)\n",
    "    for atac_id in sorted(list(gwas_peaks_set)):\n",
    "        peak_df = filtered_eval_df[filtered_eval_df['atac_id'] == atac_id]\n",
    "        peak_df = peak_df[peak_df[score_key] >= score_thresh]\n",
    "        peak_df = peak_df.sort_values(by=score_key,ascending=False)\n",
    "        peak_df['rank'] = np.arange(peak_df.shape[0])\n",
    "        peak_df['abs_dist'] = abs(peak_df['dist'])\n",
    "        ranked_peak_gene_pairs[atac_id] = peak_df.iloc[0:N]\n",
    "\n",
    "    combined_df_list = []\n",
    "    for atac_id,chr_no,pos in gwas_df[['atac_id','chr_liftover','pos_liftover']].values:\n",
    "        peak_df = ranked_peak_gene_pairs[atac_id]\n",
    "        peak_df['variant'] = '{}-{}'.format(chr_no,int(pos))\n",
    "        combined_df_list.append(peak_df)\n",
    "    combined_df = pd.concat(combined_df_list)\n",
    "    combined_df['log_dist'] = np.log10(combined_df['abs_dist'])\n",
    "    \n",
    "    combined_df['gwas_pp'] = [variant_p_dict[variant] for variant in combined_df['variant'].values]\n",
    "    \n",
    "    return combined_df"
   ]
  },
  {
   "cell_type": "code",
   "execution_count": 7,
   "metadata": {},
   "outputs": [],
   "source": [
    "def get_disease_gene_ranks(score_key,sampling,trait,score_percentile=50,N=5,pp_thresh=0.05,per_variant=False):\n",
    "\n",
    "    save_dir = '/data/cb/alexwu/mm_finemap/results/gwas/disease_genes'\n",
    "    if per_variant:\n",
    "        file_name = '{}.{}.{}.trialranks.per_variant.credible_sets.score{}.N{}.pp{}.new.txt'.format(score_key,sampling,trait,score_percentile,N,pp_thresh)\n",
    "    else:\n",
    "        file_name = '{}.{}.{}.trialranks.credible_sets.score{}.N{}.pp{}.new.txt'.format(score_key,sampling,trait,score_percentile,N,pp_thresh)\n",
    "        \n",
    "    combined_df = pd.read_csv(os.path.join(save_dir,file_name),sep='\\t')\n",
    "    \n",
    "    return combined_df"
   ]
  },
  {
   "cell_type": "code",
   "execution_count": null,
   "metadata": {},
   "outputs": [],
   "source": []
  },
  {
   "cell_type": "markdown",
   "metadata": {},
   "source": [
    "## Load Scores + Rankings"
   ]
  },
  {
   "cell_type": "code",
   "execution_count": 8,
   "metadata": {
    "scrolled": true
   },
   "outputs": [
    {
     "name": "stdout",
     "output_type": "stream",
     "text": [
      "WARNING: Your filename has more than two extensions: ['.rna', '.uniform', '.h5ad'].\n",
      "Only considering the two last: ['.uniform', '.h5ad'].\n",
      "WARNING: Your filename has more than two extensions: ['.rna', '.uniform', '.h5ad'].\n",
      "Only considering the two last: ['.uniform', '.h5ad'].\n",
      "WARNING: Your filename has more than two extensions: ['.atac', '.uniform', '.h5ad'].\n",
      "Only considering the two last: ['.uniform', '.h5ad'].\n",
      "WARNING: Your filename has more than two extensions: ['.atac', '.uniform', '.h5ad'].\n",
      "Only considering the two last: ['.uniform', '.h5ad'].\n",
      "<KeysViewHDF5 ['ABC.score', 'atac_id', 'chr_no', 'corr', 'dist', 'eqtl.all', 'eqtl.fdr', 'eqtl.gtex', 'gene', 'gene_percent_cells', 'group_corr', 'hic', 'hic.new', 'peak_percent_cells', 'placseq_IPC', 'placseq_RG', 'placseq_eN', 'placseq_iN']>\n"
     ]
    }
   ],
   "source": [
    "dataset = 'human_cortex_multiome_lineage'\n",
    "\n",
    "distance = 250000\n",
    "gene_percent_cells = 0.01\n",
    "peak_percent_cells = 0.001\n",
    "sampling = 'uniform'\n",
    "\n",
    "rna_adata,atac_adata,eval_df = load_data(dataset,gene_percent_cells=gene_percent_cells,\n",
    "                                          peak_percent_cells=peak_percent_cells,\n",
    "                                          include_h5=True,sampling=sampling,distance=distance)\n",
    "\n",
    "eval_df = load_results(dataset,eval_df,ensemble=True)\n",
    "\n",
    "eval_df['log_dist'] = np.log10(1+abs(eval_df['dist']))\n",
    "eval_df['abs_dist'] = abs(eval_df['dist'])"
   ]
  },
  {
   "cell_type": "markdown",
   "metadata": {},
   "source": [
    "### Use Canonical TSS"
   ]
  },
  {
   "cell_type": "code",
   "execution_count": 9,
   "metadata": {},
   "outputs": [],
   "source": [
    "save_dir = '/data/cb/alexwu/mm_finemap/data/ucsc'\n",
    "\n",
    "bed_df = pd.read_csv(os.path.join(save_dir,'gencodeV39.bed'),sep='\\t',header=None)\n",
    "bed_df[3] = bed_df[17]\n",
    "bed_df = bed_df.iloc[[i for i,n in enumerate(bed_df[0]) if 'alt' not in n]]\n",
    "bed_df = bed_df[bed_df[22] == 'protein_coding']\n",
    "bed_df = bed_df[bed_df[25] == 'canonical,basic,all']\n",
    "# bed_df = bed_df[bed_df[21] == 'havana_homo_sapiens']\n",
    "\n",
    "# # save canonical TSS (for use in pygenomebrowser)\n",
    "bed_df.iloc[:,0:12].to_csv(os.path.join(save_dir,'gencodeV39_bed12.bed'),sep='\\t',header=False,index=False)\n",
    "\n",
    "canonical_tss_dict = {g: tss_plus if direction == '+' else tss_minus \n",
    "                      for g,tss_plus,tss_minus,direction in bed_df[[3,1,2,5]].values}\n",
    "\n",
    "new_txstart = []\n",
    "for g,tss in zip(*[rna_adata.var.index.values,rna_adata.var['txstart'].values]):\n",
    "    if g in canonical_tss_dict:\n",
    "        new_txstart.append(canonical_tss_dict[g])\n",
    "    else:\n",
    "        new_txstart.append(tss)\n",
    "        \n",
    "rna_adata.var['txstart'] = new_txstart"
   ]
  },
  {
   "cell_type": "markdown",
   "metadata": {},
   "source": [
    "### Logistic Regression Results"
   ]
  },
  {
   "cell_type": "code",
   "execution_count": 10,
   "metadata": {},
   "outputs": [],
   "source": [
    "from sklearn.linear_model import LogisticRegression\n",
    "\n",
    "def transform_X(df,score_key):\n",
    "\n",
    "#     X = df[[score_key,'log_dist']].values\n",
    "    X = np.array([np.log(1e-10+df[score_key]),np.clip(np.log10(1+df['abs_dist']),4,10)-4]).T\n",
    "#     X = np.log10(1e-5 + df[[score_key,'abs_dist']].values)\n",
    "\n",
    "    return X\n",
    "\n",
    "def string2coeffs(coeff_str):\n",
    "    \n",
    "    values = np.array([float(v) for v in [n.strip('[ ]') \n",
    "                        for n in coeff_str.split(' ')] if len(v)])\n",
    "    \n",
    "    return np.array([values[0:2]]),np.array([values[2]])\n",
    "\n",
    "lr = LogisticRegression(penalty='none',fit_intercept=True)\n",
    "\n",
    "coeff_str = '[[ 0.28332471 -0.16272753]] [-3.66021169]'\n",
    "coeff_str = '[[ 0.77661531 -0.47272459]] [-10.50656008]'\n",
    "\n",
    "lr.coef_,lr.intercept_ = string2coeffs(coeff_str)\n",
    "lr.classes_ = np.array([0,1])\n",
    "\n",
    "score_key = 'graph.ranks.mean'\n",
    "X = transform_X(eval_df,score_key)\n",
    "\n",
    "eval_df['{}-LR-dist'.format(score_key)] = lr.predict_proba(X)[:,1]"
   ]
  },
  {
   "cell_type": "markdown",
   "metadata": {},
   "source": [
    "### Link Variants to Genes"
   ]
  },
  {
   "cell_type": "code",
   "execution_count": 16,
   "metadata": {},
   "outputs": [
    {
     "name": "stdout",
     "output_type": "stream",
     "text": [
      "alzheimers\n",
      "parkinsons\n",
      "bipolar\n",
      "multiple_sclerosis\n",
      "schizophrenia\n",
      "schizophrenia_nature\n"
     ]
    }
   ],
   "source": [
    "save_dir = '/data/cb/alexwu/mm_finemap/results/gwas/disease_genes'\n",
    "\n",
    "score_key = 'graph.ranks.mean-LR-dist'\n",
    "score_percentile = 0\n",
    "N = 20\n",
    "pp_thresh = 0.05\n",
    "\n",
    "diseases2keep = ['alzheimers','parkinsons','bipolar','multiple_sclerosis','schizophrenia',\n",
    "                 'schizophrenia_nature'] #,'epilepsy']\n",
    "\n",
    "for trait in diseases2keep:\n",
    "    print(trait)\n",
    "\n",
    "    finemap_key = 'FINEMAP' if 'nature' not in trait else 'finemap_posterior_probability'\n",
    "\n",
    "    # per GWAS variant\n",
    "    combined_df = rank_disease_genes_per_variant(eval_df,trait,score_key,finemap_key=finemap_key,\n",
    "                                                 pp_thresh=pp_thresh,N=N,score_percentile=score_percentile)\n",
    "\n",
    "    file_name = '{}.{}.{}.trialranks.per_variant.credible_sets.score{}.N{}.pp{}.new.txt'.format(score_key,sampling,trait,score_percentile,N,pp_thresh)\n",
    "    combined_df.to_csv(os.path.join(save_dir,file_name),sep='\\t')"
   ]
  },
  {
   "cell_type": "code",
   "execution_count": null,
   "metadata": {},
   "outputs": [],
   "source": []
  },
  {
   "cell_type": "markdown",
   "metadata": {},
   "source": [
    "### Ranked Enrichment Results"
   ]
  },
  {
   "cell_type": "code",
   "execution_count": 15,
   "metadata": {
    "scrolled": true
   },
   "outputs": [],
   "source": [
    "# import gseapy as gp\n",
    "\n",
    "# score_key = 'graph.ranks.mean-LR-dist'\n",
    "# sorted_genes = eval_df.sort_values(score_key,ascending=False)['gene'].drop_duplicates().values\n",
    "\n",
    "# genesets2use = ['CellMarker_Augmented_2021','DisGeNET','OMIM_Disease',\n",
    "#                 'RNA-Seq_Disease_Gene_and_Drug_Signatures_from_GEO',\n",
    "#                'Jensen_DISEASES','Jensen_TISSUES','KEGG_2021_Human',\n",
    "#                 'Disease_Perturbations_from_GEO_up','Disease_Perturbations_from_GEO_down',\n",
    "#                 'GTEx_Tissue_Expression_Down','GTEx_Tissue_Expression_Up',\n",
    "#                 'OMIM_Disease','dbGaP','GO_Biological_Process_2021','GO_Molecular_Function_2021',\n",
    "#                 'GO_Cellular_Component_2021','Reactome_2016']\n",
    "\n",
    "# save_dir = '/data/cb/alexwu/mm_finemap/results/enrichment'\n",
    "\n",
    "# rnk = pd.DataFrame(sorted_genes)\n",
    "# rnk[1] = rnk.shape[0]-np.arange(rnk.shape[0])\n",
    "\n",
    "# for gene_set in genesets2use[-1:]:\n",
    "#     print(gene_set)\n",
    "#     pre_res = gp.prerank(rnk=rnk, gene_sets=gene_set,processes=8,\n",
    "#                          outdir=os.path.join(save_dir,'gsea_prerank_{}_{}'.format(gene_set,score_key)), seed=1)\n",
    "    "
   ]
  },
  {
   "cell_type": "code",
   "execution_count": null,
   "metadata": {},
   "outputs": [],
   "source": [
    "save_dir = '/data/cb/alexwu/mm_finemap/results/enrichment'\n",
    "\n",
    "results_df_list = []\n",
    "for gene_set in genesets2use:\n",
    "    \n",
    "    file_path = os.path.join(save_dir,'gsea_prerank_{}'.format(gene_set),'gseapy.prerank.gene_sets.report.csv')\n",
    "    if os.path.exists(file_path):\n",
    "        results_df = pd.read_csv(file_path)\n",
    "        results_df['gene_set'] = gene_set\n",
    "        results_df_list.append(results_df)\n",
    "        \n",
    "results_df = pd.concat(results_df_list)"
   ]
  },
  {
   "cell_type": "code",
   "execution_count": 29,
   "metadata": {
    "scrolled": true
   },
   "outputs": [
    {
     "data": {
      "text/html": [
       "<div>\n",
       "<style scoped>\n",
       "    .dataframe tbody tr th:only-of-type {\n",
       "        vertical-align: middle;\n",
       "    }\n",
       "\n",
       "    .dataframe tbody tr th {\n",
       "        vertical-align: top;\n",
       "    }\n",
       "\n",
       "    .dataframe thead th {\n",
       "        text-align: right;\n",
       "    }\n",
       "</style>\n",
       "<table border=\"1\" class=\"dataframe\">\n",
       "  <thead>\n",
       "    <tr style=\"text-align: right;\">\n",
       "      <th></th>\n",
       "      <th>Term</th>\n",
       "      <th>es</th>\n",
       "      <th>nes</th>\n",
       "      <th>pval</th>\n",
       "      <th>fdr</th>\n",
       "      <th>geneset_size</th>\n",
       "      <th>matched_size</th>\n",
       "      <th>genes</th>\n",
       "      <th>ledge_genes</th>\n",
       "      <th>gene_set</th>\n",
       "    </tr>\n",
       "  </thead>\n",
       "  <tbody>\n",
       "    <tr>\n",
       "      <th>15</th>\n",
       "      <td>purine nucleotide metabolic process (GO:0006163)</td>\n",
       "      <td>0.645126</td>\n",
       "      <td>1.843612</td>\n",
       "      <td>0.000000</td>\n",
       "      <td>0.013491</td>\n",
       "      <td>24</td>\n",
       "      <td>16</td>\n",
       "      <td>PNP;NUDT15;PPAT;ITPA;NT5C;ADSL;GDA;NT5E;GART;G...</td>\n",
       "      <td>PNP;NUDT15;PPAT;ITPA;NT5C;ADSL;GDA;NT5E</td>\n",
       "      <td>GO_Biological_Process_2021</td>\n",
       "    </tr>\n",
       "    <tr>\n",
       "      <th>16</th>\n",
       "      <td>neuronal action potential (GO:0019228)</td>\n",
       "      <td>0.636502</td>\n",
       "      <td>1.845216</td>\n",
       "      <td>0.001019</td>\n",
       "      <td>0.013969</td>\n",
       "      <td>22</td>\n",
       "      <td>17</td>\n",
       "      <td>SCN11A;SCN5A;CACNA1G;KCNMB4;KCNA2;MYH14;SCN1A;...</td>\n",
       "      <td>SCN11A;SCN5A;CACNA1G;KCNMB4;KCNA2;MYH14;SCN1A;...</td>\n",
       "      <td>GO_Biological_Process_2021</td>\n",
       "    </tr>\n",
       "    <tr>\n",
       "      <th>17</th>\n",
       "      <td>cardiac muscle cell action potential involved ...</td>\n",
       "      <td>0.611172</td>\n",
       "      <td>1.809648</td>\n",
       "      <td>0.001012</td>\n",
       "      <td>0.021379</td>\n",
       "      <td>31</td>\n",
       "      <td>19</td>\n",
       "      <td>SNTA1;SCN5A;PKP2;CACNA1G;SCN1A;CAV3;ANK2;KCNQ1...</td>\n",
       "      <td>SNTA1;SCN5A;PKP2;CACNA1G;SCN1A;CAV3;ANK2;KCNQ1</td>\n",
       "      <td>GO_Biological_Process_2021</td>\n",
       "    </tr>\n",
       "    <tr>\n",
       "      <th>18</th>\n",
       "      <td>action potential (GO:0001508)</td>\n",
       "      <td>0.563427</td>\n",
       "      <td>1.795362</td>\n",
       "      <td>0.000000</td>\n",
       "      <td>0.025778</td>\n",
       "      <td>45</td>\n",
       "      <td>31</td>\n",
       "      <td>GNA14;SCN11A;SCN5A;CACNA1G;KCNMB4;KCNA2;MYH14;...</td>\n",
       "      <td>GNA14;SCN11A;SCN5A;CACNA1G;KCNMB4;KCNA2;MYH14;...</td>\n",
       "      <td>GO_Biological_Process_2021</td>\n",
       "    </tr>\n",
       "    <tr>\n",
       "      <th>19</th>\n",
       "      <td>cardiac muscle cell action potential (GO:0086001)</td>\n",
       "      <td>0.589429</td>\n",
       "      <td>1.784577</td>\n",
       "      <td>0.001006</td>\n",
       "      <td>0.026327</td>\n",
       "      <td>30</td>\n",
       "      <td>22</td>\n",
       "      <td>HCN2;HCN4;SCN5A;PKP2;CACNA1G;SCN1A;SLC4A3;ANK2...</td>\n",
       "      <td>HCN2;HCN4;SCN5A;PKP2;CACNA1G;SCN1A;SLC4A3;ANK2...</td>\n",
       "      <td>GO_Biological_Process_2021</td>\n",
       "    </tr>\n",
       "    <tr>\n",
       "      <th>20</th>\n",
       "      <td>regulation of cardiac muscle cell contraction ...</td>\n",
       "      <td>0.582740</td>\n",
       "      <td>1.785826</td>\n",
       "      <td>0.000000</td>\n",
       "      <td>0.027117</td>\n",
       "      <td>27</td>\n",
       "      <td>23</td>\n",
       "      <td>PDE4D;ATP2A1;STC1;HCN4;SCN5A;DSC2;JUP;PKP2;DSG...</td>\n",
       "      <td>PDE4D;ATP2A1;STC1;HCN4;SCN5A;DSC2;JUP;PKP2;DSG...</td>\n",
       "      <td>GO_Biological_Process_2021</td>\n",
       "    </tr>\n",
       "    <tr>\n",
       "      <th>21</th>\n",
       "      <td>myofibril assembly (GO:0030239)</td>\n",
       "      <td>0.592742</td>\n",
       "      <td>1.786871</td>\n",
       "      <td>0.001007</td>\n",
       "      <td>0.028182</td>\n",
       "      <td>43</td>\n",
       "      <td>22</td>\n",
       "      <td>CAPN3;MYH3;CFLAR;SYNPO2L;OBSL1;FLII;PGM5;TCAP;...</td>\n",
       "      <td>CAPN3;MYH3;CFLAR;SYNPO2L;OBSL1;FLII;PGM5;TCAP;...</td>\n",
       "      <td>GO_Biological_Process_2021</td>\n",
       "    </tr>\n",
       "    <tr>\n",
       "      <th>22</th>\n",
       "      <td>regulation of mitochondrial translation (GO:00...</td>\n",
       "      <td>0.596013</td>\n",
       "      <td>1.767829</td>\n",
       "      <td>0.000000</td>\n",
       "      <td>0.031266</td>\n",
       "      <td>21</td>\n",
       "      <td>21</td>\n",
       "      <td>C1QBP;TRMT10C;COA3;TSFM;SHMT2;NSUN3;RPUSD3;MPV...</td>\n",
       "      <td>C1QBP;TRMT10C;COA3;TSFM;SHMT2;NSUN3;RPUSD3;MPV...</td>\n",
       "      <td>GO_Biological_Process_2021</td>\n",
       "    </tr>\n",
       "    <tr>\n",
       "      <th>23</th>\n",
       "      <td>regulation of viral life cycle (GO:1903900)</td>\n",
       "      <td>0.624067</td>\n",
       "      <td>1.764393</td>\n",
       "      <td>0.001028</td>\n",
       "      <td>0.031583</td>\n",
       "      <td>26</td>\n",
       "      <td>16</td>\n",
       "      <td>TRIM68;TRIM5;NECTIN2;TRIM22;AXL;TYRO3;VPS4A;TR...</td>\n",
       "      <td>TRIM68;TRIM5;NECTIN2;TRIM22;AXL;TYRO3;VPS4A</td>\n",
       "      <td>GO_Biological_Process_2021</td>\n",
       "    </tr>\n",
       "    <tr>\n",
       "      <th>24</th>\n",
       "      <td>regulation of heart rate by cardiac conduction...</td>\n",
       "      <td>0.582853</td>\n",
       "      <td>1.758190</td>\n",
       "      <td>0.000000</td>\n",
       "      <td>0.032730</td>\n",
       "      <td>39</td>\n",
       "      <td>23</td>\n",
       "      <td>HCN4;SCN5A;BIN1;DSC2;JUP;PKP2;CACNA1G;DSG2;ANK...</td>\n",
       "      <td>HCN4;SCN5A;BIN1;DSC2;JUP;PKP2;CACNA1G;DSG2;ANK...</td>\n",
       "      <td>GO_Biological_Process_2021</td>\n",
       "    </tr>\n",
       "    <tr>\n",
       "      <th>25</th>\n",
       "      <td>regulation of response to cytokine stimulus (G...</td>\n",
       "      <td>0.609902</td>\n",
       "      <td>1.740188</td>\n",
       "      <td>0.000000</td>\n",
       "      <td>0.040516</td>\n",
       "      <td>22</td>\n",
       "      <td>17</td>\n",
       "      <td>PARP9;KLF4;TAF9;RUNX1;WNT5A;IRAK2;ELF1;SH2B3;M...</td>\n",
       "      <td>PARP9;KLF4;TAF9;RUNX1;WNT5A;IRAK2;ELF1;SH2B3;MAVS</td>\n",
       "      <td>GO_Biological_Process_2021</td>\n",
       "    </tr>\n",
       "    <tr>\n",
       "      <th>26</th>\n",
       "      <td>nucleotide metabolic process (GO:0009117)</td>\n",
       "      <td>0.581701</td>\n",
       "      <td>1.733503</td>\n",
       "      <td>0.002016</td>\n",
       "      <td>0.044162</td>\n",
       "      <td>23</td>\n",
       "      <td>20</td>\n",
       "      <td>PNP;ME1;NMNAT3;AK4;AK8;NUDT5;AK5;REXO2;DCTD;CM...</td>\n",
       "      <td>PNP;ME1;NMNAT3;AK4;AK8;NUDT5;AK5;REXO2;DCTD;CM...</td>\n",
       "      <td>GO_Biological_Process_2021</td>\n",
       "    </tr>\n",
       "  </tbody>\n",
       "</table>\n",
       "</div>"
      ],
      "text/plain": [
       "                                                 Term        es       nes  \\\n",
       "15   purine nucleotide metabolic process (GO:0006163)  0.645126  1.843612   \n",
       "16             neuronal action potential (GO:0019228)  0.636502  1.845216   \n",
       "17  cardiac muscle cell action potential involved ...  0.611172  1.809648   \n",
       "18                      action potential (GO:0001508)  0.563427  1.795362   \n",
       "19  cardiac muscle cell action potential (GO:0086001)  0.589429  1.784577   \n",
       "20  regulation of cardiac muscle cell contraction ...  0.582740  1.785826   \n",
       "21                    myofibril assembly (GO:0030239)  0.592742  1.786871   \n",
       "22  regulation of mitochondrial translation (GO:00...  0.596013  1.767829   \n",
       "23        regulation of viral life cycle (GO:1903900)  0.624067  1.764393   \n",
       "24  regulation of heart rate by cardiac conduction...  0.582853  1.758190   \n",
       "25  regulation of response to cytokine stimulus (G...  0.609902  1.740188   \n",
       "26          nucleotide metabolic process (GO:0009117)  0.581701  1.733503   \n",
       "\n",
       "        pval       fdr  geneset_size  matched_size  \\\n",
       "15  0.000000  0.013491            24            16   \n",
       "16  0.001019  0.013969            22            17   \n",
       "17  0.001012  0.021379            31            19   \n",
       "18  0.000000  0.025778            45            31   \n",
       "19  0.001006  0.026327            30            22   \n",
       "20  0.000000  0.027117            27            23   \n",
       "21  0.001007  0.028182            43            22   \n",
       "22  0.000000  0.031266            21            21   \n",
       "23  0.001028  0.031583            26            16   \n",
       "24  0.000000  0.032730            39            23   \n",
       "25  0.000000  0.040516            22            17   \n",
       "26  0.002016  0.044162            23            20   \n",
       "\n",
       "                                                genes  \\\n",
       "15  PNP;NUDT15;PPAT;ITPA;NT5C;ADSL;GDA;NT5E;GART;G...   \n",
       "16  SCN11A;SCN5A;CACNA1G;KCNMB4;KCNA2;MYH14;SCN1A;...   \n",
       "17  SNTA1;SCN5A;PKP2;CACNA1G;SCN1A;CAV3;ANK2;KCNQ1...   \n",
       "18  GNA14;SCN11A;SCN5A;CACNA1G;KCNMB4;KCNA2;MYH14;...   \n",
       "19  HCN2;HCN4;SCN5A;PKP2;CACNA1G;SCN1A;SLC4A3;ANK2...   \n",
       "20  PDE4D;ATP2A1;STC1;HCN4;SCN5A;DSC2;JUP;PKP2;DSG...   \n",
       "21  CAPN3;MYH3;CFLAR;SYNPO2L;OBSL1;FLII;PGM5;TCAP;...   \n",
       "22  C1QBP;TRMT10C;COA3;TSFM;SHMT2;NSUN3;RPUSD3;MPV...   \n",
       "23  TRIM68;TRIM5;NECTIN2;TRIM22;AXL;TYRO3;VPS4A;TR...   \n",
       "24  HCN4;SCN5A;BIN1;DSC2;JUP;PKP2;CACNA1G;DSG2;ANK...   \n",
       "25  PARP9;KLF4;TAF9;RUNX1;WNT5A;IRAK2;ELF1;SH2B3;M...   \n",
       "26  PNP;ME1;NMNAT3;AK4;AK8;NUDT5;AK5;REXO2;DCTD;CM...   \n",
       "\n",
       "                                          ledge_genes  \\\n",
       "15            PNP;NUDT15;PPAT;ITPA;NT5C;ADSL;GDA;NT5E   \n",
       "16  SCN11A;SCN5A;CACNA1G;KCNMB4;KCNA2;MYH14;SCN1A;...   \n",
       "17     SNTA1;SCN5A;PKP2;CACNA1G;SCN1A;CAV3;ANK2;KCNQ1   \n",
       "18  GNA14;SCN11A;SCN5A;CACNA1G;KCNMB4;KCNA2;MYH14;...   \n",
       "19  HCN2;HCN4;SCN5A;PKP2;CACNA1G;SCN1A;SLC4A3;ANK2...   \n",
       "20  PDE4D;ATP2A1;STC1;HCN4;SCN5A;DSC2;JUP;PKP2;DSG...   \n",
       "21  CAPN3;MYH3;CFLAR;SYNPO2L;OBSL1;FLII;PGM5;TCAP;...   \n",
       "22  C1QBP;TRMT10C;COA3;TSFM;SHMT2;NSUN3;RPUSD3;MPV...   \n",
       "23        TRIM68;TRIM5;NECTIN2;TRIM22;AXL;TYRO3;VPS4A   \n",
       "24  HCN4;SCN5A;BIN1;DSC2;JUP;PKP2;CACNA1G;DSG2;ANK...   \n",
       "25  PARP9;KLF4;TAF9;RUNX1;WNT5A;IRAK2;ELF1;SH2B3;MAVS   \n",
       "26  PNP;ME1;NMNAT3;AK4;AK8;NUDT5;AK5;REXO2;DCTD;CM...   \n",
       "\n",
       "                      gene_set  \n",
       "15  GO_Biological_Process_2021  \n",
       "16  GO_Biological_Process_2021  \n",
       "17  GO_Biological_Process_2021  \n",
       "18  GO_Biological_Process_2021  \n",
       "19  GO_Biological_Process_2021  \n",
       "20  GO_Biological_Process_2021  \n",
       "21  GO_Biological_Process_2021  \n",
       "22  GO_Biological_Process_2021  \n",
       "23  GO_Biological_Process_2021  \n",
       "24  GO_Biological_Process_2021  \n",
       "25  GO_Biological_Process_2021  \n",
       "26  GO_Biological_Process_2021  "
      ]
     },
     "execution_count": 29,
     "metadata": {},
     "output_type": "execute_result"
    }
   ],
   "source": [
    "gene_set = 'GO_Biological_Process_2021'\n",
    "\n",
    "results_df[(results_df['fdr'] < 0.05) & (results_df['gene_set'] == gene_set) & (results_df['es'] > 0)]"
   ]
  },
  {
   "cell_type": "code",
   "execution_count": 31,
   "metadata": {
    "scrolled": true
   },
   "outputs": [
    {
     "data": {
      "text/plain": [
       "array(['Fc receptor mediated stimulatory signaling pathway (GO:0002431)',\n",
       "       'Fc-gamma receptor signaling pathway (GO:0038094)',\n",
       "       'Fc-gamma receptor signaling pathway involved in phagocytosis (GO:0038096)',\n",
       "       'SRP-dependent cotranslational protein targeting to membrane (GO:0006614)',\n",
       "       'axonal transport (GO:0098930)',\n",
       "       'cotranslational protein targeting to membrane (GO:0006613)',\n",
       "       'cytoplasmic translation (GO:0002181)',\n",
       "       'negative regulation of cell cycle G2/M phase transition (GO:1902750)',\n",
       "       'negative regulation of cysteine-type endopeptidase activity involved in apoptotic process (GO:0043154)',\n",
       "       'nuclear-transcribed mRNA catabolic process (GO:0000956)',\n",
       "       'nuclear-transcribed mRNA catabolic process, nonsense-mediated decay (GO:0000184)',\n",
       "       'positive regulation of TOR signaling (GO:0032008)',\n",
       "       'regulation of alternative mRNA splicing, via spliceosome (GO:0000381)',\n",
       "       'regulation of cellular amine metabolic process (GO:0033238)',\n",
       "       'regulation of exit from mitosis (GO:0007096)',\n",
       "       'purine nucleotide metabolic process (GO:0006163)',\n",
       "       'neuronal action potential (GO:0019228)',\n",
       "       'cardiac muscle cell action potential involved in contraction (GO:0086002)',\n",
       "       'action potential (GO:0001508)',\n",
       "       'cardiac muscle cell action potential (GO:0086001)',\n",
       "       'regulation of cardiac muscle cell contraction (GO:0086004)',\n",
       "       'myofibril assembly (GO:0030239)',\n",
       "       'regulation of mitochondrial translation (GO:0070129)',\n",
       "       'regulation of viral life cycle (GO:1903900)',\n",
       "       'regulation of heart rate by cardiac conduction (GO:0086091)',\n",
       "       'regulation of response to cytokine stimulus (GO:0060759)',\n",
       "       'nucleotide metabolic process (GO:0009117)'], dtype=object)"
      ]
     },
     "execution_count": 31,
     "metadata": {},
     "output_type": "execute_result"
    }
   ],
   "source": [
    "gene_set = 'GO_Biological_Process_2021'\n",
    "\n",
    "results_df[(results_df['fdr'] < 0.05) & (results_df['gene_set'] == gene_set)]['Term'].values"
   ]
  },
  {
   "cell_type": "code",
   "execution_count": null,
   "metadata": {},
   "outputs": [],
   "source": []
  },
  {
   "cell_type": "code",
   "execution_count": null,
   "metadata": {},
   "outputs": [],
   "source": [
    "# interesting enrichment terms\n",
    "\n",
    "'Lake Et al.Science.Ex7:Brain','Lake Et al.Science.In1:Brain','Neuronal Progenitor cell:Undefined'\n",
    "\n",
    "[ 'neuronal action potential (GO:0019228)',\n",
    "       'cardiac muscle cell action potential involved in contraction (GO:0086002)',\n",
    "       'action potential (GO:0001508)',\n",
    "       'cardiac muscle cell action potential (GO:0086001)',\n",
    "       'regulation of cardiac muscle cell contraction (GO:0086004)',\n",
    "       'myofibril assembly (GO:0030239)']"
   ]
  },
  {
   "cell_type": "code",
   "execution_count": null,
   "metadata": {},
   "outputs": [],
   "source": []
  },
  {
   "cell_type": "markdown",
   "metadata": {},
   "source": [
    "## Disease Gene Enrichment"
   ]
  },
  {
   "cell_type": "code",
   "execution_count": 31,
   "metadata": {},
   "outputs": [
    {
     "name": "stdout",
     "output_type": "stream",
     "text": [
      "alzheimers\n"
     ]
    },
    {
     "name": "stderr",
     "output_type": "stream",
     "text": [
      "2022-06-11 20:24:00,236 Warning: No enrich terms using library CellMarker_Augmented_2021 when cutoff = 0.05\n",
      "2022-06-11 20:24:04,568 Warning: No enrich terms using library RNA-Seq_Disease_Gene_and_Drug_Signatures_from_GEO when cutoff = 0.05\n",
      "2022-06-11 20:24:07,410 Warning: No enrich terms using library Jensen_TISSUES when cutoff = 0.05\n",
      "2022-06-11 20:24:08,691 Warning: No enrich terms using library KEGG_2021_Human when cutoff = 0.05\n",
      "2022-06-11 20:24:09,994 Warning: No enrich terms using library Disease_Perturbations_from_GEO_up when cutoff = 0.05\n",
      "2022-06-11 20:24:11,289 Warning: No enrich terms using library Disease_Perturbations_from_GEO_down when cutoff = 0.05\n",
      "2022-06-11 20:24:12,646 Warning: No enrich terms using library GTEx_Tissue_Expression_Down when cutoff = 0.05\n",
      "2022-06-11 20:24:14,014 Warning: No enrich terms using library GTEx_Tissue_Expression_Up when cutoff = 0.05\n"
     ]
    },
    {
     "name": "stdout",
     "output_type": "stream",
     "text": [
      "parkinsons\n"
     ]
    },
    {
     "name": "stderr",
     "output_type": "stream",
     "text": [
      "2022-06-11 20:24:23,308 Warning: No enrich terms using library CellMarker_Augmented_2021 when cutoff = 0.05\n",
      "2022-06-11 20:24:24,595 Warning: No enrich terms using library DisGeNET when cutoff = 0.05\n",
      "2022-06-11 20:24:25,867 Warning: No enrich terms using library OMIM_Disease when cutoff = 0.05\n",
      "2022-06-11 20:24:27,156 Warning: No enrich terms using library RNA-Seq_Disease_Gene_and_Drug_Signatures_from_GEO when cutoff = 0.05\n",
      "2022-06-11 20:24:29,927 Warning: No enrich terms using library Jensen_TISSUES when cutoff = 0.05\n",
      "2022-06-11 20:24:31,198 Warning: No enrich terms using library KEGG_2021_Human when cutoff = 0.05\n",
      "2022-06-11 20:24:32,467 Warning: No enrich terms using library Disease_Perturbations_from_GEO_up when cutoff = 0.05\n",
      "2022-06-11 20:24:33,732 Warning: No enrich terms using library Disease_Perturbations_from_GEO_down when cutoff = 0.05\n",
      "2022-06-11 20:24:35,036 Warning: No enrich terms using library GTEx_Tissue_Expression_Down when cutoff = 0.05\n",
      "2022-06-11 20:24:36,362 Warning: No enrich terms using library GTEx_Tissue_Expression_Up when cutoff = 0.05\n",
      "2022-06-11 20:24:37,638 Warning: No enrich terms using library OMIM_Disease when cutoff = 0.05\n",
      "2022-06-11 20:24:38,908 Warning: No enrich terms using library dbGaP when cutoff = 0.05\n",
      "2022-06-11 20:24:43,220 Warning: No enrich terms using library GO_Cellular_Component_2021 when cutoff = 0.05\n"
     ]
    },
    {
     "name": "stdout",
     "output_type": "stream",
     "text": [
      "bipolar\n"
     ]
    },
    {
     "name": "stderr",
     "output_type": "stream",
     "text": [
      "2022-06-11 20:24:44,644 Warning: No enrich terms using library CellMarker_Augmented_2021 when cutoff = 0.05\n",
      "2022-06-11 20:24:47,392 Warning: No enrich terms using library OMIM_Disease when cutoff = 0.05\n",
      "2022-06-11 20:24:48,687 Warning: No enrich terms using library RNA-Seq_Disease_Gene_and_Drug_Signatures_from_GEO when cutoff = 0.05\n",
      "2022-06-11 20:24:51,503 Warning: No enrich terms using library Jensen_TISSUES when cutoff = 0.05\n",
      "2022-06-11 20:24:52,780 Warning: No enrich terms using library KEGG_2021_Human when cutoff = 0.05\n",
      "2022-06-11 20:24:54,056 Warning: No enrich terms using library Disease_Perturbations_from_GEO_up when cutoff = 0.05\n",
      "2022-06-11 20:24:55,354 Warning: No enrich terms using library Disease_Perturbations_from_GEO_down when cutoff = 0.05\n",
      "2022-06-11 20:24:56,687 Warning: No enrich terms using library GTEx_Tissue_Expression_Down when cutoff = 0.05\n",
      "2022-06-11 20:24:58,033 Warning: No enrich terms using library GTEx_Tissue_Expression_Up when cutoff = 0.05\n",
      "2022-06-11 20:24:59,309 Warning: No enrich terms using library OMIM_Disease when cutoff = 0.05\n",
      "2022-06-11 20:25:00,585 Warning: No enrich terms using library dbGaP when cutoff = 0.05\n"
     ]
    },
    {
     "name": "stdout",
     "output_type": "stream",
     "text": [
      "multiple_sclerosis\n"
     ]
    },
    {
     "name": "stderr",
     "output_type": "stream",
     "text": [
      "2022-06-11 20:25:06,655 Warning: No enrich terms using library CellMarker_Augmented_2021 when cutoff = 0.05\n",
      "2022-06-11 20:25:07,983 Warning: No enrich terms using library DisGeNET when cutoff = 0.05\n",
      "2022-06-11 20:25:09,275 Warning: No enrich terms using library OMIM_Disease when cutoff = 0.05\n",
      "2022-06-11 20:25:10,595 Warning: No enrich terms using library RNA-Seq_Disease_Gene_and_Drug_Signatures_from_GEO when cutoff = 0.05\n",
      "2022-06-11 20:25:13,392 Warning: No enrich terms using library Jensen_TISSUES when cutoff = 0.05\n",
      "2022-06-11 20:25:14,704 Warning: No enrich terms using library KEGG_2021_Human when cutoff = 0.05\n",
      "2022-06-11 20:25:16,034 Warning: No enrich terms using library Disease_Perturbations_from_GEO_up when cutoff = 0.05\n",
      "2022-06-11 20:25:17,356 Warning: No enrich terms using library Disease_Perturbations_from_GEO_down when cutoff = 0.05\n",
      "2022-06-11 20:25:18,737 Warning: No enrich terms using library GTEx_Tissue_Expression_Down when cutoff = 0.05\n",
      "2022-06-11 20:25:20,156 Warning: No enrich terms using library GTEx_Tissue_Expression_Up when cutoff = 0.05\n",
      "2022-06-11 20:25:21,460 Warning: No enrich terms using library OMIM_Disease when cutoff = 0.05\n",
      "2022-06-11 20:25:24,373 Warning: No enrich terms using library GO_Biological_Process_2021 when cutoff = 0.05\n",
      "2022-06-11 20:25:25,681 Warning: No enrich terms using library GO_Molecular_Function_2021 when cutoff = 0.05\n",
      "2022-06-11 20:25:26,980 Warning: No enrich terms using library GO_Cellular_Component_2021 when cutoff = 0.05\n"
     ]
    },
    {
     "name": "stdout",
     "output_type": "stream",
     "text": [
      "schizophrenia_nature\n"
     ]
    },
    {
     "name": "stderr",
     "output_type": "stream",
     "text": [
      "2022-06-11 20:25:28,660 Warning: No enrich terms using library CellMarker_Augmented_2021 when cutoff = 0.05\n",
      "2022-06-11 20:25:33,403 Warning: No enrich terms using library RNA-Seq_Disease_Gene_and_Drug_Signatures_from_GEO when cutoff = 0.05\n",
      "2022-06-11 20:25:36,439 Warning: No enrich terms using library Jensen_TISSUES when cutoff = 0.05\n",
      "2022-06-11 20:25:37,854 Warning: No enrich terms using library KEGG_2021_Human when cutoff = 0.05\n",
      "2022-06-11 20:25:39,300 Warning: No enrich terms using library Disease_Perturbations_from_GEO_up when cutoff = 0.05\n",
      "2022-06-11 20:25:40,747 Warning: No enrich terms using library Disease_Perturbations_from_GEO_down when cutoff = 0.05\n",
      "2022-06-11 20:25:42,315 Warning: No enrich terms using library GTEx_Tissue_Expression_Down when cutoff = 0.05\n",
      "2022-06-11 20:25:43,879 Warning: No enrich terms using library GTEx_Tissue_Expression_Up when cutoff = 0.05\n",
      "2022-06-11 20:25:46,886 Warning: No enrich terms using library dbGaP when cutoff = 0.05\n",
      "2022-06-11 20:25:48,351 Warning: No enrich terms using library GO_Biological_Process_2021 when cutoff = 0.05\n",
      "2022-06-11 20:25:49,776 Warning: No enrich terms using library GO_Molecular_Function_2021 when cutoff = 0.05\n",
      "2022-06-11 20:25:51,206 Warning: No enrich terms using library GO_Cellular_Component_2021 when cutoff = 0.05\n"
     ]
    },
    {
     "name": "stdout",
     "output_type": "stream",
     "text": [
      "alzheimers\n"
     ]
    },
    {
     "name": "stderr",
     "output_type": "stream",
     "text": [
      "2022-06-11 20:25:52,683 Warning: No enrich terms using library CellMarker_Augmented_2021 when cutoff = 0.05\n",
      "2022-06-11 20:25:57,001 Warning: No enrich terms using library RNA-Seq_Disease_Gene_and_Drug_Signatures_from_GEO when cutoff = 0.05\n",
      "2022-06-11 20:26:00,002 Warning: No enrich terms using library Jensen_TISSUES when cutoff = 0.05\n",
      "2022-06-11 20:26:01,293 Warning: No enrich terms using library KEGG_2021_Human when cutoff = 0.05\n",
      "2022-06-11 20:26:02,582 Warning: No enrich terms using library Disease_Perturbations_from_GEO_up when cutoff = 0.05\n",
      "2022-06-11 20:26:03,876 Warning: No enrich terms using library Disease_Perturbations_from_GEO_down when cutoff = 0.05\n",
      "2022-06-11 20:26:05,214 Warning: No enrich terms using library GTEx_Tissue_Expression_Down when cutoff = 0.05\n"
     ]
    },
    {
     "name": "stdout",
     "output_type": "stream",
     "text": [
      "parkinsons\n"
     ]
    },
    {
     "name": "stderr",
     "output_type": "stream",
     "text": [
      "2022-06-11 20:26:18,780 Warning: No enrich terms using library OMIM_Disease when cutoff = 0.05\n",
      "2022-06-11 20:26:23,028 Warning: No enrich terms using library Jensen_TISSUES when cutoff = 0.05\n",
      "2022-06-11 20:26:24,303 Warning: No enrich terms using library KEGG_2021_Human when cutoff = 0.05\n",
      "2022-06-11 20:26:25,575 Warning: No enrich terms using library Disease_Perturbations_from_GEO_up when cutoff = 0.05\n",
      "2022-06-11 20:26:26,850 Warning: No enrich terms using library Disease_Perturbations_from_GEO_down when cutoff = 0.05\n",
      "2022-06-11 20:26:28,136 Warning: No enrich terms using library GTEx_Tissue_Expression_Down when cutoff = 0.05\n",
      "2022-06-11 20:26:29,445 Warning: No enrich terms using library GTEx_Tissue_Expression_Up when cutoff = 0.05\n",
      "2022-06-11 20:26:30,712 Warning: No enrich terms using library OMIM_Disease when cutoff = 0.05\n",
      "2022-06-11 20:26:31,982 Warning: No enrich terms using library dbGaP when cutoff = 0.05\n",
      "2022-06-11 20:26:33,260 Warning: No enrich terms using library GO_Biological_Process_2021 when cutoff = 0.05\n",
      "2022-06-11 20:26:35,988 Warning: No enrich terms using library GO_Cellular_Component_2021 when cutoff = 0.05\n"
     ]
    },
    {
     "name": "stdout",
     "output_type": "stream",
     "text": [
      "bipolar\n"
     ]
    },
    {
     "name": "stderr",
     "output_type": "stream",
     "text": [
      "2022-06-11 20:26:37,396 Warning: No enrich terms using library CellMarker_Augmented_2021 when cutoff = 0.05\n",
      "2022-06-11 20:26:40,237 Warning: No enrich terms using library OMIM_Disease when cutoff = 0.05\n",
      "2022-06-11 20:26:41,525 Warning: No enrich terms using library RNA-Seq_Disease_Gene_and_Drug_Signatures_from_GEO when cutoff = 0.05\n",
      "2022-06-11 20:26:44,248 Warning: No enrich terms using library Jensen_TISSUES when cutoff = 0.05\n",
      "2022-06-11 20:26:47,068 Warning: No enrich terms using library Disease_Perturbations_from_GEO_up when cutoff = 0.05\n",
      "2022-06-11 20:26:48,337 Warning: No enrich terms using library Disease_Perturbations_from_GEO_down when cutoff = 0.05\n",
      "2022-06-11 20:26:49,649 Warning: No enrich terms using library GTEx_Tissue_Expression_Down when cutoff = 0.05\n",
      "2022-06-11 20:26:50,961 Warning: No enrich terms using library GTEx_Tissue_Expression_Up when cutoff = 0.05\n",
      "2022-06-11 20:26:52,231 Warning: No enrich terms using library OMIM_Disease when cutoff = 0.05\n"
     ]
    },
    {
     "name": "stdout",
     "output_type": "stream",
     "text": [
      "multiple_sclerosis\n"
     ]
    },
    {
     "name": "stderr",
     "output_type": "stream",
     "text": [
      "2022-06-11 20:26:59,834 Warning: No enrich terms using library CellMarker_Augmented_2021 when cutoff = 0.05\n",
      "2022-06-11 20:27:01,131 Warning: No enrich terms using library DisGeNET when cutoff = 0.05\n",
      "2022-06-11 20:27:02,420 Warning: No enrich terms using library OMIM_Disease when cutoff = 0.05\n",
      "2022-06-11 20:27:03,746 Warning: No enrich terms using library RNA-Seq_Disease_Gene_and_Drug_Signatures_from_GEO when cutoff = 0.05\n",
      "2022-06-11 20:27:06,598 Warning: No enrich terms using library Jensen_TISSUES when cutoff = 0.05\n",
      "2022-06-11 20:27:07,905 Warning: No enrich terms using library KEGG_2021_Human when cutoff = 0.05\n",
      "2022-06-11 20:27:09,211 Warning: No enrich terms using library Disease_Perturbations_from_GEO_up when cutoff = 0.05\n",
      "2022-06-11 20:27:10,510 Warning: No enrich terms using library Disease_Perturbations_from_GEO_down when cutoff = 0.05\n",
      "2022-06-11 20:27:11,882 Warning: No enrich terms using library GTEx_Tissue_Expression_Down when cutoff = 0.05\n",
      "2022-06-11 20:27:13,260 Warning: No enrich terms using library GTEx_Tissue_Expression_Up when cutoff = 0.05\n",
      "2022-06-11 20:27:14,558 Warning: No enrich terms using library OMIM_Disease when cutoff = 0.05\n",
      "2022-06-11 20:27:17,375 Warning: No enrich terms using library GO_Biological_Process_2021 when cutoff = 0.05\n",
      "2022-06-11 20:27:18,655 Warning: No enrich terms using library GO_Molecular_Function_2021 when cutoff = 0.05\n",
      "2022-06-11 20:27:19,948 Warning: No enrich terms using library GO_Cellular_Component_2021 when cutoff = 0.05\n"
     ]
    },
    {
     "name": "stdout",
     "output_type": "stream",
     "text": [
      "schizophrenia_nature\n"
     ]
    },
    {
     "name": "stderr",
     "output_type": "stream",
     "text": [
      "2022-06-11 20:27:21,431 Warning: No enrich terms using library CellMarker_Augmented_2021 when cutoff = 0.05\n",
      "2022-06-11 20:27:22,840 Warning: No enrich terms using library DisGeNET when cutoff = 0.05\n",
      "2022-06-11 20:27:24,180 Warning: No enrich terms using library OMIM_Disease when cutoff = 0.05\n",
      "2022-06-11 20:27:25,580 Warning: No enrich terms using library RNA-Seq_Disease_Gene_and_Drug_Signatures_from_GEO when cutoff = 0.05\n",
      "2022-06-11 20:27:26,943 Warning: No enrich terms using library Jensen_DISEASES when cutoff = 0.05\n",
      "2022-06-11 20:27:28,316 Warning: No enrich terms using library Jensen_TISSUES when cutoff = 0.05\n",
      "2022-06-11 20:27:29,733 Warning: No enrich terms using library KEGG_2021_Human when cutoff = 0.05\n",
      "2022-06-11 20:27:31,108 Warning: No enrich terms using library Disease_Perturbations_from_GEO_up when cutoff = 0.05\n",
      "2022-06-11 20:27:32,480 Warning: No enrich terms using library Disease_Perturbations_from_GEO_down when cutoff = 0.05\n",
      "2022-06-11 20:27:33,949 Warning: No enrich terms using library GTEx_Tissue_Expression_Down when cutoff = 0.05\n",
      "2022-06-11 20:27:35,433 Warning: No enrich terms using library GTEx_Tissue_Expression_Up when cutoff = 0.05\n",
      "2022-06-11 20:27:36,784 Warning: No enrich terms using library OMIM_Disease when cutoff = 0.05\n",
      "2022-06-11 20:27:39,687 Warning: No enrich terms using library GO_Biological_Process_2021 when cutoff = 0.05\n",
      "2022-06-11 20:27:41,038 Warning: No enrich terms using library GO_Molecular_Function_2021 when cutoff = 0.05\n",
      "2022-06-11 20:27:42,380 Warning: No enrich terms using library GO_Cellular_Component_2021 when cutoff = 0.05\n"
     ]
    },
    {
     "name": "stdout",
     "output_type": "stream",
     "text": [
      "alzheimers\n"
     ]
    },
    {
     "name": "stderr",
     "output_type": "stream",
     "text": [
      "2022-06-11 20:27:46,969 Warning: No enrich terms using library OMIM_Disease when cutoff = 0.05\n",
      "2022-06-11 20:27:48,260 Warning: No enrich terms using library RNA-Seq_Disease_Gene_and_Drug_Signatures_from_GEO when cutoff = 0.05\n",
      "2022-06-11 20:27:51,091 Warning: No enrich terms using library Jensen_TISSUES when cutoff = 0.05\n",
      "2022-06-11 20:27:52,361 Warning: No enrich terms using library KEGG_2021_Human when cutoff = 0.05\n",
      "2022-06-11 20:27:53,655 Warning: No enrich terms using library Disease_Perturbations_from_GEO_up when cutoff = 0.05\n",
      "2022-06-11 20:27:56,476 Warning: No enrich terms using library GTEx_Tissue_Expression_Down when cutoff = 0.05\n",
      "2022-06-11 20:27:57,812 Warning: No enrich terms using library GTEx_Tissue_Expression_Up when cutoff = 0.05\n",
      "2022-06-11 20:27:59,092 Warning: No enrich terms using library OMIM_Disease when cutoff = 0.05\n"
     ]
    },
    {
     "name": "stdout",
     "output_type": "stream",
     "text": [
      "parkinsons\n"
     ]
    },
    {
     "name": "stderr",
     "output_type": "stream",
     "text": [
      "2022-06-11 20:28:09,668 Warning: No enrich terms using library OMIM_Disease when cutoff = 0.05\n",
      "2022-06-11 20:28:15,696 Warning: No enrich terms using library KEGG_2021_Human when cutoff = 0.05\n",
      "2022-06-11 20:28:20,137 Warning: No enrich terms using library GTEx_Tissue_Expression_Down when cutoff = 0.05\n",
      "2022-06-11 20:28:21,424 Warning: No enrich terms using library GTEx_Tissue_Expression_Up when cutoff = 0.05\n",
      "2022-06-11 20:28:22,692 Warning: No enrich terms using library OMIM_Disease when cutoff = 0.05\n",
      "2022-06-11 20:28:23,963 Warning: No enrich terms using library dbGaP when cutoff = 0.05\n",
      "2022-06-11 20:28:25,241 Warning: No enrich terms using library GO_Biological_Process_2021 when cutoff = 0.05\n",
      "2022-06-11 20:28:27,964 Warning: No enrich terms using library GO_Cellular_Component_2021 when cutoff = 0.05\n"
     ]
    },
    {
     "name": "stdout",
     "output_type": "stream",
     "text": [
      "bipolar\n"
     ]
    },
    {
     "name": "stderr",
     "output_type": "stream",
     "text": [
      "2022-06-11 20:28:29,368 Warning: No enrich terms using library CellMarker_Augmented_2021 when cutoff = 0.05\n",
      "2022-06-11 20:28:32,192 Warning: No enrich terms using library OMIM_Disease when cutoff = 0.05\n",
      "2022-06-11 20:28:33,469 Warning: No enrich terms using library RNA-Seq_Disease_Gene_and_Drug_Signatures_from_GEO when cutoff = 0.05\n",
      "2022-06-11 20:28:34,738 Warning: No enrich terms using library Jensen_DISEASES when cutoff = 0.05\n",
      "2022-06-11 20:28:36,009 Warning: No enrich terms using library Jensen_TISSUES when cutoff = 0.05\n",
      "2022-06-11 20:28:38,742 Warning: No enrich terms using library Disease_Perturbations_from_GEO_up when cutoff = 0.05\n",
      "2022-06-11 20:28:40,016 Warning: No enrich terms using library Disease_Perturbations_from_GEO_down when cutoff = 0.05\n",
      "2022-06-11 20:28:41,302 Warning: No enrich terms using library GTEx_Tissue_Expression_Down when cutoff = 0.05\n",
      "2022-06-11 20:28:42,583 Warning: No enrich terms using library GTEx_Tissue_Expression_Up when cutoff = 0.05\n",
      "2022-06-11 20:28:43,863 Warning: No enrich terms using library OMIM_Disease when cutoff = 0.05\n",
      "2022-06-11 20:28:45,121 Warning: No enrich terms using library dbGaP when cutoff = 0.05\n"
     ]
    },
    {
     "name": "stdout",
     "output_type": "stream",
     "text": [
      "multiple_sclerosis\n"
     ]
    },
    {
     "name": "stderr",
     "output_type": "stream",
     "text": [
      "2022-06-11 20:28:51,049 Warning: No enrich terms using library CellMarker_Augmented_2021 when cutoff = 0.05\n",
      "2022-06-11 20:28:52,347 Warning: No enrich terms using library DisGeNET when cutoff = 0.05\n",
      "2022-06-11 20:28:53,629 Warning: No enrich terms using library OMIM_Disease when cutoff = 0.05\n",
      "2022-06-11 20:28:54,937 Warning: No enrich terms using library RNA-Seq_Disease_Gene_and_Drug_Signatures_from_GEO when cutoff = 0.05\n",
      "2022-06-11 20:28:57,739 Warning: No enrich terms using library Jensen_TISSUES when cutoff = 0.05\n",
      "2022-06-11 20:28:59,015 Warning: No enrich terms using library KEGG_2021_Human when cutoff = 0.05\n",
      "2022-06-11 20:29:00,313 Warning: No enrich terms using library Disease_Perturbations_from_GEO_up when cutoff = 0.05\n",
      "2022-06-11 20:29:01,607 Warning: No enrich terms using library Disease_Perturbations_from_GEO_down when cutoff = 0.05\n",
      "2022-06-11 20:29:02,968 Warning: No enrich terms using library GTEx_Tissue_Expression_Down when cutoff = 0.05\n",
      "2022-06-11 20:29:04,324 Warning: No enrich terms using library GTEx_Tissue_Expression_Up when cutoff = 0.05\n",
      "2022-06-11 20:29:05,600 Warning: No enrich terms using library OMIM_Disease when cutoff = 0.05\n",
      "2022-06-11 20:29:08,419 Warning: No enrich terms using library GO_Biological_Process_2021 when cutoff = 0.05\n",
      "2022-06-11 20:29:09,694 Warning: No enrich terms using library GO_Molecular_Function_2021 when cutoff = 0.05\n"
     ]
    },
    {
     "name": "stdout",
     "output_type": "stream",
     "text": [
      "schizophrenia_nature\n"
     ]
    },
    {
     "name": "stderr",
     "output_type": "stream",
     "text": [
      "2022-06-11 20:29:12,608 Warning: No enrich terms using library CellMarker_Augmented_2021 when cutoff = 0.05\n",
      "2022-06-11 20:29:13,966 Warning: No enrich terms using library DisGeNET when cutoff = 0.05\n",
      "2022-06-11 20:29:15,275 Warning: No enrich terms using library OMIM_Disease when cutoff = 0.05\n",
      "2022-06-11 20:29:16,633 Warning: No enrich terms using library RNA-Seq_Disease_Gene_and_Drug_Signatures_from_GEO when cutoff = 0.05\n",
      "2022-06-11 20:29:17,946 Warning: No enrich terms using library Jensen_DISEASES when cutoff = 0.05\n",
      "2022-06-11 20:29:19,269 Warning: No enrich terms using library Jensen_TISSUES when cutoff = 0.05\n",
      "2022-06-11 20:29:20,581 Warning: No enrich terms using library KEGG_2021_Human when cutoff = 0.05\n",
      "2022-06-11 20:29:21,910 Warning: No enrich terms using library Disease_Perturbations_from_GEO_up when cutoff = 0.05\n",
      "2022-06-11 20:29:23,237 Warning: No enrich terms using library Disease_Perturbations_from_GEO_down when cutoff = 0.05\n",
      "2022-06-11 20:29:24,646 Warning: No enrich terms using library GTEx_Tissue_Expression_Down when cutoff = 0.05\n",
      "2022-06-11 20:29:26,083 Warning: No enrich terms using library GTEx_Tissue_Expression_Up when cutoff = 0.05\n",
      "2022-06-11 20:29:27,400 Warning: No enrich terms using library OMIM_Disease when cutoff = 0.05\n",
      "2022-06-11 20:29:31,793 Warning: No enrich terms using library GO_Molecular_Function_2021 when cutoff = 0.05\n",
      "2022-06-11 20:29:33,106 Warning: No enrich terms using library GO_Cellular_Component_2021 when cutoff = 0.05\n"
     ]
    },
    {
     "name": "stdout",
     "output_type": "stream",
     "text": [
      "alzheimers\n"
     ]
    },
    {
     "name": "stderr",
     "output_type": "stream",
     "text": [
      "2022-06-11 20:29:37,664 Warning: No enrich terms using library OMIM_Disease when cutoff = 0.05\n",
      "2022-06-11 20:29:42,248 Warning: No enrich terms using library Jensen_TISSUES when cutoff = 0.05\n",
      "2022-06-11 20:29:46,439 Warning: No enrich terms using library Disease_Perturbations_from_GEO_down when cutoff = 0.05\n",
      "2022-06-11 20:29:47,760 Warning: No enrich terms using library GTEx_Tissue_Expression_Down when cutoff = 0.05\n",
      "2022-06-11 20:29:49,080 Warning: No enrich terms using library GTEx_Tissue_Expression_Up when cutoff = 0.05\n",
      "2022-06-11 20:29:50,350 Warning: No enrich terms using library OMIM_Disease when cutoff = 0.05\n"
     ]
    },
    {
     "name": "stdout",
     "output_type": "stream",
     "text": [
      "parkinsons\n"
     ]
    },
    {
     "name": "stderr",
     "output_type": "stream",
     "text": [
      "2022-06-11 20:30:00,823 Warning: No enrich terms using library OMIM_Disease when cutoff = 0.05\n",
      "2022-06-11 20:30:06,670 Warning: No enrich terms using library KEGG_2021_Human when cutoff = 0.05\n",
      "2022-06-11 20:30:11,094 Warning: No enrich terms using library GTEx_Tissue_Expression_Down when cutoff = 0.05\n",
      "2022-06-11 20:30:12,383 Warning: No enrich terms using library GTEx_Tissue_Expression_Up when cutoff = 0.05\n",
      "2022-06-11 20:30:13,653 Warning: No enrich terms using library OMIM_Disease when cutoff = 0.05\n",
      "2022-06-11 20:30:14,932 Warning: No enrich terms using library dbGaP when cutoff = 0.05\n",
      "2022-06-11 20:30:16,209 Warning: No enrich terms using library GO_Biological_Process_2021 when cutoff = 0.05\n",
      "2022-06-11 20:30:18,944 Warning: No enrich terms using library GO_Cellular_Component_2021 when cutoff = 0.05\n"
     ]
    },
    {
     "name": "stdout",
     "output_type": "stream",
     "text": [
      "multiple_sclerosis\n"
     ]
    },
    {
     "name": "stderr",
     "output_type": "stream",
     "text": [
      "2022-06-11 20:30:20,357 Warning: No enrich terms using library CellMarker_Augmented_2021 when cutoff = 0.05\n",
      "2022-06-11 20:30:23,109 Warning: No enrich terms using library OMIM_Disease when cutoff = 0.05\n",
      "2022-06-11 20:30:27,552 Warning: No enrich terms using library Jensen_TISSUES when cutoff = 0.05\n",
      "2022-06-11 20:30:28,835 Warning: No enrich terms using library KEGG_2021_Human when cutoff = 0.05\n",
      "2022-06-11 20:30:30,138 Warning: No enrich terms using library Disease_Perturbations_from_GEO_up when cutoff = 0.05\n",
      "2022-06-11 20:30:31,429 Warning: No enrich terms using library Disease_Perturbations_from_GEO_down when cutoff = 0.05\n",
      "2022-06-11 20:30:32,768 Warning: No enrich terms using library GTEx_Tissue_Expression_Down when cutoff = 0.05\n",
      "2022-06-11 20:30:34,106 Warning: No enrich terms using library GTEx_Tissue_Expression_Up when cutoff = 0.05\n",
      "2022-06-11 20:30:35,386 Warning: No enrich terms using library OMIM_Disease when cutoff = 0.05\n",
      "2022-06-11 20:30:39,762 Warning: No enrich terms using library GO_Molecular_Function_2021 when cutoff = 0.05\n"
     ]
    },
    {
     "name": "stdout",
     "output_type": "stream",
     "text": [
      "schizophrenia_nature\n"
     ]
    },
    {
     "name": "stderr",
     "output_type": "stream",
     "text": [
      "2022-06-11 20:30:45,677 Warning: No enrich terms using library OMIM_Disease when cutoff = 0.05\n",
      "2022-06-11 20:30:50,075 Warning: No enrich terms using library Jensen_TISSUES when cutoff = 0.05\n",
      "2022-06-11 20:30:51,373 Warning: No enrich terms using library KEGG_2021_Human when cutoff = 0.05\n",
      "2022-06-11 20:30:52,683 Warning: No enrich terms using library Disease_Perturbations_from_GEO_up when cutoff = 0.05\n",
      "2022-06-11 20:30:53,989 Warning: No enrich terms using library Disease_Perturbations_from_GEO_down when cutoff = 0.05\n",
      "2022-06-11 20:30:55,364 Warning: No enrich terms using library GTEx_Tissue_Expression_Down when cutoff = 0.05\n",
      "2022-06-11 20:30:56,746 Warning: No enrich terms using library GTEx_Tissue_Expression_Up when cutoff = 0.05\n",
      "2022-06-11 20:30:58,040 Warning: No enrich terms using library OMIM_Disease when cutoff = 0.05\n",
      "2022-06-11 20:31:02,339 Warning: No enrich terms using library GO_Molecular_Function_2021 when cutoff = 0.05\n",
      "2022-06-11 20:31:03,636 Warning: No enrich terms using library GO_Cellular_Component_2021 when cutoff = 0.05\n"
     ]
    }
   ],
   "source": [
    "import gseapy as gp\n",
    "from collections import Counter\n",
    "\n",
    "score_key = 'graph.ranks.mean-LR-dist'\n",
    "\n",
    "background_genes = list(set(eval_df['gene']))\n",
    "\n",
    "# gene set enrichment\n",
    "genesets2use = ['CellMarker_Augmented_2021','DisGeNET','OMIM_Disease',\n",
    "                'RNA-Seq_Disease_Gene_and_Drug_Signatures_from_GEO',\n",
    "               'Jensen_DISEASES','Jensen_TISSUES','KEGG_2021_Human',\n",
    "                'Disease_Perturbations_from_GEO_up','Disease_Perturbations_from_GEO_down',\n",
    "                'GTEx_Tissue_Expression_Down','GTEx_Tissue_Expression_Up',\n",
    "                'OMIM_Disease','dbGaP','GO_Biological_Process_2021','GO_Molecular_Function_2021',\n",
    "                'GO_Cellular_Component_2021']\n",
    "\n",
    "outdir = '/data/cb/alexwu/mm_finemap/results/gwas/disease_genes_enrichment/enrichr'\n",
    "\n",
    "for score_percentile in [50,80,90,95]:\n",
    "\n",
    "    n_rank = 3\n",
    "    N = 20\n",
    "    threshold = np.percentile(eval_df[score_key].values,score_percentile)\n",
    "    \n",
    "    sampling = 'uniform'\n",
    "    \n",
    "    per_variant = True\n",
    "    diseases2keep = ['alzheimers','parkinsons','bipolar','multiple_sclerosis','schizophrenia_nature']\n",
    "\n",
    "    dataset = 'human_cortex_multiome_lineage'\n",
    "\n",
    "    combined_df_dict = {}\n",
    "    counts_df_dict = {}\n",
    "    for trait in diseases2keep:\n",
    "\n",
    "        # get predicted variant-gene links\n",
    "        combined_df = get_disease_gene_ranks(score_key,sampling,trait,\n",
    "                                             score_percentile=0,\n",
    "                                             per_variant=per_variant,\n",
    "                                             N=N)\n",
    "        \n",
    "        combined_df = combined_df[combined_df['rank'] < n_rank]\n",
    "        combined_df = combined_df[combined_df['gwas_pp'] > 0.05]\n",
    "        combined_df = combined_df.drop_duplicates()\n",
    "\n",
    "        # threshold by GrID-Net score\n",
    "        combined_df = combined_df[combined_df[score_key] >= threshold]\n",
    "\n",
    "        if per_variant:\n",
    "            combined_df['chr_no'] = [n.split('-')[0] for n in combined_df['variant']]\n",
    "            combined_df['pos'] = [int(float(n.split('-')[1])) for n in combined_df['variant']]\n",
    "\n",
    "        if combined_df.shape[0]:\n",
    "            combined_df_dict[trait] = combined_df\n",
    "\n",
    "            counts_df = pd.DataFrame(np.array(Counter(combined_df['gene']).most_common()),columns=['gene','counts'])\n",
    "            counts_df['counts'] = counts_df['counts'].astype(int)\n",
    "            counts_df.index = counts_df['gene'].values\n",
    "            counts_df['rank'] = np.arange(counts_df.shape[0]) + 1\n",
    "            counts_df_dict[trait] = counts_df \n",
    "\n",
    "    for trait,counts_df in counts_df_dict.items():\n",
    "        if trait not in []:\n",
    "            gene_list = counts_df['gene'].values.tolist()\n",
    "            print(trait) #,gene_list)\n",
    "            enr = gp.enrichr(gene_list=gene_list,\n",
    "                             gene_sets=genesets2use,\n",
    "                             organism='Human',\n",
    "                             description='test_name',\n",
    "                             outdir=os.path.join(outdir,trait),\n",
    "                             background=background_genes,\n",
    "                             cutoff=0.05\n",
    "                            )\n",
    "\n",
    "            results_df = enr.results[enr.results['Adjusted P-value'] < 0.1]\n",
    "            results_df.to_csv(os.path.join(outdir,'{}.{}.{}.score{}.N{}.trialranks.credible_sets.all_genes.enrichr.tsv'.format(score_key,sampling,trait,score_percentile,n_rank)),\n",
    "                              sep='\\t',index=False)\n",
    "\n",
    "\n"
   ]
  },
  {
   "cell_type": "code",
   "execution_count": 11,
   "metadata": {},
   "outputs": [
    {
     "ename": "NameError",
     "evalue": "name 'diseases2keep' is not defined",
     "output_type": "error",
     "traceback": [
      "\u001b[0;31m---------------------------------------------------------------------------\u001b[0m",
      "\u001b[0;31mNameError\u001b[0m                                 Traceback (most recent call last)",
      "Cell \u001b[0;32mIn [11], line 8\u001b[0m\n\u001b[1;32m      5\u001b[0m score_percentile \u001b[38;5;241m=\u001b[39m \u001b[38;5;241m50\u001b[39m\n\u001b[1;32m      7\u001b[0m results_df_list \u001b[38;5;241m=\u001b[39m []\n\u001b[0;32m----> 8\u001b[0m \u001b[38;5;28;01mfor\u001b[39;00m trait \u001b[38;5;129;01min\u001b[39;00m diseases2keep:\n\u001b[1;32m      9\u001b[0m     \u001b[38;5;28;01mif\u001b[39;00m trait \u001b[38;5;241m!=\u001b[39m \u001b[38;5;124m'\u001b[39m\u001b[38;5;124mepilepsy\u001b[39m\u001b[38;5;124m'\u001b[39m:\n\u001b[1;32m     10\u001b[0m         file_name \u001b[38;5;241m=\u001b[39m \u001b[38;5;124m'\u001b[39m\u001b[38;5;132;01m{}\u001b[39;00m\u001b[38;5;124m.\u001b[39m\u001b[38;5;132;01m{}\u001b[39;00m\u001b[38;5;124m.\u001b[39m\u001b[38;5;132;01m{}\u001b[39;00m\u001b[38;5;124m.score\u001b[39m\u001b[38;5;132;01m{}\u001b[39;00m\u001b[38;5;124m.N\u001b[39m\u001b[38;5;132;01m{}\u001b[39;00m\u001b[38;5;124m.trialranks.credible_sets.all_genes.enrichr.tsv\u001b[39m\u001b[38;5;124m'\u001b[39m\u001b[38;5;241m.\u001b[39mformat(score_key,sampling,trait,score_percentile,n_rank)\n",
      "\u001b[0;31mNameError\u001b[0m: name 'diseases2keep' is not defined"
     ]
    }
   ],
   "source": [
    "outdir = '/data/cb/alexwu/mm_finemap/results/gwas/disease_genes_enrichment/enrichr'\n",
    "\n",
    "dataset = 'human_cortex_multiome_lineage'\n",
    "n_rank = 3\n",
    "score_percentile = 50\n",
    "\n",
    "results_df_list = []\n",
    "for trait in diseases2keep:\n",
    "    if trait != 'epilepsy':\n",
    "        file_name = '{}.{}.{}.score{}.N{}.trialranks.credible_sets.all_genes.enrichr.tsv'.format(score_key,sampling,trait,score_percentile,n_rank)\n",
    "        results_df = pd.read_csv(os.path.join(outdir,file_name),sep='\\t')\n",
    "        results_df['trait'] = trait\n",
    "        results_df_list.append(results_df)\n",
    "results_df = pd.concat(results_df_list)\n",
    "results_df = results_df[results_df['Adjusted P-value'] < 0.1] #[['Term','']]\n",
    "inds2keep = [i for i,n in enumerate(results_df['Overlap']) if int(n.split('/')[0]) > 1]\n",
    "results_df = results_df.iloc[inds2keep]\n",
    "results_df"
   ]
  },
  {
   "cell_type": "code",
   "execution_count": 32,
   "metadata": {
    "scrolled": false
   },
   "outputs": [
    {
     "data": {
      "text/html": [
       "<div>\n",
       "<style scoped>\n",
       "    .dataframe tbody tr th:only-of-type {\n",
       "        vertical-align: middle;\n",
       "    }\n",
       "\n",
       "    .dataframe tbody tr th {\n",
       "        vertical-align: top;\n",
       "    }\n",
       "\n",
       "    .dataframe thead th {\n",
       "        text-align: right;\n",
       "    }\n",
       "</style>\n",
       "<table border=\"1\" class=\"dataframe\">\n",
       "  <thead>\n",
       "    <tr style=\"text-align: right;\">\n",
       "      <th></th>\n",
       "      <th>Gene_set</th>\n",
       "      <th>Term</th>\n",
       "      <th>Overlap</th>\n",
       "      <th>P-value</th>\n",
       "      <th>Adjusted P-value</th>\n",
       "      <th>Old P-value</th>\n",
       "      <th>Old Adjusted P-value</th>\n",
       "      <th>Odds Ratio</th>\n",
       "      <th>Combined Score</th>\n",
       "      <th>Genes</th>\n",
       "      <th>trait</th>\n",
       "    </tr>\n",
       "  </thead>\n",
       "  <tbody>\n",
       "    <tr>\n",
       "      <th>0</th>\n",
       "      <td>CellMarker_Augmented_2021</td>\n",
       "      <td>Leydig cell:Fetal Gonad</td>\n",
       "      <td>3/380</td>\n",
       "      <td>0.003170</td>\n",
       "      <td>0.091497</td>\n",
       "      <td>0</td>\n",
       "      <td>0</td>\n",
       "      <td>12.001836</td>\n",
       "      <td>69.057130</td>\n",
       "      <td>CCDC25;TACO1;APOC1</td>\n",
       "      <td>alzheimers</td>\n",
       "    </tr>\n",
       "    <tr>\n",
       "      <th>6</th>\n",
       "      <td>CellMarker_Augmented_2021</td>\n",
       "      <td>Microglial cell:Embryonic Prefrontal Cortex</td>\n",
       "      <td>2/472</td>\n",
       "      <td>0.053620</td>\n",
       "      <td>0.091497</td>\n",
       "      <td>0</td>\n",
       "      <td>0</td>\n",
       "      <td>5.931307</td>\n",
       "      <td>17.353987</td>\n",
       "      <td>GSTK1;APOC1</td>\n",
       "      <td>alzheimers</td>\n",
       "    </tr>\n",
       "    <tr>\n",
       "      <th>73</th>\n",
       "      <td>DisGeNET</td>\n",
       "      <td>Primary Progressive Aphasia (disorder)</td>\n",
       "      <td>2/18</td>\n",
       "      <td>0.000091</td>\n",
       "      <td>0.029642</td>\n",
       "      <td>0</td>\n",
       "      <td>0</td>\n",
       "      <td>178.285714</td>\n",
       "      <td>1658.655789</td>\n",
       "      <td>TOMM40;APOC1</td>\n",
       "      <td>alzheimers</td>\n",
       "    </tr>\n",
       "    <tr>\n",
       "      <th>74</th>\n",
       "      <td>DisGeNET</td>\n",
       "      <td>High density lipoprotein measurement</td>\n",
       "      <td>4/324</td>\n",
       "      <td>0.000105</td>\n",
       "      <td>0.029642</td>\n",
       "      <td>0</td>\n",
       "      <td>0</td>\n",
       "      <td>20.483333</td>\n",
       "      <td>187.563890</td>\n",
       "      <td>TOMM40;APOC1;NECTIN2;DDB2</td>\n",
       "      <td>alzheimers</td>\n",
       "    </tr>\n",
       "    <tr>\n",
       "      <th>75</th>\n",
       "      <td>DisGeNET</td>\n",
       "      <td>Behavioral variant of frontotemporal dementia</td>\n",
       "      <td>2/24</td>\n",
       "      <td>0.000164</td>\n",
       "      <td>0.030706</td>\n",
       "      <td>0</td>\n",
       "      <td>0</td>\n",
       "      <td>129.623377</td>\n",
       "      <td>1129.821941</td>\n",
       "      <td>TOMM40;APOC1</td>\n",
       "      <td>alzheimers</td>\n",
       "    </tr>\n",
       "    <tr>\n",
       "      <th>...</th>\n",
       "      <td>...</td>\n",
       "      <td>...</td>\n",
       "      <td>...</td>\n",
       "      <td>...</td>\n",
       "      <td>...</td>\n",
       "      <td>...</td>\n",
       "      <td>...</td>\n",
       "      <td>...</td>\n",
       "      <td>...</td>\n",
       "      <td>...</td>\n",
       "      <td>...</td>\n",
       "    </tr>\n",
       "    <tr>\n",
       "      <th>1</th>\n",
       "      <td>OMIM_Disease</td>\n",
       "      <td>neuropathy</td>\n",
       "      <td>3/35</td>\n",
       "      <td>0.001576</td>\n",
       "      <td>0.012608</td>\n",
       "      <td>0</td>\n",
       "      <td>0</td>\n",
       "      <td>14.415698</td>\n",
       "      <td>93.022298</td>\n",
       "      <td>CTDP1;SLC12A6;POLG</td>\n",
       "      <td>schizophrenia_nature</td>\n",
       "    </tr>\n",
       "    <tr>\n",
       "      <th>2</th>\n",
       "      <td>Jensen_DISEASES</td>\n",
       "      <td>Mood disorder</td>\n",
       "      <td>3/9</td>\n",
       "      <td>0.000023</td>\n",
       "      <td>0.003898</td>\n",
       "      <td>0</td>\n",
       "      <td>0</td>\n",
       "      <td>76.984496</td>\n",
       "      <td>822.432784</td>\n",
       "      <td>SMIM4;NEK4;GLT8D1</td>\n",
       "      <td>schizophrenia_nature</td>\n",
       "    </tr>\n",
       "    <tr>\n",
       "      <th>3</th>\n",
       "      <td>OMIM_Disease</td>\n",
       "      <td>neuropathy</td>\n",
       "      <td>3/35</td>\n",
       "      <td>0.001576</td>\n",
       "      <td>0.012608</td>\n",
       "      <td>0</td>\n",
       "      <td>0</td>\n",
       "      <td>14.415698</td>\n",
       "      <td>93.022298</td>\n",
       "      <td>CTDP1;SLC12A6;POLG</td>\n",
       "      <td>schizophrenia_nature</td>\n",
       "    </tr>\n",
       "    <tr>\n",
       "      <th>4</th>\n",
       "      <td>dbGaP</td>\n",
       "      <td>Immunoglobulin E</td>\n",
       "      <td>2/9</td>\n",
       "      <td>0.001510</td>\n",
       "      <td>0.078509</td>\n",
       "      <td>0</td>\n",
       "      <td>0</td>\n",
       "      <td>43.650549</td>\n",
       "      <td>283.544522</td>\n",
       "      <td>NAB2;STAT6</td>\n",
       "      <td>schizophrenia_nature</td>\n",
       "    </tr>\n",
       "    <tr>\n",
       "      <th>5</th>\n",
       "      <td>dbGaP</td>\n",
       "      <td>Creatinine</td>\n",
       "      <td>4/92</td>\n",
       "      <td>0.003236</td>\n",
       "      <td>0.084127</td>\n",
       "      <td>0</td>\n",
       "      <td>0</td>\n",
       "      <td>7.024148</td>\n",
       "      <td>40.273118</td>\n",
       "      <td>NTNG2;FUT9;KIF21B;FOXO3</td>\n",
       "      <td>schizophrenia_nature</td>\n",
       "    </tr>\n",
       "  </tbody>\n",
       "</table>\n",
       "<p>102 rows × 11 columns</p>\n",
       "</div>"
      ],
      "text/plain": [
       "                     Gene_set                                           Term  \\\n",
       "0   CellMarker_Augmented_2021                        Leydig cell:Fetal Gonad   \n",
       "6   CellMarker_Augmented_2021    Microglial cell:Embryonic Prefrontal Cortex   \n",
       "73                   DisGeNET         Primary Progressive Aphasia (disorder)   \n",
       "74                   DisGeNET           High density lipoprotein measurement   \n",
       "75                   DisGeNET  Behavioral variant of frontotemporal dementia   \n",
       "..                        ...                                            ...   \n",
       "1                OMIM_Disease                                     neuropathy   \n",
       "2             Jensen_DISEASES                                  Mood disorder   \n",
       "3                OMIM_Disease                                     neuropathy   \n",
       "4                       dbGaP                               Immunoglobulin E   \n",
       "5                       dbGaP                                     Creatinine   \n",
       "\n",
       "   Overlap   P-value  Adjusted P-value  Old P-value  Old Adjusted P-value  \\\n",
       "0    3/380  0.003170          0.091497            0                     0   \n",
       "6    2/472  0.053620          0.091497            0                     0   \n",
       "73    2/18  0.000091          0.029642            0                     0   \n",
       "74   4/324  0.000105          0.029642            0                     0   \n",
       "75    2/24  0.000164          0.030706            0                     0   \n",
       "..     ...       ...               ...          ...                   ...   \n",
       "1     3/35  0.001576          0.012608            0                     0   \n",
       "2      3/9  0.000023          0.003898            0                     0   \n",
       "3     3/35  0.001576          0.012608            0                     0   \n",
       "4      2/9  0.001510          0.078509            0                     0   \n",
       "5     4/92  0.003236          0.084127            0                     0   \n",
       "\n",
       "    Odds Ratio  Combined Score                      Genes  \\\n",
       "0    12.001836       69.057130         CCDC25;TACO1;APOC1   \n",
       "6     5.931307       17.353987                GSTK1;APOC1   \n",
       "73  178.285714     1658.655789               TOMM40;APOC1   \n",
       "74   20.483333      187.563890  TOMM40;APOC1;NECTIN2;DDB2   \n",
       "75  129.623377     1129.821941               TOMM40;APOC1   \n",
       "..         ...             ...                        ...   \n",
       "1    14.415698       93.022298         CTDP1;SLC12A6;POLG   \n",
       "2    76.984496      822.432784          SMIM4;NEK4;GLT8D1   \n",
       "3    14.415698       93.022298         CTDP1;SLC12A6;POLG   \n",
       "4    43.650549      283.544522                 NAB2;STAT6   \n",
       "5     7.024148       40.273118    NTNG2;FUT9;KIF21B;FOXO3   \n",
       "\n",
       "                   trait  \n",
       "0             alzheimers  \n",
       "6             alzheimers  \n",
       "73            alzheimers  \n",
       "74            alzheimers  \n",
       "75            alzheimers  \n",
       "..                   ...  \n",
       "1   schizophrenia_nature  \n",
       "2   schizophrenia_nature  \n",
       "3   schizophrenia_nature  \n",
       "4   schizophrenia_nature  \n",
       "5   schizophrenia_nature  \n",
       "\n",
       "[102 rows x 11 columns]"
      ]
     },
     "execution_count": 32,
     "metadata": {},
     "output_type": "execute_result"
    }
   ],
   "source": [
    "outdir = '/data/cb/alexwu/mm_finemap/results/gwas/disease_genes_enrichment/enrichr'\n",
    "\n",
    "dataset = 'human_cortex_multiome_lineage'\n",
    "n_rank = 3\n",
    "score_percentile = 50\n",
    "\n",
    "results_df_list = []\n",
    "for trait in diseases2keep:\n",
    "    if trait != 'epilepsy':\n",
    "        file_name = '{}.{}.{}.score{}.N{}.trialranks.credible_sets.all_genes.enrichr.tsv'.format(score_key,sampling,trait,score_percentile,n_rank)\n",
    "        results_df = pd.read_csv(os.path.join(outdir,file_name),sep='\\t')\n",
    "        results_df['trait'] = trait\n",
    "        results_df_list.append(results_df)\n",
    "results_df = pd.concat(results_df_list)\n",
    "results_df = results_df[results_df['Adjusted P-value'] < 0.1] #[['Term','']]\n",
    "inds2keep = [i for i,n in enumerate(results_df['Overlap']) if int(n.split('/')[0]) > 1]\n",
    "results_df = results_df.iloc[inds2keep]\n",
    "results_df"
   ]
  },
  {
   "cell_type": "code",
   "execution_count": 33,
   "metadata": {
    "scrolled": true
   },
   "outputs": [
    {
     "data": {
      "text/html": [
       "<div>\n",
       "<style scoped>\n",
       "    .dataframe tbody tr th:only-of-type {\n",
       "        vertical-align: middle;\n",
       "    }\n",
       "\n",
       "    .dataframe tbody tr th {\n",
       "        vertical-align: top;\n",
       "    }\n",
       "\n",
       "    .dataframe thead th {\n",
       "        text-align: right;\n",
       "    }\n",
       "</style>\n",
       "<table border=\"1\" class=\"dataframe\">\n",
       "  <thead>\n",
       "    <tr style=\"text-align: right;\">\n",
       "      <th></th>\n",
       "      <th>Gene_set</th>\n",
       "      <th>Term</th>\n",
       "      <th>Overlap</th>\n",
       "      <th>P-value</th>\n",
       "      <th>Adjusted P-value</th>\n",
       "      <th>Old P-value</th>\n",
       "      <th>Old Adjusted P-value</th>\n",
       "      <th>Odds Ratio</th>\n",
       "      <th>Combined Score</th>\n",
       "      <th>Genes</th>\n",
       "      <th>trait</th>\n",
       "    </tr>\n",
       "  </thead>\n",
       "  <tbody>\n",
       "    <tr>\n",
       "      <th>0</th>\n",
       "      <td>DisGeNET</td>\n",
       "      <td>Schizophrenia</td>\n",
       "      <td>29/1923</td>\n",
       "      <td>0.000018</td>\n",
       "      <td>0.029092</td>\n",
       "      <td>0</td>\n",
       "      <td>0</td>\n",
       "      <td>2.671933</td>\n",
       "      <td>29.230253</td>\n",
       "      <td>DLX1;TMPRSS5;NAB2;GLT8D1;GTDC1;FURIN;MSI2;FOXO...</td>\n",
       "      <td>schizophrenia_nature</td>\n",
       "    </tr>\n",
       "    <tr>\n",
       "      <th>1</th>\n",
       "      <td>OMIM_Disease</td>\n",
       "      <td>neuropathy</td>\n",
       "      <td>3/35</td>\n",
       "      <td>0.001576</td>\n",
       "      <td>0.012608</td>\n",
       "      <td>0</td>\n",
       "      <td>0</td>\n",
       "      <td>14.415698</td>\n",
       "      <td>93.022298</td>\n",
       "      <td>CTDP1;SLC12A6;POLG</td>\n",
       "      <td>schizophrenia_nature</td>\n",
       "    </tr>\n",
       "    <tr>\n",
       "      <th>2</th>\n",
       "      <td>Jensen_DISEASES</td>\n",
       "      <td>Mood disorder</td>\n",
       "      <td>3/9</td>\n",
       "      <td>0.000023</td>\n",
       "      <td>0.003898</td>\n",
       "      <td>0</td>\n",
       "      <td>0</td>\n",
       "      <td>76.984496</td>\n",
       "      <td>822.432784</td>\n",
       "      <td>SMIM4;NEK4;GLT8D1</td>\n",
       "      <td>schizophrenia_nature</td>\n",
       "    </tr>\n",
       "    <tr>\n",
       "      <th>3</th>\n",
       "      <td>OMIM_Disease</td>\n",
       "      <td>neuropathy</td>\n",
       "      <td>3/35</td>\n",
       "      <td>0.001576</td>\n",
       "      <td>0.012608</td>\n",
       "      <td>0</td>\n",
       "      <td>0</td>\n",
       "      <td>14.415698</td>\n",
       "      <td>93.022298</td>\n",
       "      <td>CTDP1;SLC12A6;POLG</td>\n",
       "      <td>schizophrenia_nature</td>\n",
       "    </tr>\n",
       "    <tr>\n",
       "      <th>4</th>\n",
       "      <td>dbGaP</td>\n",
       "      <td>Immunoglobulin E</td>\n",
       "      <td>2/9</td>\n",
       "      <td>0.001510</td>\n",
       "      <td>0.078509</td>\n",
       "      <td>0</td>\n",
       "      <td>0</td>\n",
       "      <td>43.650549</td>\n",
       "      <td>283.544522</td>\n",
       "      <td>NAB2;STAT6</td>\n",
       "      <td>schizophrenia_nature</td>\n",
       "    </tr>\n",
       "    <tr>\n",
       "      <th>5</th>\n",
       "      <td>dbGaP</td>\n",
       "      <td>Creatinine</td>\n",
       "      <td>4/92</td>\n",
       "      <td>0.003236</td>\n",
       "      <td>0.084127</td>\n",
       "      <td>0</td>\n",
       "      <td>0</td>\n",
       "      <td>7.024148</td>\n",
       "      <td>40.273118</td>\n",
       "      <td>NTNG2;FUT9;KIF21B;FOXO3</td>\n",
       "      <td>schizophrenia_nature</td>\n",
       "    </tr>\n",
       "  </tbody>\n",
       "</table>\n",
       "</div>"
      ],
      "text/plain": [
       "          Gene_set              Term  Overlap   P-value  Adjusted P-value  \\\n",
       "0         DisGeNET     Schizophrenia  29/1923  0.000018          0.029092   \n",
       "1     OMIM_Disease        neuropathy     3/35  0.001576          0.012608   \n",
       "2  Jensen_DISEASES     Mood disorder      3/9  0.000023          0.003898   \n",
       "3     OMIM_Disease        neuropathy     3/35  0.001576          0.012608   \n",
       "4            dbGaP  Immunoglobulin E      2/9  0.001510          0.078509   \n",
       "5            dbGaP        Creatinine     4/92  0.003236          0.084127   \n",
       "\n",
       "   Old P-value  Old Adjusted P-value  Odds Ratio  Combined Score  \\\n",
       "0            0                     0    2.671933       29.230253   \n",
       "1            0                     0   14.415698       93.022298   \n",
       "2            0                     0   76.984496      822.432784   \n",
       "3            0                     0   14.415698       93.022298   \n",
       "4            0                     0   43.650549      283.544522   \n",
       "5            0                     0    7.024148       40.273118   \n",
       "\n",
       "                                               Genes                 trait  \n",
       "0  DLX1;TMPRSS5;NAB2;GLT8D1;GTDC1;FURIN;MSI2;FOXO...  schizophrenia_nature  \n",
       "1                                 CTDP1;SLC12A6;POLG  schizophrenia_nature  \n",
       "2                                  SMIM4;NEK4;GLT8D1  schizophrenia_nature  \n",
       "3                                 CTDP1;SLC12A6;POLG  schizophrenia_nature  \n",
       "4                                         NAB2;STAT6  schizophrenia_nature  \n",
       "5                            NTNG2;FUT9;KIF21B;FOXO3  schizophrenia_nature  "
      ]
     },
     "execution_count": 33,
     "metadata": {},
     "output_type": "execute_result"
    }
   ],
   "source": [
    "results_df[results_df['trait'] == 'schizophrenia_nature']"
   ]
  },
  {
   "cell_type": "code",
   "execution_count": 48,
   "metadata": {
    "scrolled": true
   },
   "outputs": [
    {
     "data": {
      "image/png": "[encoded data removed]",
      "text/plain": [
       "<Figure size 360x144 with 1 Axes>"
      ]
     },
     "metadata": {
      "needs_background": "light"
     },
     "output_type": "display_data"
    }
   ],
   "source": [
    "plot_df = results_df[results_df['trait'] == 'schizophrenia_nature'].drop_duplicates()\n",
    "\n",
    "plot_df = plot_df.loc[[0,1,2,4,5]]\n",
    "\n",
    "plot_df['Term'] = [n.capitalize() for n in plot_df['Term']]\n",
    "plot_df['-log10q'] = -np.log10(plot_df['Adjusted P-value'])\n",
    "\n",
    "plt.figure(figsize=(5,2.))\n",
    "sns.barplot(x='-log10q',y='Term',data=plot_df.sort_values('Adjusted P-value'),color='dodgerblue')\n",
    "plt.xlabel(r'$-\\log_{10}(q)$',fontsize=16)\n",
    "plt.ylabel('Term',fontsize=16)\n",
    "plt.xticks(fontsize=14)\n",
    "plt.yticks(fontsize=14)\n",
    "sns.despine()\n",
    "plt.show()"
   ]
  },
  {
   "cell_type": "code",
   "execution_count": null,
   "metadata": {},
   "outputs": [],
   "source": []
  },
  {
   "cell_type": "markdown",
   "metadata": {},
   "source": [
    "## Disease Genes"
   ]
  },
  {
   "cell_type": "code",
   "execution_count": 12,
   "metadata": {},
   "outputs": [],
   "source": [
    "from collections import Counter\n",
    "\n",
    "n_rank = 3\n",
    "score_percentile = 50\n",
    "\n",
    "N = 20\n",
    "score_key = 'graph.ranks.mean-LR-dist'\n",
    "\n",
    "threshold = np.percentile(eval_df[score_key].values,score_percentile)\n",
    "\n",
    "sampling = 'uniform'\n",
    "\n",
    "per_variant = True\n",
    "diseases2keep = ['alzheimers','parkinsons','bipolar','multiple_sclerosis','schizophrenia_nature']\n",
    "\n",
    "dataset = 'human_cortex_multiome_lineage'\n",
    "\n",
    "combined_df_dict = {}\n",
    "counts_df_dict = {}\n",
    "for trait in diseases2keep:\n",
    "\n",
    "    # get predicted variant-gene links\n",
    "    combined_df = get_disease_gene_ranks(score_key,sampling,trait,\n",
    "                                         score_percentile=0,\n",
    "                                         per_variant=per_variant,\n",
    "                                         N=N)\n",
    "\n",
    "    combined_df = combined_df[combined_df['rank'] < n_rank]\n",
    "    combined_df = combined_df[combined_df['gwas_pp'] > 0.05]\n",
    "    combined_df = combined_df.drop_duplicates()\n",
    "\n",
    "    # threshold by GrID-Net score\n",
    "    combined_df = combined_df[combined_df[score_key] >= threshold]\n",
    "\n",
    "    if per_variant:\n",
    "        combined_df['chr_no'] = [n.split('-')[0] for n in combined_df['variant']]\n",
    "        combined_df['pos'] = [int(float(n.split('-')[1])) for n in combined_df['variant']]\n",
    "        combined_df['variant'] = ['{}-{}'.format(chr_no,pos) for chr_no,pos \n",
    "                                  in combined_df[['chr_no','pos']].values]\n",
    "        \n",
    "    if combined_df.shape[0]:\n",
    "        combined_df_dict[trait] = combined_df\n",
    "\n",
    "        counts_df = pd.DataFrame(np.array(Counter(combined_df['gene']).most_common()),columns=['gene','counts'])\n",
    "        counts_df['counts'] = counts_df['counts'].astype(int)\n",
    "        counts_df.index = counts_df['gene'].values\n",
    "        counts_df['rank'] = np.arange(counts_df.shape[0]) + 1\n",
    "        counts_df_dict[trait] = counts_df"
   ]
  },
  {
   "cell_type": "markdown",
   "metadata": {},
   "source": [
    "### Add rsID + Nearest Gene Annotations"
   ]
  },
  {
   "cell_type": "code",
   "execution_count": 13,
   "metadata": {},
   "outputs": [],
   "source": [
    "data_dir = '/data/cb/alexwu/mm_finemap/data/gwas/human_cortex_multiome'\n",
    "\n",
    "nearest_gene_dict = {trait: {} for trait in diseases2keep}\n",
    "nearby_genes_dict = {trait: {} for trait in diseases2keep}\n",
    "\n",
    "pos2rsid_dict = {trait: {} for trait in diseases2keep}\n",
    "\n",
    "for trait in diseases2keep:\n",
    "    \n",
    "    file_name = '{}.credible_sets.txt.gz'.format(trait)\n",
    "    \n",
    "    gwas_df = pd.read_csv(os.path.join(data_dir,file_name),sep='\\t',compression='gzip')\n",
    "\n",
    "    for chr_no in list(set(gwas_df['chr_liftover'])):\n",
    "\n",
    "        filtered_gwas_df = gwas_df[gwas_df['chr_liftover'] == chr_no]\n",
    "        filtered_gene_df = rna_adata.var[rna_adata.var['chr_no'] == chr_no]\n",
    "\n",
    "        for chr_no,pos in filtered_gwas_df[['chr_liftover','pos_liftover']].values:\n",
    "            nearest_gene = filtered_gene_df.index.values[np.argmin(abs(pos-filtered_gene_df['txstart'].values))]\n",
    "            nearest_gene_dict[trait]['{}-{}'.format(chr_no,int(pos))] = nearest_gene\n",
    "            \n",
    "            nearby_gene_distances = sorted(pos-filtered_gene_df['txstart'].values)\n",
    "            nearby_genes = filtered_gene_df.index.values[np.argsort(pos-filtered_gene_df['txstart'].values)]\n",
    "            nearby_genes_dict[trait]['{}-{}'.format(chr_no,int(pos))] = [(g,dist) for g,dist \n",
    "                                                                         in zip(*[nearby_genes,nearby_gene_distances])]\n",
    "            \n",
    "    if trait == 'schizophrenia_nature':\n",
    "        rsid_key = 'rsid'\n",
    "        pos2rsid_dict[trait] = {'{}-{}'.format(chr_no,int(pos)): rsid for rsid,chr_no,pos \n",
    "                                    in gwas_df[[rsid_key,'chr_liftover','pos_liftover']].values}\n",
    "\n",
    "    else:\n",
    "        rsid_key = 'rsID'\n",
    "        pos2rsid_dict[trait] = {'{}-{}'.format(chr_no,int(pos)): 'rs{}'.format(rsid) for rsid,chr_no,pos \n",
    "                                    in gwas_df[[rsid_key,'chr_liftover','pos_liftover']].values}\n",
    "\n",
    "    combined_df_dict[trait]['nearestGene'] = [nearest_gene_dict[trait]['{}-{}'.format(chr_no,pos)]\n",
    "                                              for chr_no,pos in combined_df_dict[trait][['chr_no','pos']].values]\n",
    "    combined_df_dict[trait]['rsid'] = [pos2rsid_dict[trait]['{}-{}'.format(chr_no,pos)]\n",
    "                                              for chr_no,pos in combined_df_dict[trait][['chr_no','pos']].values]\n",
    "    \n",
    "    geneRankByDist = []\n",
    "    for chr_no,pos,gene in combined_df_dict[trait][['chr_no','pos','gene']].values:\n",
    "        nearby_genes_df = pd.DataFrame(np.array(nearby_genes_dict[trait]['{}-{}'.format(chr_no,pos)]))\n",
    "        nearby_genes_df.columns = ['gene','dist']\n",
    "        nearby_genes_df['dist'] = nearby_genes_df['dist'].astype(float)\n",
    "        nearby_genes_df.index = nearby_genes_df['gene'].values\n",
    "\n",
    "        # determine which side gene is on (+/-)\n",
    "        if nearby_genes_df.loc[gene]['dist'] < 0:\n",
    "            nearby_genes_df = nearby_genes_df[nearby_genes_df['dist'] < 0]\n",
    "        else:\n",
    "            nearby_genes_df = nearby_genes_df[nearby_genes_df['dist'] >= 0]\n",
    "            \n",
    "        nearby_genes_df['dist'] = abs(nearby_genes_df['dist'])\n",
    "        nearby_genes_df['geneRank'] = rankdata(nearby_genes_df['dist']).astype(int)\n",
    "        geneRankByDist.append(nearby_genes_df.loc[gene]['geneRank'])\n",
    "    combined_df_dict[trait]['geneRankByDist'] = geneRankByDist\n",
    "        \n",
    "#         nearby_genes_df = nearby_genes_df.sort_values('dist')\n",
    "        \n",
    "#         if nearby_g\n",
    "#     combined_df_dict[trait]['geneRankByDist'] = [np.where(gene == nearby_genes_dict[trait]['{}-{}'.format(chr_no,pos)])[0][0]\n",
    "#                                               for chr_no,pos,gene in combined_df_dict[trait][['chr_no','pos','gene']].values]\n",
    "    "
   ]
  },
  {
   "cell_type": "code",
   "execution_count": null,
   "metadata": {},
   "outputs": [],
   "source": []
  },
  {
   "cell_type": "markdown",
   "metadata": {},
   "source": [
    "### Write Links to .links File (for Genome Browser)"
   ]
  },
  {
   "cell_type": "code",
   "execution_count": 14,
   "metadata": {},
   "outputs": [],
   "source": [
    "trait = 'schizophrenia_nature'\n",
    "\n",
    "combined_df = combined_df_dict[trait].copy()\n",
    "gene_txstart_dict = {gene: (chr_no,txstart) for gene,(chr_no,txstart)\n",
    "                     in zip(*[rna_adata.var.index.values,rna_adata.var[['chr_no','txstart']].values])}\n",
    "\n",
    "combined_df['gene_txstart'] = [gene_txstart_dict[g][1] for g in combined_df['gene']]\n",
    "combined_df['gene_txstart_1'] = combined_df['gene_txstart'].astype(int) + 1\n",
    "combined_df['variant_pos'] = [n.split('-')[1] for n in combined_df['variant']]\n",
    "combined_df['variant_pos_1'] = combined_df['variant_pos'].astype(int) + 1\n",
    "\n",
    "# write to file\n",
    "save_dir = '/data/cb/alexwu/mm_finemap/data/ucsc'\n",
    "columns = ['chr_no','gene_txstart','gene_txstart_1','chr_no','variant_pos','variant_pos_1',score_key]\n",
    "combined_df[columns].to_csv(os.path.join(save_dir,'{}.{}.links'.format(trait,score_key)),\n",
    "                                              header=False,index=False,sep='\\t')\n",
    "\n",
    "# write to file (LPCAT4 zoomed in)\n",
    "save_dir = '/data/cb/alexwu/mm_finemap/data/ucsc'\n",
    "columns = ['chr_no','gene_txstart','gene_txstart_1','chr_no','variant_pos','variant_pos_1',score_key]\n",
    "combined_df[combined_df['gene'] == 'LPCAT4'][columns].to_csv(os.path.join(save_dir,'{}.{}.links'.format(trait,'LPCAT4')),\n",
    "                                              header=False,index=False,sep='\\t')"
   ]
  },
  {
   "cell_type": "markdown",
   "metadata": {},
   "source": [
    "### Summary Plots"
   ]
  },
  {
   "cell_type": "code",
   "execution_count": 20,
   "metadata": {},
   "outputs": [
    {
     "name": "stdout",
     "output_type": "stream",
     "text": [
      "132\n"
     ]
    },
    {
     "data": {
      "image/png": "[encoded data removed]",
      "text/plain": [
       "<Figure size 180x360 with 1 Axes>"
      ]
     },
     "metadata": {
      "needs_background": "light"
     },
     "output_type": "display_data"
    }
   ],
   "source": [
    "from collections import Counter\n",
    "\n",
    "combined_df = combined_df_dict['schizophrenia_nature']\n",
    "counts_df = counts_df_dict['schizophrenia_nature']\n",
    "print(len(set(combined_df['gene'])))\n",
    "\n",
    "plt.figure(figsize=(2.5,5))\n",
    "\n",
    "values = Counter(combined_df['gene']).values()\n",
    "plt.hist(values,bins=len(set(values)),color='darkred')\n",
    "plt.xlabel('Number of Variants per Gene',fontsize=16)\n",
    "plt.ylabel('Number of Genes',fontsize=16)\n",
    "plt.xticks(fontsize=14)\n",
    "plt.yticks(fontsize=14)\n",
    "sns.despine()\n",
    "\n",
    "plot_dir = '/data/cb/alexwu/mm_finemap/figures'\n",
    "# plt.savefig(os.path.join(plot_dir,'variant_gene','variants_per_gene.pdf'), dpi=500, bbox_inches = \"tight\")\n",
    "np.savetxt(os.path.join(plot_dir,\"variant_gene\",\"variants_per_gene.csv\"),list(values))\n",
    "plt.show()"
   ]
  },
  {
   "cell_type": "code",
   "execution_count": 22,
   "metadata": {},
   "outputs": [
    {
     "data": {
      "text/plain": [
       "(13, 3)"
      ]
     },
     "execution_count": 22,
     "metadata": {},
     "output_type": "execute_result"
    }
   ],
   "source": [
    "counts_df[counts_df['counts'] > 3].shape"
   ]
  },
  {
   "cell_type": "code",
   "execution_count": 23,
   "metadata": {
    "scrolled": true
   },
   "outputs": [
    {
     "data": {
      "text/html": [
       "<div>\n",
       "<style scoped>\n",
       "    .dataframe tbody tr th:only-of-type {\n",
       "        vertical-align: middle;\n",
       "    }\n",
       "\n",
       "    .dataframe tbody tr th {\n",
       "        vertical-align: top;\n",
       "    }\n",
       "\n",
       "    .dataframe thead th {\n",
       "        text-align: right;\n",
       "    }\n",
       "</style>\n",
       "<table border=\"1\" class=\"dataframe\">\n",
       "  <thead>\n",
       "    <tr style=\"text-align: right;\">\n",
       "      <th></th>\n",
       "      <th>gene</th>\n",
       "      <th>counts</th>\n",
       "      <th>rank</th>\n",
       "    </tr>\n",
       "  </thead>\n",
       "  <tbody>\n",
       "    <tr>\n",
       "      <th>IGSF9B</th>\n",
       "      <td>IGSF9B</td>\n",
       "      <td>7</td>\n",
       "      <td>1</td>\n",
       "    </tr>\n",
       "    <tr>\n",
       "      <th>PSD2</th>\n",
       "      <td>PSD2</td>\n",
       "      <td>6</td>\n",
       "      <td>2</td>\n",
       "    </tr>\n",
       "    <tr>\n",
       "      <th>KCNG2</th>\n",
       "      <td>KCNG2</td>\n",
       "      <td>6</td>\n",
       "      <td>3</td>\n",
       "    </tr>\n",
       "    <tr>\n",
       "      <th>SLC66A2</th>\n",
       "      <td>SLC66A2</td>\n",
       "      <td>6</td>\n",
       "      <td>4</td>\n",
       "    </tr>\n",
       "    <tr>\n",
       "      <th>MYT1L-AS1</th>\n",
       "      <td>MYT1L-AS1</td>\n",
       "      <td>5</td>\n",
       "      <td>5</td>\n",
       "    </tr>\n",
       "    <tr>\n",
       "      <th>DLX2</th>\n",
       "      <td>DLX2</td>\n",
       "      <td>5</td>\n",
       "      <td>6</td>\n",
       "    </tr>\n",
       "    <tr>\n",
       "      <th>DLX1</th>\n",
       "      <td>DLX1</td>\n",
       "      <td>5</td>\n",
       "      <td>7</td>\n",
       "    </tr>\n",
       "    <tr>\n",
       "      <th>HSBP1L1</th>\n",
       "      <td>HSBP1L1</td>\n",
       "      <td>5</td>\n",
       "      <td>8</td>\n",
       "    </tr>\n",
       "  </tbody>\n",
       "</table>\n",
       "</div>"
      ],
      "text/plain": [
       "                gene  counts  rank\n",
       "IGSF9B        IGSF9B       7     1\n",
       "PSD2            PSD2       6     2\n",
       "KCNG2          KCNG2       6     3\n",
       "SLC66A2      SLC66A2       6     4\n",
       "MYT1L-AS1  MYT1L-AS1       5     5\n",
       "DLX2            DLX2       5     6\n",
       "DLX1            DLX1       5     7\n",
       "HSBP1L1      HSBP1L1       5     8"
      ]
     },
     "execution_count": 23,
     "metadata": {},
     "output_type": "execute_result"
    }
   ],
   "source": [
    "counts_df[counts_df['counts'] >= 5]"
   ]
  },
  {
   "cell_type": "code",
   "execution_count": 24,
   "metadata": {},
   "outputs": [
    {
     "data": {
      "image/png": "[encoded data removed]",
      "text/plain": [
       "<Figure size 180x360 with 1 Axes>"
      ]
     },
     "metadata": {
      "needs_background": "light"
     },
     "output_type": "display_data"
    }
   ],
   "source": [
    "plt.figure(figsize=(2.5,5))\n",
    "plt.hist(abs(combined_df['dist'])/1000,bins=10,color='black')\n",
    "plt.xlabel('Variant-Gene Distance (kb)',fontsize=16)\n",
    "plt.ylabel('Number of Variant-Gene Links',fontsize=16)\n",
    "plt.xticks(fontsize=14)\n",
    "plt.yticks(fontsize=14)\n",
    "sns.despine()\n",
    "plot_dir = '/data/cb/alexwu/mm_finemap/figures'\n",
    "# plt.savefig(os.path.join(plot_dir,'variant_gene','variants_gene_dist.pdf'), dpi=500, bbox_inches = \"tight\")\n",
    "np.savetxt(os.path.join(plot_dir,\"variant_gene\",\"variants_gene_dist.csv\"),abs(combined_df['dist'])/1000)\n",
    "plt.show()\n"
   ]
  },
  {
   "cell_type": "code",
   "execution_count": 25,
   "metadata": {},
   "outputs": [
    {
     "data": {
      "image/png": "[encoded data removed]",
      "text/plain": [
       "<Figure size 216x360 with 1 Axes>"
      ]
     },
     "metadata": {
      "needs_background": "light"
     },
     "output_type": "display_data"
    }
   ],
   "source": [
    "plt.figure(figsize=(3,5))\n",
    "plt.hist(combined_df['geneRankByDist'],bins=combined_df['geneRankByDist'].max(),color='darkblue')\n",
    "plt.xlabel('Number of Genes\\nBetween\\nVariant and Gene',fontsize=16)\n",
    "plt.ylabel('Number of Variant-Gene Links',fontsize=16)\n",
    "plt.xticks(fontsize=14)\n",
    "plt.yticks(fontsize=14)\n",
    "sns.despine()\n",
    "plot_dir = '/data/cb/alexwu/mm_finemap/figures'\n",
    "# plt.savefig(os.path.join(plot_dir,'variant_gene','genes_between_variant_gene.pdf'), dpi=500, bbox_inches = \"tight\")\n",
    "np.savetxt(os.path.join(plot_dir,\"variant_gene\",\"variants_gene_dist.csv\"),combined_df['geneRankByDist'].values)\n",
    "plt.show()\n",
    "\n"
   ]
  },
  {
   "cell_type": "code",
   "execution_count": 26,
   "metadata": {},
   "outputs": [
    {
     "data": {
      "text/html": [
       "<div>\n",
       "<style scoped>\n",
       "    .dataframe tbody tr th:only-of-type {\n",
       "        vertical-align: middle;\n",
       "    }\n",
       "\n",
       "    .dataframe tbody tr th {\n",
       "        vertical-align: top;\n",
       "    }\n",
       "\n",
       "    .dataframe thead th {\n",
       "        text-align: right;\n",
       "    }\n",
       "</style>\n",
       "<table border=\"1\" class=\"dataframe\">\n",
       "  <thead>\n",
       "    <tr style=\"text-align: right;\">\n",
       "      <th></th>\n",
       "      <th>atac_id</th>\n",
       "      <th>gene</th>\n",
       "      <th>dist</th>\n",
       "      <th>gwas_pp</th>\n",
       "      <th>chr_no</th>\n",
       "      <th>pos</th>\n",
       "      <th>nearestGene</th>\n",
       "      <th>geneRankByDist</th>\n",
       "    </tr>\n",
       "  </thead>\n",
       "  <tbody>\n",
       "    <tr>\n",
       "      <th>448</th>\n",
       "      <td>313823</td>\n",
       "      <td>DCP1B</td>\n",
       "      <td>234981.0</td>\n",
       "      <td>0.095</td>\n",
       "      <td>chr12</td>\n",
       "      <td>2239678</td>\n",
       "      <td>CACNA1C-AS4</td>\n",
       "      <td>18</td>\n",
       "    </tr>\n",
       "    <tr>\n",
       "      <th>455</th>\n",
       "      <td>320649</td>\n",
       "      <td>NCKAP5L</td>\n",
       "      <td>241664.0</td>\n",
       "      <td>0.070</td>\n",
       "      <td>chr12</td>\n",
       "      <td>50070687</td>\n",
       "      <td>ASIC1</td>\n",
       "      <td>11</td>\n",
       "    </tr>\n",
       "    <tr>\n",
       "      <th>158</th>\n",
       "      <td>91067</td>\n",
       "      <td>CYB561D2</td>\n",
       "      <td>-30532.0</td>\n",
       "      <td>0.609</td>\n",
       "      <td>chr3</td>\n",
       "      <td>50320438</td>\n",
       "      <td>HYAL2</td>\n",
       "      <td>8</td>\n",
       "    </tr>\n",
       "    <tr>\n",
       "      <th>411</th>\n",
       "      <td>312974</td>\n",
       "      <td>ACAD8</td>\n",
       "      <td>-239018.0</td>\n",
       "      <td>0.070</td>\n",
       "      <td>chr11</td>\n",
       "      <td>134023085</td>\n",
       "      <td>LINC02730</td>\n",
       "      <td>7</td>\n",
       "    </tr>\n",
       "    <tr>\n",
       "      <th>404</th>\n",
       "      <td>312971</td>\n",
       "      <td>ACAD8</td>\n",
       "      <td>-247233.0</td>\n",
       "      <td>0.108</td>\n",
       "      <td>chr11</td>\n",
       "      <td>134014628</td>\n",
       "      <td>LINC02730</td>\n",
       "      <td>7</td>\n",
       "    </tr>\n",
       "  </tbody>\n",
       "</table>\n",
       "</div>"
      ],
      "text/plain": [
       "     atac_id      gene      dist  gwas_pp chr_no        pos  nearestGene  \\\n",
       "448   313823     DCP1B  234981.0    0.095  chr12    2239678  CACNA1C-AS4   \n",
       "455   320649   NCKAP5L  241664.0    0.070  chr12   50070687        ASIC1   \n",
       "158    91067  CYB561D2  -30532.0    0.609   chr3   50320438        HYAL2   \n",
       "411   312974     ACAD8 -239018.0    0.070  chr11  134023085    LINC02730   \n",
       "404   312971     ACAD8 -247233.0    0.108  chr11  134014628    LINC02730   \n",
       "\n",
       "     geneRankByDist  \n",
       "448              18  \n",
       "455              11  \n",
       "158               8  \n",
       "411               7  \n",
       "404               7  "
      ]
     },
     "execution_count": 26,
     "metadata": {},
     "output_type": "execute_result"
    }
   ],
   "source": [
    "columns2keep = ['atac_id','gene','dist','gwas_pp','chr_no','pos','nearestGene','geneRankByDist']\n",
    "combined_df.sort_values('geneRankByDist',ascending=False).iloc[0:5][columns2keep]"
   ]
  },
  {
   "cell_type": "code",
   "execution_count": 27,
   "metadata": {},
   "outputs": [
    {
     "data": {
      "image/png": "[encoded data removed]",
      "text/plain": [
       "<Figure size 144x360 with 1 Axes>"
      ]
     },
     "metadata": {
      "needs_background": "light"
     },
     "output_type": "display_data"
    }
   ],
   "source": [
    "percent_nearest_gene = []\n",
    "for rank_no in range(3):\n",
    "    filtered_df = combined_df[combined_df['rank'] == rank_no]\n",
    "    percent_nearest_gene.append((filtered_df['nearestGene'] == filtered_df['gene']).mean())\n",
    "\n",
    "plt.figure(figsize=(2,5))\n",
    "plt.bar(range(1,4),percent_nearest_gene,color='darkblue')\n",
    "plt.xticks(fontsize=14)\n",
    "plt.yticks(fontsize=14)\n",
    "plt.xlabel('Rank of Gene\\nper Variant',fontsize=16)\n",
    "plt.ylabel('% Nearest Gene',fontsize=16)\n",
    "sns.despine()\n",
    "plt.show()"
   ]
  },
  {
   "cell_type": "markdown",
   "metadata": {},
   "source": [
    "### Compare to Nature SCZ"
   ]
  },
  {
   "cell_type": "code",
   "execution_count": 28,
   "metadata": {
    "scrolled": true
   },
   "outputs": [
    {
     "name": "stdout",
     "output_type": "stream",
     "text": [
      "13\n",
      "{'PAK6', 'MSI2', 'NAB2', 'ZNF823', 'THOC7', 'C12orf43', 'ZNF835', 'EMX1', 'PLCH2', 'IRF3', 'FURIN', 'BNIP3L', 'HYI'}\n"
     ]
    }
   ],
   "source": [
    "data_dir = '/data/cb/alexwu/mm_finemap/data/gwas/human_cortex_multiome/nature_scz_papers'\n",
    "\n",
    "genes_df = pd.read_csv(os.path.join(data_dir,'Supp_Table12.prioritized_genes.csv'))\n",
    "\n",
    "prioritized_genes = set(genes_df['Symbol.ID'].values)\n",
    "\n",
    "overlap = set(counts_df_dict['schizophrenia_nature']['gene'].values) & prioritized_genes\n",
    "\n",
    "print(len(overlap))\n",
    "print(overlap)\n"
   ]
  },
  {
   "cell_type": "code",
   "execution_count": 29,
   "metadata": {},
   "outputs": [
    {
     "data": {
      "text/html": [
       "<div>\n",
       "<style scoped>\n",
       "    .dataframe tbody tr th:only-of-type {\n",
       "        vertical-align: middle;\n",
       "    }\n",
       "\n",
       "    .dataframe tbody tr th {\n",
       "        vertical-align: top;\n",
       "    }\n",
       "\n",
       "    .dataframe thead th {\n",
       "        text-align: right;\n",
       "    }\n",
       "</style>\n",
       "<table border=\"1\" class=\"dataframe\">\n",
       "  <thead>\n",
       "    <tr style=\"text-align: right;\">\n",
       "      <th></th>\n",
       "      <th>Gene_set</th>\n",
       "      <th>Term</th>\n",
       "      <th>Overlap</th>\n",
       "      <th>P-value</th>\n",
       "      <th>Adjusted P-value</th>\n",
       "      <th>Genes</th>\n",
       "    </tr>\n",
       "  </thead>\n",
       "  <tbody>\n",
       "    <tr>\n",
       "      <th>0</th>\n",
       "      <td>CUSTOM140629644425536</td>\n",
       "      <td>nature_scz</td>\n",
       "      <td>13/29</td>\n",
       "      <td>0.082645</td>\n",
       "      <td>0.082645</td>\n",
       "      <td>PAK6;MSI2;NAB2;ZNF823;THOC7;C12orf43;ZNF835;EM...</td>\n",
       "    </tr>\n",
       "  </tbody>\n",
       "</table>\n",
       "</div>"
      ],
      "text/plain": [
       "                Gene_set        Term Overlap   P-value  Adjusted P-value  \\\n",
       "0  CUSTOM140629644425536  nature_scz   13/29  0.082645          0.082645   \n",
       "\n",
       "                                               Genes  \n",
       "0  PAK6;MSI2;NAB2;ZNF823;THOC7;C12orf43;ZNF835;EM...  "
      ]
     },
     "execution_count": 29,
     "metadata": {},
     "output_type": "execute_result"
    }
   ],
   "source": [
    "import gseapy as gp\n",
    "\n",
    "# enrichment\n",
    "\n",
    "trait = 'schizophrenia_nature'\n",
    "finemap_key = 'finemap_posterior_probability'\n",
    "pp_thresh = 0.05\n",
    "\n",
    "data_dir = '/data/cb/alexwu/mm_finemap/data/gwas/human_cortex_multiome'\n",
    "file_name = '{}.credible_sets.txt.gz'.format(trait)\n",
    "\n",
    "gwas_df = pd.read_csv(os.path.join(data_dir,file_name),sep='\\t',compression='gzip')\n",
    "\n",
    "# filter GWAS variants by p-value\n",
    "gwas_df = gwas_df[gwas_df[finemap_key] >= pp_thresh]\n",
    "gwas_df = gwas_df[gwas_df['atac_id'].notna()]\n",
    "gwas_df['atac_id'] = gwas_df['atac_id'].astype(int)\n",
    "\n",
    "# get all possible SCZ genes\n",
    "atac_id_set = set(gwas_df['atac_id'].values)\n",
    "inds2keep = [i for i,n in enumerate(eval_df['atac_id'].values) if n in atac_id_set]\n",
    "\n",
    "n_background = len(set(eval_df.iloc[inds2keep]['gene'])) # number of candidate genes (based on proximity to variants)\n",
    "n_overlap = len(overlap) # number of genes in overlap\n",
    "n_links = counts_df_dict['schizophrenia_nature'].shape[0] # number of genes in peak-gene links\n",
    "n_prioritized = len(set(genes_df['Symbol.ID']))\n",
    "\n",
    "outdir = '/data/cb/alexwu/mm_finemap/results/gwas/disease_genes_enrichment/enrichr'\n",
    "\n",
    "background_genes = list(set(eval_df.iloc[inds2keep]['gene']))\n",
    "\n",
    "enr = gp.enrichr(gene_list=counts_df_dict['schizophrenia_nature']['gene'].values.tolist(),\n",
    "                 gene_sets={'nature_scz': list(set(genes_df['Symbol.ID']))},\n",
    "                 organism='Human',\n",
    "                 description='test_name',\n",
    "                 outdir=os.path.join(outdir,'blah'),\n",
    "                 background=background_genes,\n",
    "                 cutoff=0.5\n",
    "                )\n",
    "\n",
    "results_df = enr.results[enr.results['Adjusted P-value'] < 0.5]\n",
    "results_df"
   ]
  },
  {
   "cell_type": "code",
   "execution_count": null,
   "metadata": {},
   "outputs": [],
   "source": []
  },
  {
   "cell_type": "code",
   "execution_count": null,
   "metadata": {},
   "outputs": [],
   "source": []
  },
  {
   "cell_type": "markdown",
   "metadata": {},
   "source": [
    "### Compare to Nature SCZ Prioritized Genes"
   ]
  },
  {
   "cell_type": "code",
   "execution_count": 49,
   "metadata": {
    "scrolled": true
   },
   "outputs": [
    {
     "data": {
      "text/plain": [
       "{'BNIP3L',\n",
       " 'C12orf43',\n",
       " 'EMX1',\n",
       " 'FURIN',\n",
       " 'HYI',\n",
       " 'IRF3',\n",
       " 'MSI2',\n",
       " 'NAB2',\n",
       " 'PAK6',\n",
       " 'PLCH2',\n",
       " 'RNASEH2C',\n",
       " 'THOC7',\n",
       " 'ZNF823',\n",
       " 'ZNF835'}"
      ]
     },
     "execution_count": 49,
     "metadata": {},
     "output_type": "execute_result"
    }
   ],
   "source": [
    "data_dir = '/data/cb/alexwu/mm_finemap/data/gwas/human_cortex_multiome/nature_scz_papers'\n",
    "\n",
    "genes_df = pd.read_csv(os.path.join(data_dir,'Supp_Table12.prioritized_genes.csv'))\n",
    "\n",
    "set(counts_df_dict['schizophrenia_nature']['gene'].values) & set(genes_df['Symbol.ID'])"
   ]
  },
  {
   "cell_type": "code",
   "execution_count": 50,
   "metadata": {},
   "outputs": [],
   "source": [
    "trait = 'schizophrenia_nature'\n",
    "\n",
    "combined_df = combined_df_dict[trait].copy()\n",
    "gene_txstart_dict = {gene: (chr_no,txstart) for gene,(chr_no,txstart)\n",
    "                     in zip(*[rna_adata.var.index.values,rna_adata.var[['chr_no','txstart']].values])}\n",
    "\n",
    "combined_df['gene_txstart'] = [gene_txstart_dict[g][1] for g in combined_df['gene']]\n",
    "combined_df['gene_txstart_1'] = combined_df['gene_txstart'].astype(int) + 1\n",
    "combined_df['variant_pos'] = [n.split('-')[1] for n in combined_df['variant']]\n",
    "combined_df['variant_pos_1'] = combined_df['variant_pos'].astype(int) + 1\n",
    "\n",
    "# write to file\n",
    "save_dir = '/data/cb/alexwu/mm_finemap/data/ucsc'\n",
    "columns = ['chr_no','gene_txstart','gene_txstart_1','chr_no','variant_pos','variant_pos_1',score_key]\n",
    "combined_df[columns].to_csv(os.path.join(save_dir,'{}.{}.links'.format(trait,score_key)),\n",
    "                                              header=False,index=False,sep='\\t')"
   ]
  },
  {
   "cell_type": "code",
   "execution_count": null,
   "metadata": {},
   "outputs": [],
   "source": []
  },
  {
   "cell_type": "markdown",
   "metadata": {},
   "source": [
    "### Differentially Expressed SCZ Genes"
   ]
  },
  {
   "cell_type": "code",
   "execution_count": 15,
   "metadata": {},
   "outputs": [],
   "source": [
    "trait = 'schizophrenia_nature'\n",
    "\n",
    "combined_df = combined_df_dict[trait].copy()\n",
    "disease_genes = sorted(list(set(combined_df['gene'])))"
   ]
  },
  {
   "cell_type": "code",
   "execution_count": 16,
   "metadata": {},
   "outputs": [
    {
     "name": "stderr",
     "output_type": "stream",
     "text": [
      "/tmp/ipykernel_3488297/3624314639.py:7: FutureWarning: X.dtype being converted to np.float32 from int64. In the next version of anndata (0.9) conversion will not be automatic. Pass dtype explicitly to avoid this warning. Pass `AnnData(X, dtype=X.dtype, ...)` to get the future behavour.\n",
      "  adata = AnnData(data_df.T)\n"
     ]
    }
   ],
   "source": [
    "from anndata import AnnData\n",
    "\n",
    "data_dir = '/data/cb/alexwu/mm_finemap/data/gwas/human_cortex_multiome/GoldmanetalSCZ2016/'\n",
    "\n",
    "data_df = pd.read_csv(os.path.join(data_dir,'countData_allSamples.txt'),sep='\\t')\n",
    "\n",
    "adata = AnnData(data_df.T)\n",
    "adata.obs['condition'] = ['control' if 'CTR' in n else 'SCZ' for n in adata.obs.index.values]\n",
    "\n",
    "sc.pp.normalize_total(adata,target_sum=1e6)\n",
    "sc.pp.log1p(adata)"
   ]
  },
  {
   "cell_type": "code",
   "execution_count": 17,
   "metadata": {},
   "outputs": [
    {
     "name": "stdout",
     "output_type": "stream",
     "text": [
      "117 132\n"
     ]
    }
   ],
   "source": [
    "disease_genes2keep = [n for n in disease_genes if n in adata.var.index.values]\n",
    "print(len(disease_genes2keep),len(disease_genes))"
   ]
  },
  {
   "cell_type": "code",
   "execution_count": 18,
   "metadata": {
    "scrolled": true
   },
   "outputs": [
    {
     "name": "stdout",
     "output_type": "stream",
     "text": [
      "3 21\n"
     ]
    },
    {
     "name": "stderr",
     "output_type": "stream",
     "text": [
      "/data/cb/alexwu/anaconda3/envs/lagnet/lib/python3.8/site-packages/anndata/_core/anndata.py:1235: ImplicitModificationWarning: Trying to modify attribute `.obs` of view, initializing view as actual.\n",
      "  df[key] = c\n"
     ]
    }
   ],
   "source": [
    "disease_adata = adata[:,disease_genes2keep]\n",
    "\n",
    "# differential expression w.r.t. cycling progenitors\n",
    "sc.tl.rank_genes_groups(disease_adata,groupby='condition',method='t-test_overestim_var',reference='control')\n",
    "\n",
    "pvals = disease_adata.uns['rank_genes_groups']['pvals']['SCZ']\n",
    "pvals_adj = disease_adata.uns['rank_genes_groups']['pvals_adj']['SCZ']\n",
    "lfc = disease_adata.uns['rank_genes_groups']['logfoldchanges']['SCZ']\n",
    "gene_names = disease_adata.uns['rank_genes_groups']['names']['SCZ']\n",
    "\n",
    "up_genes = gene_names[(lfc > 0) & (pvals < 0.05)]\n",
    "down_genes = gene_names[(lfc < 0) & (pvals < 0.05)]\n",
    "\n",
    "print(len(up_genes),len(down_genes))"
   ]
  },
  {
   "cell_type": "code",
   "execution_count": 19,
   "metadata": {},
   "outputs": [
    {
     "data": {
      "text/plain": [
       "array(['TTC12', 'SMIM15', 'DCP1B'], dtype=object)"
      ]
     },
     "execution_count": 19,
     "metadata": {},
     "output_type": "execute_result"
    }
   ],
   "source": [
    "up_genes"
   ]
  },
  {
   "cell_type": "code",
   "execution_count": 83,
   "metadata": {
    "scrolled": false
   },
   "outputs": [
    {
     "data": {
      "text/plain": [
       "array(['C12orf43', 'STAT6', 'DOCK6', 'ELAC2', 'TACO1', 'RAB27B', 'NTNG2',\n",
       "       'CTDP1', 'ACAD8', 'ZNF202', 'SCAF1', 'FUT9', 'EPN2-AS1', 'CPT1C',\n",
       "       'DNAJC27-AS1', 'NCKAP5L', 'KCNG2', 'ASIC1', 'IGSF9B', 'ICA1',\n",
       "       'P2RX7'], dtype=object)"
      ]
     },
     "execution_count": 83,
     "metadata": {},
     "output_type": "execute_result"
    }
   ],
   "source": [
    "down_genes"
   ]
  },
  {
   "cell_type": "code",
   "execution_count": 84,
   "metadata": {},
   "outputs": [
    {
     "name": "stdout",
     "output_type": "stream",
     "text": [
      "TTC12 [0.03637093] [0.00279776] [0.68954134]\n",
      "SMIM15 [0.03742687] [0.00329882] [0.21155716]\n",
      "DCP1B [0.14420182] [0.0209524] [0.14478329]\n"
     ]
    }
   ],
   "source": [
    "for g in up_genes:\n",
    "    print(g,pvals_adj[gene_names == g],pvals[gene_names == g],lfc[gene_names == g])"
   ]
  },
  {
   "cell_type": "code",
   "execution_count": 85,
   "metadata": {
    "scrolled": true
   },
   "outputs": [
    {
     "name": "stdout",
     "output_type": "stream",
     "text": [
      "C12orf43    \t [0.21243645] \t [0.04357671] \t [-0.14864007]\n",
      "STAT6    \t [0.20682204] \t [0.04065732] \t [-1.2124342]\n",
      "DOCK6    \t [0.18068202] \t [0.0339744] \t [-0.624225]\n",
      "ELAC2    \t [0.17502694] \t [0.03141509] \t [-0.13331105]\n",
      "TACO1    \t [0.16202664] \t [0.02769686] \t [-0.15429232]\n",
      "RAB27B    \t [0.15457027] \t [0.02510116] \t [-0.979861]\n",
      "NTNG2    \t [0.14769436] \t [0.02272221] \t [-0.5668669]\n",
      "CTDP1    \t [0.13854159] \t [0.01894586] \t [-0.14810915]\n",
      "ACAD8    \t [0.08643212] \t [0.01108104] \t [-0.23425294]\n",
      "ZNF202    \t [0.08332416] \t [0.00975613] \t [-0.33455896]\n",
      "SCAF1    \t [0.08332416] \t [0.00997041] \t [-0.22742435]\n",
      "FUT9    \t [0.05374739] \t [0.00551255] \t [-1.0648583]\n",
      "EPN2-AS1    \t [0.03742687] \t [0.00351877] \t [-1.6433353]\n",
      "CPT1C    \t [0.03181049] \t [0.00217508] \t [-0.3616984]\n",
      "DNAJC27-AS1    \t [0.02199071] \t [0.00131568] \t [-0.46869382]\n",
      "NCKAP5L    \t [0.00694535] \t [0.00033382] \t [-0.31026113]\n",
      "KCNG2    \t [0.00694535] \t [0.00035617] \t [-1.4238665]\n",
      "ASIC1    \t [0.00694535] \t [0.00029325] \t [-0.8387755]\n",
      "IGSF9B    \t [0.00356188] \t [9.1330383e-05] \t [-1.5304978]\n",
      "ICA1    \t [6.53199021e-05] \t [1.11657952e-06] \t [-1.6187081]\n",
      "P2RX7    \t [1.23316209e-05] \t [1.0539847e-07] \t [-2.1252058]\n"
     ]
    }
   ],
   "source": [
    "for g in down_genes:\n",
    "    print(g,'   \\t',pvals_adj[gene_names == g],'\\t',pvals[gene_names == g],'\\t',lfc[gene_names == g])"
   ]
  },
  {
   "cell_type": "code",
   "execution_count": null,
   "metadata": {},
   "outputs": [],
   "source": []
  },
  {
   "cell_type": "code",
   "execution_count": null,
   "metadata": {},
   "outputs": [],
   "source": []
  },
  {
   "cell_type": "markdown",
   "metadata": {},
   "source": [
    "## Distribution of Variant Annotations\n",
    "\n",
    "https://useast.ensembl.org/info/genome/variation/prediction/predicted_data.html\n",
    "\n",
    "downstream_variant: within 5KB\n",
    "upstream_variant: within 5KB"
   ]
  },
  {
   "cell_type": "code",
   "execution_count": 12,
   "metadata": {},
   "outputs": [],
   "source": [
    "data_dir = '/data/cb/alexwu/mm_finemap/data/gwas/human_cortex_multiome'\n",
    "\n",
    "trait = 'schizophrenia_nature'\n",
    "\n",
    "file_name = '{}.credible_sets.txt.gz'.format(trait)\n",
    "gwas_df = pd.read_csv(os.path.join(data_dir,file_name),sep='\\t',compression='gzip')\n",
    "gwas_df = gwas_df[gwas_df['finemap_posterior_probability'] > 0.05]"
   ]
  },
  {
   "cell_type": "code",
   "execution_count": 13,
   "metadata": {},
   "outputs": [],
   "source": [
    "# hierarchy_dict = {'downstream_gene_variant': 'intergenic_variant',\n",
    "#                   'upstream_gene_variant': 'intergenic_variant',\n",
    "#                   'TF_binding_site_variant': 'regulatory_region_variant',\n",
    "#                   'intron_variant,non_coding_transcript_variant': 'intron_variant',\n",
    "#                   }\n",
    "\n",
    "hierarchy_dict = {\n",
    "                  'TF_binding_site_variant': 'regulatory_region_variant',\n",
    "                  'intron_variant,non_coding_transcript_variant': 'intron_variant',\n",
    "                  '5_prime_UTR_variant': 'UTR variant',\n",
    "                  '3_prime_UTR_variant': 'UTR variant',\n",
    "                  }"
   ]
  },
  {
   "cell_type": "markdown",
   "metadata": {},
   "source": [
    "### All Credible Sets"
   ]
  },
  {
   "cell_type": "code",
   "execution_count": 14,
   "metadata": {},
   "outputs": [],
   "source": [
    "annot2keep = ['downstream_gene_variant', 'intron_variant', 'upstream_gene_variant', \n",
    "              'intergenic_variant', 'UTR variant', 'regulatory_region_variant'] #'missense_variant', \n"
   ]
  },
  {
   "cell_type": "code",
   "execution_count": 18,
   "metadata": {},
   "outputs": [
    {
     "data": {
      "image/png": "[encoded data removed]",
      "text/plain": [
       "<Figure size 432x288 with 1 Axes>"
      ]
     },
     "metadata": {},
     "output_type": "display_data"
    }
   ],
   "source": [
    "data_dir = '/data/cb/alexwu/mm_finemap/data/gwas/human_cortex_multiome/nature_scz_papers'\n",
    "\n",
    "full_gwas_df = pd.read_csv(os.path.join(data_dir,'Supp_Table11.credible_sets.csv'))\n",
    "full_gwas_df = full_gwas_df[full_gwas_df['finemap_posterior_probability'] > 0.05]\n",
    "\n",
    "impact_list = full_gwas_df['impact'].values\n",
    "\n",
    "# rename annotation\n",
    "impact_list = [hierarchy_dict[k] if k in hierarchy_dict else k for k in impact_list]\n",
    "impact_list = [n if n in annot2keep else 'other' for n in impact_list]\n",
    "\n",
    "annot_counts = Counter(impact_list)\n",
    "\n",
    "values = []\n",
    "labels = []\n",
    "for k in [k for k,v in sorted(annot_counts.items(),key=lambda item: item[1])]: # + ['other']:\n",
    "    labels.append(' '.join(k.split('_')))\n",
    "    values.append(annot_counts[k])\n",
    "    \n",
    "colors = sns.color_palette('colorblind')[0:len(set(labels))]\n",
    "colors.reverse()\n",
    "plt.pie(values,labels=labels,textprops={'fontsize': 14},colors=colors)\n",
    "\n",
    "my_circle=plt.Circle( (0,0), 0.5, color='white')\n",
    "p=plt.gcf()\n",
    "p.gca().add_artist(my_circle)\n",
    "\n",
    "plot_dir = '/data/cb/alexwu/mm_finemap/figures'\n",
    "plt.savefig(os.path.join(plot_dir,'variant_position','variant_position.all.pdf'), dpi=500, bbox_inches = \"tight\")\n",
    "plt.show()"
   ]
  },
  {
   "cell_type": "markdown",
   "metadata": {},
   "source": [
    "### In Peak-Gene Pairs"
   ]
  },
  {
   "cell_type": "code",
   "execution_count": 19,
   "metadata": {},
   "outputs": [
    {
     "data": {
      "image/png": "[encoded data removed]",
      "text/plain": [
       "<Figure size 432x288 with 1 Axes>"
      ]
     },
     "metadata": {},
     "output_type": "display_data"
    }
   ],
   "source": [
    "variant_impact_dict = {'{}-{}'.format(chr_no,int(pos)): impact for chr_no,pos,impact \n",
    "                       in gwas_df[['chr_liftover','pos_liftover','impact']].values}\n",
    "\n",
    "links_impact_list = []\n",
    "for variant in set(combined_df['variant']):\n",
    "    links_impact_list.append(variant_impact_dict[variant])\n",
    "\n",
    "# rename annotation\n",
    "links_impact_list = [hierarchy_dict[k] if k in hierarchy_dict else k for k in links_impact_list]\n",
    "links_impact_list = [n if n in annot2keep else 'other' for n in links_impact_list]\n",
    "\n",
    "links_annot_counts = Counter(links_impact_list)\n",
    "\n",
    "values = []\n",
    "labels = []\n",
    "for k in [k for k,v in sorted(annot_counts.items(),key=lambda item: item[1])]: # + ['other']:\n",
    "    labels.append(' '.join(k.split('_')))\n",
    "    values.append(links_annot_counts[k])\n",
    "    \n",
    "colors = sns.color_palette('colorblind')[0:len(set(labels))]\n",
    "colors.reverse()\n",
    "plt.pie(values,labels=labels,textprops={'fontsize': 14},colors=colors)\n",
    "\n",
    "my_circle=plt.Circle( (0,0), 0.5, color='white')\n",
    "p=plt.gcf()\n",
    "p.gca().add_artist(my_circle)\n",
    "\n",
    "# plt.legend(bbox_to_anchor=(2,1))\n",
    "\n",
    "plot_dir = '/data/cb/alexwu/mm_finemap/figures'\n",
    "plt.savefig(os.path.join(plot_dir,'variant_position','variant_position.in_peak_gene.pdf'), dpi=500, bbox_inches = \"tight\")\n",
    "plt.show()"
   ]
  },
  {
   "cell_type": "code",
   "execution_count": 23,
   "metadata": {},
   "outputs": [
    {
     "name": "stdout",
     "output_type": "stream",
     "text": [
      "UTR variant 6\n",
      "other 1\n",
      "regulatory region variant 6\n",
      "upstream gene variant 9\n",
      "downstream gene variant 17\n",
      "intergenic variant 8\n",
      "intron variant 68\n"
     ]
    }
   ],
   "source": [
    "for l,v in zip(*[labels,values]):\n",
    "    print(l,v)"
   ]
  },
  {
   "cell_type": "code",
   "execution_count": 24,
   "metadata": {},
   "outputs": [
    {
     "data": {
      "text/plain": [
       "0.06956521739130435"
      ]
     },
     "execution_count": 24,
     "metadata": {},
     "output_type": "execute_result"
    }
   ],
   "source": [
    "8/sum(values)"
   ]
  },
  {
   "cell_type": "code",
   "execution_count": null,
   "metadata": {},
   "outputs": [],
   "source": []
  },
  {
   "cell_type": "markdown",
   "metadata": {},
   "source": [
    "### Cell Type-Specific Disease Genes"
   ]
  },
  {
   "cell_type": "code",
   "execution_count": 26,
   "metadata": {},
   "outputs": [
    {
     "name": "stdout",
     "output_type": "stream",
     "text": [
      "WARNING: Your filename has more than two extensions: ['.rna', '.uniform', '.h5ad'].\n",
      "Only considering the two last: ['.uniform', '.h5ad'].\n",
      "WARNING: Your filename has more than two extensions: ['.rna', '.uniform', '.h5ad'].\n",
      "Only considering the two last: ['.uniform', '.h5ad'].\n",
      "WARNING: Your filename has more than two extensions: ['.atac', '.uniform', '.h5ad'].\n",
      "Only considering the two last: ['.uniform', '.h5ad'].\n",
      "WARNING: Your filename has more than two extensions: ['.atac', '.uniform', '.h5ad'].\n",
      "Only considering the two last: ['.uniform', '.h5ad'].\n"
     ]
    }
   ],
   "source": [
    "from collections import Counter\n",
    "\n",
    "distance = 250000\n",
    "n_layers = 10\n",
    "n_neighbors = 15\n",
    "mode = 'lr'\n",
    "\n",
    "dataset = 'human_cortex_multiome_lineage'\n",
    "sampling = 'uniform'\n",
    "\n",
    "rna_adata,atac_adata = load_data(dataset,sampling=sampling,gene_percent_cells=0.01,\n",
    "                                          peak_percent_cells=0.001,include_h5=False,\n",
    "                                          distance=distance,preprocess=False)"
   ]
  },
  {
   "cell_type": "code",
   "execution_count": 27,
   "metadata": {},
   "outputs": [],
   "source": [
    "rna_adata.obs['cell_type_broad'] = [n[:-1] if 'GluN' in n else n for n in rna_adata.obs['cell_type']]\n",
    "\n",
    "trait = 'schizophrenia_nature'\n",
    "\n",
    "combined_df = combined_df_dict[trait].copy()\n",
    "disease_genes = sorted(list(set(combined_df['gene'])))\n",
    "cell_type_list = sorted(list(set(rna_adata.obs['cell_type_broad'])))\n",
    "\n",
    "X_list = []\n",
    "for cell_type in cell_type_list:\n",
    "    X_list.append(rna_adata[rna_adata.obs['cell_type_broad'] == cell_type][:,disease_genes].X.toarray().mean(0))\n",
    "X = np.array(X_list)\n",
    "\n",
    "# normalize\n",
    "from sklearn.preprocessing import normalize\n",
    "\n",
    "X = normalize(X,norm='max',axis=0)\n",
    "\n",
    "exp_df = pd.DataFrame(X,index=cell_type_list,columns=disease_genes)"
   ]
  },
  {
   "cell_type": "code",
   "execution_count": 28,
   "metadata": {},
   "outputs": [
    {
     "data": {
      "text/plain": [
       "132"
      ]
     },
     "execution_count": 28,
     "metadata": {},
     "output_type": "execute_result"
    }
   ],
   "source": [
    "len(disease_genes)"
   ]
  },
  {
   "cell_type": "code",
   "execution_count": 30,
   "metadata": {
    "scrolled": true
   },
   "outputs": [
    {
     "data": {
      "image/png": "[encoded data removed]",
      "text/plain": [
       "<Figure size 800x250 with 4 Axes>"
      ]
     },
     "metadata": {},
     "output_type": "display_data"
    }
   ],
   "source": [
    "cg = sns.clustermap(exp_df,figsize=(8,2.5),cmap='RdBu_r',xticklabels=False) \n",
    "# plt.setp(cg.ax_heatmap.xaxis.get_majorticklabels()) #, rotation=45)\n",
    "cg.ax_row_dendrogram.set_visible(False)\n",
    "cg.ax_col_dendrogram.set_visible(False)\n",
    "# cg.cax.set_visible(False)\n",
    "\n",
    "cg.ax_heatmap.set_yticklabels(cg.ax_heatmap.get_ymajorticklabels(), fontsize = 14)\n",
    "\n",
    "cg.cax.set_position([0.05, .1, .02, .65])\n",
    "\n",
    "cg.cax.tick_params(labelsize=16)\n",
    "\n",
    "plot_dir = '/data/cb/alexwu/mm_finemap/figures'\n",
    "# plt.savefig(os.path.join(plot_dir,'variant_gene','diff_exp_genes.pdf'), dpi=500, bbox_inches = \"tight\")\n",
    "exp_df.to_csv(os.path.join(plot_dir,\"variant_gene\",\"diff_exp_genes.csv\"))\n",
    "plt.show()"
   ]
  },
  {
   "cell_type": "code",
   "execution_count": 29,
   "metadata": {},
   "outputs": [],
   "source": [
    "disease_rna_adata = rna_adata[:,disease_genes].copy()"
   ]
  },
  {
   "cell_type": "code",
   "execution_count": 41,
   "metadata": {
    "scrolled": true
   },
   "outputs": [],
   "source": [
    "sc.tl.rank_genes_groups(disease_rna_adata,groupby='cell_type_broad',method='t-test') #,reference='Cyc. Prog.')\n",
    "\n",
    "pvals_adj = disease_rna_adata.uns['rank_genes_groups']['pvals_adj']\n",
    "lfc = disease_rna_adata.uns['rank_genes_groups']['logfoldchanges']\n",
    "gene_names = disease_rna_adata.uns['rank_genes_groups']['names']"
   ]
  },
  {
   "cell_type": "code",
   "execution_count": 42,
   "metadata": {},
   "outputs": [
    {
     "name": "stdout",
     "output_type": "stream",
     "text": [
      "104 132\n"
     ]
    }
   ],
   "source": [
    "all_de_genes = []\n",
    "for cell_type in set(disease_rna_adata.obs['cell_type_broad']):\n",
    "    if cell_type != 'Cyc. Prog.!!':\n",
    "        all_de_genes.extend(gene_names[cell_type][(pvals_adj[cell_type] < 0.05)]) # & (abs(lfc[cell_type]) > 1)])\n",
    "all_de_genes = set(all_de_genes)\n",
    "print(len(all_de_genes),len(disease_genes))"
   ]
  },
  {
   "cell_type": "code",
   "execution_count": 43,
   "metadata": {},
   "outputs": [
    {
     "data": {
      "text/plain": [
       "104"
      ]
     },
     "execution_count": 43,
     "metadata": {},
     "output_type": "execute_result"
    }
   ],
   "source": [
    "len(set(disease_genes) & all_de_genes)"
   ]
  },
  {
   "cell_type": "code",
   "execution_count": 179,
   "metadata": {},
   "outputs": [
    {
     "data": {
      "text/html": [
       "<div>\n",
       "<style scoped>\n",
       "    .dataframe tbody tr th:only-of-type {\n",
       "        vertical-align: middle;\n",
       "    }\n",
       "\n",
       "    .dataframe tbody tr th {\n",
       "        vertical-align: top;\n",
       "    }\n",
       "\n",
       "    .dataframe thead th {\n",
       "        text-align: right;\n",
       "    }\n",
       "</style>\n",
       "<table border=\"1\" class=\"dataframe\">\n",
       "  <thead>\n",
       "    <tr style=\"text-align: right;\">\n",
       "      <th></th>\n",
       "      <th>Gene_set</th>\n",
       "      <th>Term</th>\n",
       "      <th>Overlap</th>\n",
       "      <th>P-value</th>\n",
       "      <th>Adjusted P-value</th>\n",
       "      <th>Genes</th>\n",
       "    </tr>\n",
       "  </thead>\n",
       "  <tbody>\n",
       "    <tr>\n",
       "      <th>0</th>\n",
       "      <td>CUSTOM140701589867648</td>\n",
       "      <td>diff_exp</td>\n",
       "      <td>66/66</td>\n",
       "      <td>3.322354e-40</td>\n",
       "      <td>3.322354e-40</td>\n",
       "      <td>RAB27B;TTC12;DOCK6;DTNB-AS1;C9orf40;TRPM6;NRBP...</td>\n",
       "    </tr>\n",
       "  </tbody>\n",
       "</table>\n",
       "</div>"
      ],
      "text/plain": [
       "                Gene_set      Term Overlap       P-value  Adjusted P-value  \\\n",
       "0  CUSTOM140701589867648  diff_exp   66/66  3.322354e-40      3.322354e-40   \n",
       "\n",
       "                                               Genes  \n",
       "0  RAB27B;TTC12;DOCK6;DTNB-AS1;C9orf40;TRPM6;NRBP...  "
      ]
     },
     "execution_count": 179,
     "metadata": {},
     "output_type": "execute_result"
    }
   ],
   "source": [
    "import gseapy as gp\n",
    "\n",
    "# enrichment\n",
    "\n",
    "trait = 'schizophrenia_nature'\n",
    "finemap_key = 'finemap_posterior_probability'\n",
    "pp_thresh = 0.05\n",
    "\n",
    "data_dir = '/data/cb/alexwu/mm_finemap/data/gwas/human_cortex_multiome'\n",
    "file_name = '{}.credible_sets.txt.gz'.format(trait)\n",
    "\n",
    "gwas_df = pd.read_csv(os.path.join(data_dir,file_name),sep='\\t',compression='gzip')\n",
    "\n",
    "# filter GWAS variants by p-value\n",
    "gwas_df = gwas_df[gwas_df[finemap_key] >= pp_thresh]\n",
    "gwas_df = gwas_df[gwas_df['atac_id'].notna()]\n",
    "gwas_df['atac_id'] = gwas_df['atac_id'].astype(int)\n",
    "\n",
    "# get all possible SCZ genes\n",
    "atac_id_set = set(gwas_df['atac_id'].values)\n",
    "inds2keep = [i for i,n in enumerate(eval_df['atac_id'].values) if n in atac_id_set]\n",
    "\n",
    "# n_background = len(set(eval_df.iloc[inds2keep]['gene'])) # number of candidate genes (based on proximity to variants)\n",
    "# n_overlap = len(overlap) # number of genes in overlap\n",
    "# n_links = counts_df_dict['schizophrenia_nature'].shape[0] # number of genes in peak-gene links\n",
    "# n_prioritized = len(set(genes_df['Symbol.ID']))\n",
    "\n",
    "outdir = '/data/cb/alexwu/mm_finemap/results/gwas/disease_genes_enrichment/enrichr'\n",
    "\n",
    "background_genes = list(set(eval_df.iloc[inds2keep]['gene']))\n",
    "\n",
    "enr = gp.enrichr(gene_list=counts_df_dict['schizophrenia_nature']['gene'].values.tolist(),\n",
    "                 gene_sets={'diff_exp': list(set(all_de_genes))},\n",
    "                 organism='Human',\n",
    "                 description='test_name',\n",
    "                 outdir=os.path.join(outdir,'blah'),\n",
    "                 background=background_genes,\n",
    "                 cutoff=0.5\n",
    "                )\n",
    "\n",
    "# results_df = enr.results[enr.results['Adjusted P-value'] < 0.5]\n",
    "enr.results"
   ]
  },
  {
   "cell_type": "code",
   "execution_count": null,
   "metadata": {},
   "outputs": [],
   "source": []
  },
  {
   "cell_type": "code",
   "execution_count": null,
   "metadata": {},
   "outputs": [],
   "source": []
  }
 ],
 "metadata": {
  "kernelspec": {
   "display_name": "Python 3 (ipykernel)",
   "language": "python",
   "name": "python3"
  },
  "language_info": {
   "codemirror_mode": {
    "name": "ipython",
    "version": 3
   },
   "file_extension": ".py",
   "mimetype": "text/x-python",
   "name": "python",
   "nbconvert_exporter": "python",
   "pygments_lexer": "ipython3",
   "version": "3.8.13"
  }
 },
 "nbformat": 4,
 "nbformat_minor": 4
}
