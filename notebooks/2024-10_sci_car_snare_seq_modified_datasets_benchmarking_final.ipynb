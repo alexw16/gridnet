{
 "cells": [
  {
   "cell_type": "code",
   "execution_count": 1,
   "metadata": {},
   "outputs": [],
   "source": [
    "%matplotlib inline\n",
    "import os\n",
    "import numpy as np\n",
    "import matplotlib.pyplot as plt\n",
    "import numpy as np\n",
    "import seaborn as sns\n",
    "import pandas as pd\n",
    "\n",
    "import csv\n",
    "import umap\n",
    "import scanpy as sc"
   ]
  },
  {
   "cell_type": "code",
   "execution_count": 2,
   "metadata": {},
   "outputs": [],
   "source": [
    "import h5py\n",
    "from scipy.sparse import csr_matrix\n",
    "\n",
    "def load_data(dataset,gene_percent_cells=0.01,peak_percent_cells=0.001,include_h5=True,\n",
    "              preprocess=True,sampling=None,distance=1000000):\n",
    "    \n",
    "    data_dir = '/data/cb/alexwu/mm_finemap/datasets/{}'.format(dataset)\n",
    "\n",
    "    if sampling == 'geosketch':\n",
    "        rna_adata = sc.read(os.path.join(data_dir,'{}.rna.sketch.h5ad'.format(dataset)))\n",
    "        atac_adata = sc.read(os.path.join(data_dir,'{}.atac.sketch.h5ad'.format(dataset)))\n",
    "    elif sampling == 'uniform':\n",
    "        rna_adata = sc.read(os.path.join(data_dir,'{}.rna.uniform.h5ad'.format(dataset)))\n",
    "        atac_adata = sc.read(os.path.join(data_dir,'{}.atac.uniform.h5ad'.format(dataset)))        \n",
    "    else:\n",
    "        rna_adata = sc.read(os.path.join(data_dir,'{}.rna.h5ad'.format(dataset)))\n",
    "        atac_adata = sc.read(os.path.join(data_dir,'{}.atac.h5ad'.format(dataset)))\n",
    "\n",
    "    if dataset == 'sci_car':\n",
    "        data_dir = '/data/cb/alexwu/mm_finemap/data/sci_car'\n",
    "        adata = sc.read(os.path.join(data_dir,'adata-hs.h5ad'))\n",
    "\n",
    "        atac_adata.var['chr_no'] = ['chr' + n for n in atac_adata.var['chr_no']]\n",
    "        atac_adata.var['start'] = adata.uns['atac.var'][:,2].astype(int)\n",
    "        atac_adata.var['end'] = adata.uns['atac.var'][:,3].astype(int)\n",
    "\n",
    "    if preprocess:\n",
    "        # scale by maximum \n",
    "        # (rna already normalized by library size + log-transformed)\n",
    "        X_max = rna_adata.X.max(0).toarray().squeeze()\n",
    "        X_max[X_max == 0] = 1\n",
    "        rna_adata.X = csr_matrix(rna_adata.X / X_max)\n",
    "\n",
    "        # atac: normalize library size + log transformation\n",
    "        sc.pp.normalize_total(atac_adata,target_sum=1e4)\n",
    "        sc.pp.log1p(atac_adata)\n",
    "\n",
    "    if include_h5:\n",
    "        data_dir = '/data/cb/alexwu/mm_finemap/datasets/{}'.format(dataset)\n",
    "        with h5py.File(os.path.join(data_dir,'dataset.h5'),'r') as f:\n",
    "            print(f.keys())\n",
    "            data_df = pd.DataFrame()\n",
    "            for k in ['chr_no','eqtl','hic','dist','atac_id','gene','corr','group_corr','gene_percent_cells',\n",
    "                      'peak_percent_cells','hg38tohg19_eqtl','eqtl.new','corr_bin','group_corr_bin',\n",
    "                      'hic_0hr','hic_1hr','hic_4hr','eqtl.q','hic_4hr.expectedBL','eqtl.all','hic.new2',\n",
    "                      'hic.100kb','ABC.score']: #,\n",
    "#                      'hic_0hr.expectedBL','hic_1hr.expectedBL','hic_4hr.expectedBL.new','hic_0hr.expectedBL.new',\n",
    "#                      'hic_4hr.expectedBL.new2','hic_12hr.expectedBL','hic_4hr.expectedBL.full']:\n",
    "                if k in f.keys():\n",
    "                    data_df[k] = f[k][:]\n",
    "\n",
    "        small_df = data_df[abs(data_df['dist']) < distance]\n",
    "\n",
    "        # small_df = small_df[~np.isnan(small_df['group_corr'])]\n",
    "        small_df = small_df[small_df['gene_percent_cells'] > gene_percent_cells]\n",
    "        small_df = small_df[small_df['peak_percent_cells'] > peak_percent_cells]\n",
    "\n",
    "        small_df.index = [(atac_idx,gene) for atac_idx,gene in small_df[['atac_id','gene']].values]\n",
    "    \n",
    "        return rna_adata,atac_adata,small_df\n",
    "\n",
    "    else:\n",
    "        \n",
    "        return rna_adata,atac_adata"
   ]
  },
  {
   "cell_type": "code",
   "execution_count": 3,
   "metadata": {},
   "outputs": [],
   "source": [
    "from sklearn.metrics import average_precision_score\n",
    "from sklearn.metrics import precision_recall_curve\n",
    "from sklearn.metrics import f1_score\n",
    "from sklearn.metrics import roc_auc_score\n",
    "\n",
    "def get_results(dataset,method,n_layers=None,n_neighbors=None,mode=None,sketch=False,trial_no=None,new=True):\n",
    "    \n",
    "    data_dir = '/data/cb/alexwu/mm_finemap/results/tests_nn/{}'.format(dataset)\n",
    "    \n",
    "    if method == 'graph':\n",
    "        trial_str = 'new2' if trial_no == 0 else 'trial{}'.format(trial_no)\n",
    "        if sketch:\n",
    "            file_name = 'graph.sketch.{}.all.max_scale.mseloss.{}layers.nn{}.{}.p.txt'.format(trial_str,n_layers,n_neighbors,mode)\n",
    "        else:\n",
    "            file_name = 'graph.{}.all.max_scale.mseloss.{}layers.nn{}.{}.p.txt'.format(trial_str,n_layers,n_neighbors,mode)\n",
    "    elif method == 'granger':\n",
    "        if sketch:\n",
    "            file_name = 'baseline.bin.sketch.bin.results.txt'\n",
    "        else:\n",
    "            file_name = 'baseline.bin.bin.results.txt'\n",
    "    elif method == 'graph.base':\n",
    "        if sketch:\n",
    "            file_name = 'graph.base.sketch.new.{}layers.nn{}.{}.txt'.format(n_layers,n_neighbors,mode)\n",
    "        else:\n",
    "            file_name = 'graph.base.new.{}layers.nn{}.{}.txt'.format(n_layers,n_neighbors,mode)\n",
    "            \n",
    "    elif method == 'gvar':\n",
    "        if sketch:\n",
    "            file_name = 'gvar.bin.sketch.trial{}.results.txt'.format(trial_no)\n",
    "        else:\n",
    "            file_name = 'gvar.bin.trial{}.bin.results.txt'.format(trial_no)\n",
    "\n",
    "    elif method == 'GVAR':\n",
    "        if sketch:\n",
    "            file_name = 'GVAR.bin.sketch.trial{}.bin.results.txt'.format(trial_no)\n",
    "        else:\n",
    "            file_name = 'GVAR.bin.trial{}.bin.results.txt'.format(trial_no)\n",
    "            \n",
    "    scores = pd.read_csv(os.path.join(data_dir,file_name),header=None).values\n",
    "    if scores.shape[1] > 1:\n",
    "        scores = scores[:,2]\n",
    "    \n",
    "    if (method == 'graph' and mode == 'lr') or method == 'gvar':\n",
    "        return scores\n",
    "    else:\n",
    "        scores[scores == 0] = 10**-100\n",
    "        scores = -np.log10(scores)\n",
    "        return scores\n",
    "\n",
    "def print_results(eval_df,method_list,feature,thresh,direction,metric='auprc'):\n",
    "    \n",
    "    if direction == 'less':\n",
    "        y_true = eval_df[feature].values <= thresh\n",
    "    elif direction == 'greater':\n",
    "        y_true = eval_df[feature].values >= thresh\n",
    "\n",
    "#     print('\\nBASELINE:',y_true.mean(),'----------\\n')\n",
    "\n",
    "    data_dict = {'method': [], metric: []}\n",
    "    for method in method_list:\n",
    "        scores = eval_df[method].values\n",
    "#         if 'corr' in method:\n",
    "#             scores = abs(scores)\n",
    "#         elif 'dist' in method:\n",
    "#             scores = -abs(scores)\n",
    "                \n",
    "        if metric == 'auprc':\n",
    "            value = average_precision_score(y_true,scores)\n",
    "        elif metric == 'auroc':\n",
    "            value = roc_auc_score(y_true,scores)\n",
    "#         elif metric == 'f1':\n",
    "#             scores = (scores > np.percentile(scores,99)).astype(int)\n",
    "#             value = f1_score(y_true,scores)\n",
    "            \n",
    "        auprc = average_precision_score(y_true,scores)\n",
    "        data_dict['method'].append(method)\n",
    "        data_dict[metric].append(value)\n",
    "\n",
    "    results_df = pd.DataFrame(data_dict)\n",
    "    results_df['trial_no'] = [int(n.split('trial')[1]) if 'trial' in n else 0 for n in results_df['method']]\n",
    "    results_df['method'] = [n.split('.trial')[0] for n in results_df['method']]\n",
    "    \n",
    "    return results_df\n",
    "\n",
    "def get_precision_recall(eval_df,method,feature,percentile,direction):\n",
    "    \n",
    "    scores_list = []\n",
    "    y_true_list = []\n",
    "    for chr_no in sorted(list(set(eval_df['chr_no'].values))):\n",
    "        \n",
    "        chr_df = eval_df[eval_df['chr_no'] == chr_no]\n",
    "\n",
    "        thresh = np.percentile(chr_df[feature].values,percentile)\n",
    "        \n",
    "        if direction == 'less':\n",
    "            y_true = abs(chr_df[feature].values) <= thresh\n",
    "        elif direction == 'greater':\n",
    "            y_true = abs(chr_df[feature].values) >= thresh\n",
    "            \n",
    "        y_true_list.extend(y_true.astype(int).tolist())\n",
    "        scores_list.extend(chr_df[method].values.tolist())\n",
    "    \n",
    "    y_true = np.array(y_true_list)\n",
    "    \n",
    "    scores = np.array(scores_list)\n",
    "    if 'corr' in method:\n",
    "        scores = abs(scores)\n",
    "    elif 'dist' in method:\n",
    "        scores = -abs(scores)\n",
    "\n",
    "    precision, recall, thresholds = precision_recall_curve(y_true,scores)\n",
    "    return precision, recall, thresholds"
   ]
  },
  {
   "cell_type": "code",
   "execution_count": 4,
   "metadata": {},
   "outputs": [],
   "source": [
    "import math\n",
    "\n",
    "def round_sigfigs(number,significant_digits=3):\n",
    "    return round(number, significant_digits - int(math.floor(math.log10(abs(number)))) - 1)\n",
    "\n",
    "def num_sigfigs(number):\n",
    "    return len(str(number).split('.')[1].strip('0'))\n",
    "    \n",
    "def create_plot(results_df,metric):\n",
    "    \n",
    "    ax = sns.barplot(x='method',y=metric,hue='method',data=results_df,capsize=0.1,dodge=False)\n",
    "    plt.ylim(0,results_df[metric].max()*1.02)\n",
    "    plt.xlabel('',fontsize=16)\n",
    "    plt.ylabel(metric.upper(),fontsize=16)\n",
    "    plt.yticks(fontsize=14)\n",
    "    plt.xticks(rotation=90)\n",
    "    \n",
    "    return ax\n",
    "    "
   ]
  },
  {
   "cell_type": "code",
   "execution_count": 5,
   "metadata": {},
   "outputs": [],
   "source": [
    "from sklearn.feature_extraction.text import TfidfTransformer\n",
    "from schema import SchemaQP\n",
    "from scipy.stats import spearmanr\n",
    "from collections import Counter\n",
    "\n",
    "def preprocess(rna_adata,atac_adata):\n",
    "    \n",
    "    rna_adata.obs['n_counts'] = rna_adata.X.sum(1).astype(int)\n",
    "    atac_adata.obs['n_counts'] = atac_adata.X.sum(1).astype(int)\n",
    "\n",
    "    sc.pp.normalize_total(rna_adata,target_sum=1e5)\n",
    "    sc.pp.log1p(rna_adata)\n",
    "    \n",
    "    rna_adata.var['gene_percent_cells'] = (rna_adata.X != 0).toarray().squeeze().mean(0)\n",
    "    atac_adata.var['peak_percent_cells'] = (atac_adata.X != 0).toarray().squeeze().mean(0)\n",
    "\n",
    "    # for genes represented via multiple transcripts, retain gene represented in most # of cells\n",
    "    counts = Counter(rna_adata.var['symbol'].values)\n",
    "\n",
    "    inds2keep = list(range(rna_adata.shape[1]))\n",
    "\n",
    "    for gene,v in counts.items():\n",
    "        if v > 1:\n",
    "            inds = np.where(rna_adata.var['symbol'] == gene)[0]\n",
    "            max_ind = inds[np.argmax(rna_adata.var.iloc[inds]['gene_percent_cells'].values)]\n",
    "            for i in inds:\n",
    "                if i != max_ind:\n",
    "                    inds2keep.remove(i)\n",
    "\n",
    "    rna_adata = rna_adata[:,inds2keep].copy()\n",
    "    rna_adata.var.index = rna_adata.var['symbol'].values\n",
    "\n",
    "    # remove genes,peaks in unlocalized sequences\n",
    "    gene_inds2keep = [i for i,n in enumerate(rna_adata.var['chr_no'].values) if 'chr' in str(n)]\n",
    "    atac_inds2keep = [i for i,n in enumerate(atac_adata.var['chr_no'].values) if 'chr' in str(n)]\n",
    "\n",
    "    rna_adata = rna_adata[:,gene_inds2keep]\n",
    "    atac_adata = atac_adata[:,atac_inds2keep]\n",
    "\n",
    "    atac_adata.var.index = list(map(str,range(atac_adata.shape[1])))\n",
    "    \n",
    "    return rna_adata,atac_adata\n",
    "\n",
    "def schema_representations(rna_adata,atac_adata,schema_reference='rna',other_modalities=None):\n",
    "\n",
    "    # LEARN JOINT REPRESENTATIONS\n",
    "    rna_adata_copy = rna_adata.copy()\n",
    "    atac_adata_copy = atac_adata.copy()\n",
    "\n",
    "    sc.pp.filter_genes(rna_adata_copy,min_cells=int(0.001*rna_adata.shape[0]))\n",
    "    sc.pp.filter_genes(atac_adata_copy,min_cells=int(0.001*rna_adata.shape[0]))\n",
    "\n",
    "    sc.pp.highly_variable_genes(rna_adata_copy,n_top_genes=2000)\n",
    "    rna_adata_copy = rna_adata_copy[:,rna_adata_copy.var['highly_variable']]\n",
    "    sc.pp.scale(rna_adata_copy)    \n",
    "    \n",
    "    tfidf = TfidfTransformer()\n",
    "    idf = tfidf.fit_transform(atac_adata_copy.X)\n",
    "\n",
    "    atac_adata_copy.X = idf\n",
    "\n",
    "    sc.tl.pca(rna_adata_copy,n_comps=50)\n",
    "    sc.tl.pca(atac_adata_copy,n_comps=50)\n",
    "\n",
    "    rna_adata.obsm['X_pca'] = rna_adata_copy.obsm['X_pca']\n",
    "    atac_adata.obsm['X_pca'] = atac_adata_copy.obsm['X_pca']\n",
    "\n",
    "    atac_pca_inds2keep = []\n",
    "    rna_pca_inds2keep = []\n",
    "    for i in range(50):\n",
    "        rho,p = spearmanr(atac_adata_copy.obsm['X_pca'][:,i],atac_adata_copy.obs['n_counts'])\n",
    "        if rho < 0.9:\n",
    "            atac_pca_inds2keep.append(i)\n",
    "\n",
    "        rho,p = spearmanr(rna_adata_copy.obsm['X_pca'][:,i],rna_adata_copy.obs['n_counts'])\n",
    "        if rho < 0.9:\n",
    "            rna_pca_inds2keep.append(i)\n",
    "            \n",
    "    n_components = 50\n",
    "    model = SchemaQP(0.99,params = {\"decomposition_model\": \"pca\", \"num_top_components\": n_components},\\\n",
    "                    mode = 'scale')\n",
    "\n",
    "    if schema_reference == 'rna':\n",
    "        secondary_modalities = [atac_adata.obsm['X_pca'][:,atac_pca_inds2keep]]\n",
    "        if other_modalities:\n",
    "            secondary_modalities.extend(other_modalities)\n",
    "            \n",
    "        W = model.fit_transform(rna_adata.obsm['X_pca'][:,rna_pca_inds2keep], # primary dataset\n",
    "                                   secondary_modalities, # just one secondary dataset\n",
    "                                   ['feature_vector'], # has labels, i.e., is a categorical datatype\n",
    "                                   [1]\n",
    "                                  )\n",
    "        \n",
    "    elif schema_reference == 'atac':\n",
    "        secondary_modalities = [rna_adata.obsm['X_pca'][:,rna_pca_inds2keep]]\n",
    "        if other_modalities:\n",
    "            secondary_modalities.extend(other_modalities)\n",
    "            \n",
    "        W = model.fit_transform(atac_adata.obsm['X_pca'][:,atac_pca_inds2keep], # primary dataset\n",
    "                                   secondary_modalities, # just one secondary dataset\n",
    "                                   ['feature_vector'], # has labels, i.e., is a categorical datatype\n",
    "                                   [1]\n",
    "                                  )\n",
    "\n",
    "    rna_adata.obsm['X_schema'] = W\n",
    "    atac_adata.obsm['X_schema'] = W\n",
    "    \n",
    "def set_dpt_root(rna_adata,start_marker_gene):\n",
    "    \n",
    "    rna_adata.uns['iroot'] = np.argsort(-rna_adata[:,start_marker_gene].X.toarray().squeeze())[0]"
   ]
  },
  {
   "cell_type": "code",
   "execution_count": 6,
   "metadata": {},
   "outputs": [],
   "source": [
    "# from geosketch import gs\n",
    "\n",
    "# def apply_geosketch(dataset,rna_adata,atac_adata,start_marker_gene,N=5000):\n",
    "    \n",
    "#     data_dir = '/data/cb/alexwu/mm_finemap/datasets/{}'.format(dataset)\n",
    "\n",
    "#     sketch_index = gs(rna_adata.obsm['X_schema'], N, replace=False)\n",
    "    \n",
    "#     rna_adata = rna_adata[sketch_index]\n",
    "#     atac_adata = atac_adata[sketch_index]\n",
    "\n",
    "#     rna_adata.uns['iroot'] = np.argsort(-rna_adata[:,start_marker_gene].X.toarray().squeeze())[0]\n",
    "\n",
    "#     atac_adata.write_h5ad(os.path.join(data_dir,'{}.atac.sketch.h5ad'.format(dataset)))\n",
    "#     rna_adata.write_h5ad(os.path.join(data_dir,'{}.rna.sketch.h5ad'.format(dataset)))\n",
    "\n",
    "# def apply_uniform_sampling(dataset,rna_adata,atac_adata,start_marker_gene,N=5000,seed=1):\n",
    "    \n",
    "#     np.random.seed(seed)\n",
    "    \n",
    "#     data_dir = '/data/cb/alexwu/mm_finemap/datasets/{}'.format(dataset)\n",
    "#     if not os.path.exists(data_dir):\n",
    "#         os.mkdir(data_dir)\n",
    "\n",
    "#     sketch_index = np.random.choice(range(rna_adata.shape[0]),size=N,replace=False)\n",
    "    \n",
    "#     rna_adata_sample = rna_adata[sketch_index].copy()\n",
    "#     atac_adata_sample = atac_adata[sketch_index].copy()\n",
    "\n",
    "#     rna_adata_sample.uns['iroot'] = np.argsort(-rna_adata_sample[:,start_marker_gene].X.toarray().squeeze())[0]\n",
    "\n",
    "#     atac_adata_sample.write_h5ad(os.path.join(data_dir,'{}.atac.uniform.h5ad'.format(dataset)))\n",
    "#     rna_adata_sample.write_h5ad(os.path.join(data_dir,'{}.rna.uniform.h5ad'.format(dataset)))\n",
    "\n",
    "\n"
   ]
  },
  {
   "cell_type": "code",
   "execution_count": 7,
   "metadata": {},
   "outputs": [],
   "source": [
    "def calculate_correlations(data_df,rna_adata,atac_adata,corr_key):\n",
    "    \n",
    "    if 'atac_idx' in data_df.keys() and 'atac_id' not in data_df.keys():\n",
    "        data_df['atac_id'] = data_df['atac_idx'].values\n",
    "        \n",
    "    corr_dict = {}\n",
    "    for chr_no in sorted(list(set(data_df['chr_no'].values))):\n",
    "        print(chr_no)\n",
    "        filtered_data_df = data_df[data_df['chr_no'] == chr_no]\n",
    "\n",
    "        gene_inds = sorted(list(set(filtered_data_df['gene'].values)))\n",
    "        atac_inds = list(map(str,sorted(list(set(filtered_data_df['atac_id'].values.astype(int))))))\n",
    "\n",
    "        filtered_rna_X = rna_adata[:,gene_inds].X.toarray()\n",
    "        filtered_atac_X = atac_adata[:,atac_inds].X.toarray()\n",
    "\n",
    "        rho = corr2_coeff(filtered_rna_X.T,filtered_atac_X.T)\n",
    "        df = pd.DataFrame(rho,index=gene_inds,columns=atac_inds)\n",
    "\n",
    "        for gene,atac_idx in filtered_data_df[['gene','atac_id']].values:\n",
    "            corr_dict[(gene,atac_idx)] = df.loc[gene,str(atac_idx)]\n",
    "            \n",
    "    corr_list = []\n",
    "    for gene,atac_idx in data_df[['gene','atac_id']].values:\n",
    "        corr_list.append(corr_dict[(gene,atac_idx)])\n",
    "\n",
    "    data_df[corr_key] = corr_list\n",
    "\n",
    "    return data_df\n",
    "\n",
    "def create_metacells(rna_adata,atac_adata):\n",
    "    \n",
    "    group_rna_X = []\n",
    "    group_atac_X = []\n",
    "    rna_X = rna_adata.X.toarray()\n",
    "    rna_X = (((np.exp(rna_X)-1)/1e5).T*rna_adata.obs['n_counts'].values).T # raw counts\n",
    "\n",
    "    for i in range(rna_adata.shape[0]):\n",
    "        inds = np.nonzero(rna_adata.obsp['distances'][i])[1]\n",
    "        inds = np.array(list(inds) + [i])\n",
    "        group_rna_X.append(rna_X[inds].sum(0))\n",
    "        group_atac_X.append(atac_adata[inds].X.sum(0))\n",
    "\n",
    "        if i % 100 == 0:\n",
    "            print(i)\n",
    "\n",
    "    group_rna_X = np.array(group_rna_X).squeeze()\n",
    "    group_atac_X = np.array(group_atac_X).squeeze()\n",
    "    \n",
    "    group_rna_adata = rna_adata.copy()\n",
    "    group_atac_adata = atac_adata.copy()\n",
    "\n",
    "    group_rna_adata.X = group_rna_X #.copy()\n",
    "    group_atac_adata.X = group_atac_X #.copy()\n",
    "    \n",
    "    sc.pp.normalize_total(group_rna_adata,target_sum=1e5)\n",
    "    sc.pp.log1p(group_rna_adata)\n",
    "\n",
    "    sc.pp.normalize_total(group_atac_adata,target_sum=1e4)\n",
    "    sc.pp.log1p(group_atac_adata)\n",
    "    \n",
    "    return group_rna_adata,group_atac_adata\n",
    "\n",
    "def perform_correlation_calculations(data_df,rna_adata,atac_adata,dataset,mode):\n",
    "    \n",
    "    rna_adata_copy = rna_adata.copy()\n",
    "    atac_adata_copy = atac_adata.copy()\n",
    "    \n",
    "    if mode == 'corr':\n",
    "        sc.pp.normalize_total(atac_adata_copy,target_sum=1e4)\n",
    "        sc.pp.log1p(atac_adata_copy)\n",
    "        \n",
    "    elif mode == 'group_corr':\n",
    "        sc.pp.neighbors(rna_adata_copy,use_rep='X_schema',n_neighbors=50)\n",
    "        rna_adata_copy,atac_adata_copy = create_metacells(rna_adata_copy,atac_adata_copy)\n",
    "\n",
    "    corr_key = mode\n",
    "    data_df = calculate_correlations(data_df,rna_adata_copy,atac_adata_copy,corr_key)\n",
    "\n",
    "    save_dir = '/data/cb/alexwu/mm_finemap/datasets/{}'.format(dataset)\n",
    "\n",
    "    with h5py.File(os.path.join(save_dir,'dataset.h5'),'a') as f:\n",
    "        if corr_key in f.keys():\n",
    "            del f[corr_key]\n",
    "        f.create_dataset(corr_key,data=data_df[corr_key].values,dtype=float)"
   ]
  },
  {
   "cell_type": "code",
   "execution_count": 8,
   "metadata": {},
   "outputs": [],
   "source": [
    "def calculate_gene_peak_percent_cells(data_df,rna_adata,atac_adata,dataset):\n",
    "    gene_percent_cells = {g: percent for g,percent \\\n",
    "                          in zip(*[rna_adata.var.index.values,np.array((rna_adata.X != 0).mean(0)).squeeze()])}\n",
    "    peak_percent_cells = {atac_idx: percent for atac_idx,percent \\\n",
    "                          in zip(*[atac_adata.var.index.values,np.array((atac_adata.X != 0).mean(0)).squeeze()])}\n",
    "\n",
    "    atac_percent = []\n",
    "    rna_percent = []\n",
    "    for gene,atac_idx in data_df[['gene','atac_id']].values:\n",
    "        atac_percent.append(peak_percent_cells[str(atac_idx)])\n",
    "        rna_percent.append(gene_percent_cells[gene])\n",
    "\n",
    "    data_df['gene_percent_cells'] = rna_percent\n",
    "    data_df['peak_percent_cells'] = atac_percent\n",
    "\n",
    "    import h5py\n",
    "\n",
    "    save_dir = '/data/cb/alexwu/mm_finemap/datasets/{}'.format(dataset)\n",
    "\n",
    "    with h5py.File(os.path.join(save_dir,'dataset.h5'),'a') as f:\n",
    "        for key in ['gene_percent_cells','peak_percent_cells']:\n",
    "            if k in f.keys():\n",
    "                del f[key]\n",
    "            f.create_dataset(key,data=data_df[key].values,dtype=float)"
   ]
  },
  {
   "cell_type": "code",
   "execution_count": 9,
   "metadata": {},
   "outputs": [],
   "source": [
    "def write_rna_atac_indices(dataset,gene_percent_cells=0.01,peak_percent_cells=0.001,dist=1000000):\n",
    "\n",
    "    data_dir = '/data/cb/alexwu/mm_finemap/datasets/{}'.format(dataset)\n",
    "    with h5py.File(os.path.join(data_dir,'dataset.h5'),'r') as f:\n",
    "        data_df = pd.DataFrame()\n",
    "        for k in ['atac_id','gene','dist','gene_percent_cells','peak_percent_cells']:\n",
    "            if k in f.keys():\n",
    "                data_df[k] = f[k][:]\n",
    "\n",
    "    small_df = data_df[abs(data_df['dist']) < dist]\n",
    "\n",
    "    # small_df = small_df[~np.isnan(small_df['group_corr'])]\n",
    "    small_df = small_df[small_df['gene_percent_cells'] > gene_percent_cells]\n",
    "    small_df = small_df[small_df['peak_percent_cells'] > peak_percent_cells]\n",
    "\n",
    "    print(small_df.shape)\n",
    "\n",
    "    rna_adata = sc.read(os.path.join(data_dir,'{}.rna.h5ad'.format(dataset)))\n",
    "    atac_adata = sc.read(os.path.join(data_dir,'{}.atac.h5ad'.format(dataset)))\n",
    "\n",
    "    gene_idx_dict = {g:i for i,g in enumerate(rna_adata.var.index.values)}\n",
    "\n",
    "    data_dir = '/data/cb/alexwu/mm_finemap/datasets/{}'.format(dataset)\n",
    "\n",
    "    gene_idx = np.array([gene_idx_dict[g] for g in small_df['gene'].values])\n",
    "    np.savetxt(os.path.join(data_dir,'atac_idx.txt'),small_df['atac_id'].values,fmt='%i')\n",
    "    np.savetxt(os.path.join(data_dir,'rna_idx.txt'),gene_idx,fmt='%i')"
   ]
  },
  {
   "cell_type": "code",
   "execution_count": 10,
   "metadata": {},
   "outputs": [],
   "source": [
    "def corr2_coeff(A, B):\n",
    "    # Rowwise mean of input arrays & subtract from input arrays themeselves\n",
    "    A_mA = A - A.mean(1)[:, None]\n",
    "    B_mB = B - B.mean(1)[:, None]\n",
    "\n",
    "    # Sum of squares across rows\n",
    "    ssA = (A_mA**2).sum(1)\n",
    "    ssB = (B_mB**2).sum(1)\n",
    "\n",
    "    # Finally get corr coeff\n",
    "    return np.dot(A_mA, B_mB.T) / np.sqrt(np.dot(ssA[:, None],ssB[None]))"
   ]
  },
  {
   "cell_type": "code",
   "execution_count": 11,
   "metadata": {},
   "outputs": [],
   "source": [
    "from scipy.stats import rankdata\n",
    "\n",
    "def load_results(dataset,eval_df,ensemble=False,gene_percent_cells=0.01,peak_percent_cells=0.001):\n",
    "    \n",
    "    n_layers = 10\n",
    "    n_neighbors = 15\n",
    "    mode = 'lr'\n",
    "\n",
    "    eval_df['ABC.score'] = eval_df['ABC.score'].replace(np.nan, 0)\n",
    "    eval_df['ABC.score'] = eval_df['ABC.score'].values #.astype(bool).astype(float)\n",
    "\n",
    "    eval_df['corr'] = eval_df['corr'].replace(np.nan, 0)\n",
    "    eval_df['group_corr'] = eval_df['group_corr'].replace(np.nan, 0)\n",
    "\n",
    "    data_dir = '/data/cb/alexwu/mm_finemap/results/tests_nn/{}'.format(dataset)\n",
    "        \n",
    "    method = 'graph'\n",
    "    for trial_no in range(1,6):\n",
    "\n",
    "        if trial_no == 1 and dataset in ['human_cortex_multiome_lineage','share_seq_more']:\n",
    "            data_dir = '/data/cb/alexwu/mm_finemap/results/tests_nn/{}'.format(dataset)\n",
    "        else:\n",
    "            data_dir = '/data/cb/alexwu/mm_finemap/results/tests_nn/{}_{}'.format(dataset,trial_no)\n",
    "\n",
    "        if dataset == 'human_cortex_multiome_lineage':\n",
    "            file_name = 'graph.uniform.250kb.trial{}.all.max_scale.mseloss.{}layers.nn{}.statistics.txt'.format(trial_no,n_layers,n_neighbors)\n",
    "        elif dataset == 'share_seq_more':\n",
    "            file_name = 'graph.uniform.trial{}.all.max_scale.mseloss.{}layers.nn{}.statistics.txt'.format(trial_no,n_layers,n_neighbors)\n",
    "        else:\n",
    "            file_name = 'graph.uniform.1Mb.trial{}.all.max_scale.mseloss.{}layers.nn{}.statistics.txt'.format(trial_no,n_layers,n_neighbors)\n",
    "\n",
    "        scores = pd.read_csv(os.path.join(data_dir,file_name),sep='\\t').values[:,2].astype(float)\n",
    "        scores[np.isinf(scores)] = 10**10\n",
    "        eval_df['{}.trial{}'.format(method,trial_no)] = scores\n",
    "\n",
    "\n",
    "        if trial_no == 1:\n",
    "            data_dir = '/data/cb/alexwu/mm_finemap/datasets/{}'.format(dataset)\n",
    "        else:\n",
    "            data_dir = '/data/cb/alexwu/mm_finemap/datasets/{}_{}'.format(dataset,trial_no)\n",
    "\n",
    "        # correlations\n",
    "        with h5py.File(os.path.join(data_dir,'dataset.h5'),'r') as f:\n",
    "            data_df = pd.DataFrame()\n",
    "            for k in ['dist','corr','group_corr','gene_percent_cells','peak_percent_cells']:\n",
    "                if k in f.keys():\n",
    "                    data_df[k] = f[k][:]\n",
    "\n",
    "        small_df = data_df[abs(data_df['dist']) < distance]\n",
    "\n",
    "        # small_df = small_df[~np.isnan(small_df['group_corr'])]\n",
    "        small_df = small_df[small_df['gene_percent_cells'] > gene_percent_cells]\n",
    "        small_df = small_df[small_df['peak_percent_cells'] > peak_percent_cells]\n",
    "\n",
    "        eval_df['corr.trial{}'.format(trial_no)] = small_df['corr'].replace(np.nan, 0).values\n",
    "        eval_df['group_corr.trial{}'.format(trial_no)] = small_df['group_corr'].replace(np.nan, 0).values\n",
    "\n",
    "    if ensemble:\n",
    "                \n",
    "        for method in ['graph','corr','group_corr']:\n",
    "            eval_df['{}.ranks.mean'.format(method)] = np.array([rankdata(abs(eval_df['{}.trial{}'.format(method,trial_no)].values),\n",
    "                                                                method='average') for trial_no in range(1,6)]).mean(0)\n",
    "\n",
    "        distance_ranks = rankdata(-abs(eval_df['dist'].values),method='average')\n",
    "        eval_df['dist_ranks'] = distance_ranks\n",
    "\n",
    "        for feature in ['graph.ranks.mean','group_corr.ranks.mean','corr.ranks.mean']:\n",
    "            eval_df[feature + '-dist'] = (distance_ranks + eval_df[feature].values)/2\n",
    "            \n",
    "    return eval_df"
   ]
  },
  {
   "cell_type": "code",
   "execution_count": 12,
   "metadata": {},
   "outputs": [],
   "source": [
    "def distance_matched_df(eval_df,feature,lower_thresh,negpos_ratio=9,seed=1,dist_min=2,verbose=True):\n",
    "    \n",
    "    df_copy = eval_df.copy()\n",
    "    np.random.seed(1)\n",
    "    \n",
    "    dist_categories = np.clip(np.log10(0.1+abs(df_copy['dist'].values)).astype(int),dist_min,10)\n",
    "    df_copy['dist_category'] = dist_categories\n",
    "\n",
    "    df_list = []\n",
    "    for group,group_df in df_copy.groupby('dist_category'):\n",
    "        \n",
    "        n_per_category = (group_df[feature] <= lower_thresh).sum()\n",
    "        pos_inds = np.argsort(group_df[feature])[0:n_per_category].tolist()\n",
    "        neg_inds = np.argsort(group_df[feature])[(-negpos_ratio*n_per_category):]\n",
    "        neg_inds = list(set(neg_inds) - set(pos_inds))\n",
    "        \n",
    "        if verbose:\n",
    "            print(group,len(pos_inds),len(neg_inds))\n",
    "        \n",
    "        df_list.append(group_df.iloc[pos_inds + neg_inds])\n",
    "    \n",
    "    return pd.concat(df_list)"
   ]
  },
  {
   "cell_type": "code",
   "execution_count": 13,
   "metadata": {},
   "outputs": [],
   "source": [
    "def convert_name(n):\n",
    "    \n",
    "    if 'graph' in n:\n",
    "        name = 'GrID-Net'\n",
    "    elif 'group' in n:\n",
    "        name = 'Pseudocell Corr'\n",
    "    elif 'corr' in n:\n",
    "        name = 'Correlation'\n",
    "    elif 'ABC' in n:\n",
    "        name = 'ABC'\n",
    "    elif \"GVAR\" in n or \"gvar\" in n:\n",
    "        name = \"GVAR\"\n",
    "    elif \"granger\" in n:\n",
    "        name = \"Granger\"\n",
    "    \n",
    "    \n",
    "    if 'rra' in n:\n",
    "        name += ' (RRA)'\n",
    "        \n",
    "    if 'ranks' in n:\n",
    "        name += ' (ens)'\n",
    "    \n",
    "    if '-dist' in n:\n",
    "        name += ' (dist)'\n",
    "        \n",
    "\n",
    "    return name"
   ]
  },
  {
   "cell_type": "markdown",
   "metadata": {},
   "source": [
    "## sci-CAR Results"
   ]
  },
  {
   "cell_type": "code",
   "execution_count": 61,
   "metadata": {
    "scrolled": true
   },
   "outputs": [],
   "source": [
    "name_dict = {'graph': 'GrID-Net',\n",
    "             'corr': 'Correlation',\n",
    "             'group_corr': 'Pseudocell Corr',\n",
    "             'ABC.score': 'ABC'}"
   ]
  },
  {
   "cell_type": "code",
   "execution_count": 62,
   "metadata": {
    "scrolled": true
   },
   "outputs": [
    {
     "name": "stdout",
     "output_type": "stream",
     "text": [
      "<KeysViewHDF5 ['ABC.score', 'abc', 'atac_disp', 'atac_disp_untreated', 'atac_id', 'atac_mean', 'atac_mean_untreated', 'atac_std', 'chr_no', 'corr', 'corr_bin', 'corr_group', 'corr_group_counts', 'corr_group_q', 'corr_q', 'corr_sp', 'dist', 'dist_Mb', 'eqtl', 'eqtl.new', 'eqtl.q', 'eqtl_transform', 'gene', 'gene_disp', 'gene_disp_untreated', 'gene_mean', 'gene_mean_untreated', 'gene_percent_cells', 'gene_std', 'group_corr', 'group_corr_bin', 'hg38tohg19_eqtl', 'hic', 'hic.100kb', 'hic_0hr', 'hic_0hr.expectedBL', 'hic_0hr.expectedBL.new', 'hic_12hr.expectedBL', 'hic_1hr', 'hic_1hr.expectedBL', 'hic_4hr', 'hic_4hr.expectedBL', 'hic_4hr.expectedBL.full', 'hic_4hr.expectedBL.new', 'hic_4hr.expectedBL.new2', 'logdist', 'peak_percent_cells', 'same_tad', 'tad', 'ttest_p', 'ttest_t']>\n"
     ]
    }
   ],
   "source": [
    "dataset = 'sci_car'\n",
    "\n",
    "distance = 1000000\n",
    "gene_percent_cells = 0.01\n",
    "peak_percent_cells = 0.001\n",
    "\n",
    "rna_adata,atac_adata,eval_df = load_data(dataset,gene_percent_cells=gene_percent_cells,\n",
    "                                          peak_percent_cells=peak_percent_cells,\n",
    "                                          include_h5=True,sampling=None,distance=distance)\n",
    "\n",
    "eval_df = load_results(dataset,eval_df,ensemble=True)\n",
    "eval_df['abs_dist'] = abs(eval_df['dist'])"
   ]
  },
  {
   "cell_type": "code",
   "execution_count": 63,
   "metadata": {},
   "outputs": [],
   "source": [
    "# load standard Granger + GVAR results\n",
    "data_dir = \"/data/cb/alexwu/mm_finemap/results/tests_nn\"\n",
    "\n",
    "dataset = 'sci_car'\n",
    "\n",
    "# Granger\n",
    "for trial_no in range(1,6):\n",
    "    df = pd.read_csv(os.path.join(data_dir,\"{}_{}\".format(dataset,trial_no),\"{}_{}.standard_granger.csv\".format(dataset,trial_no)))\n",
    "    eval_df[\"granger.trial{}\".format(trial_no)] = -np.log10(df[\"granger_p\"].values)\n",
    "    eval_df[\"granger.trial{}\".format(trial_no)] = eval_df[\"granger.trial{}\".format(trial_no)].replace(np.nan,0)\n",
    "\n",
    "# GVAR\n",
    "for trial_no in range(1,6):\n",
    "    df = pd.read_csv(os.path.join(data_dir,\"{}_{}\".format(dataset,trial_no),\"{}_{}.GVAR.csv\".format(dataset,trial_no)))\n",
    "    p = [float(n.strip(\"[]\")) for n in df[\"granger_p\"].values]\n",
    "    eval_df[\"gvar.trial{}\".format(trial_no)] = -np.log10(p)"
   ]
  },
  {
   "cell_type": "code",
   "execution_count": 64,
   "metadata": {},
   "outputs": [
    {
     "name": "stdout",
     "output_type": "stream",
     "text": [
      "2 500 500\n",
      "3 183 183\n",
      "4 627 627\n",
      "5 249 249\n",
      "5 936 936\n"
     ]
    }
   ],
   "source": [
    "eqtl_feature = 'hg38tohg19_eqtl'\n",
    "eqtl_lower_thresh = 1e-10\n",
    "eval_df_eqtl = eval_df[~np.isnan(eval_df[eqtl_feature])].copy()\n",
    "\n",
    "# FDR correction\n",
    "from statsmodels.stats.multitest import fdrcorrection\n",
    "eval_df_eqtl['eqtl.q'] = fdrcorrection(eval_df_eqtl[eqtl_feature])[1]\n",
    "\n",
    "eval_df_eqtl = distance_matched_df(eval_df_eqtl,'eqtl.q',eqtl_lower_thresh,negpos_ratio=1,seed=1)\n",
    "\n",
    "eval_df_hic = eval_df[~np.isnan(eval_df['hic.100kb'])].copy()\n",
    "eval_df_hic = eval_df_hic[eval_df_hic['hic.100kb'] != 0]\n",
    "eval_df_hic['hic.100kb.rev'] = -eval_df_hic['hic.100kb'].values\n",
    "# eval_df_hic = eval_df_hic[abs(eval_df_hic['dist']) > 50000]\n",
    "hic_lower_thresh = -np.percentile(eval_df_hic['hic.100kb'],99)\n",
    "\n",
    "eval_df_hic = distance_matched_df(eval_df_hic,'hic.100kb.rev',hic_lower_thresh,negpos_ratio=1,seed=1,dist_min=5)"
   ]
  },
  {
   "cell_type": "code",
   "execution_count": 65,
   "metadata": {},
   "outputs": [
    {
     "data": {
      "image/png": "[encoded data removed]",
      "text/plain": [
       "<Figure size 240x300 with 1 Axes>"
      ]
     },
     "metadata": {},
     "output_type": "display_data"
    }
   ],
   "source": [
    "method_list = ['graph.trial{}'.format(trial_no) for trial_no in range(1,6)]\n",
    "method_list += ['corr.trial{}'.format(trial_no) for trial_no in range(1,6)]\n",
    "method_list += ['group_corr.trial{}'.format(trial_no) for trial_no in range(1,6)]\n",
    "method_list += ['gvar.trial{}'.format(trial_no) for trial_no in range(1,6)]\n",
    "method_list += ['granger.trial{}'.format(trial_no) for trial_no in range(1,6)]\n",
    "method_list += ['ABC.score']\n",
    "\n",
    "feature = 'hg38tohg19_eqtl'\n",
    "direction = 'less'\n",
    "\n",
    "metric = 'auroc'\n",
    "results_df = print_results(eval_df_eqtl,method_list,feature,eqtl_lower_thresh,direction,metric=metric)\n",
    "\n",
    "results_df['method'] = [convert_name(n) for n in results_df['method']]\n",
    "\n",
    "plt.figure(figsize=(len(set(results_df['method']))/2.5,3))\n",
    "ax = create_plot(results_df,metric)\n",
    "plt.rcParams['hatch.linewidth'] = 2\n",
    "ax.patches[-1].set_edgecolor(ax.patches[-1]._facecolor)\n",
    "ax.patches[-1].set_facecolor('white')\n",
    "ax.patches[-1].set_hatch('//')\n",
    "ax.patches[-1].set_linewidth(2)\n",
    "    \n",
    "plt.tick_params(\n",
    "    axis='x',          # changes apply to the x-axis\n",
    "    which='both',      # both major and minor ticks are affected\n",
    "    bottom=False,      # ticks along the bottom edge are off\n",
    "    top=False,         # ticks along the top edge are off\n",
    "    labelbottom=False) # labels along the bottom edge are off\n",
    "plt.legend(bbox_to_anchor=(1,1),fontsize=16,frameon=False,handlelength=0.8)\n",
    "sns.despine()\n",
    "\n",
    "plt.ylim([0,0.85])\n",
    "\n",
    "plot_dir = '/data/cb/alexwu/mm_finemap/figures'\n",
    "plt.savefig(os.path.join(plot_dir,'auroc','{}.eqtl.0324.pdf'.format(dataset)), dpi=500, bbox_inches = \"tight\")\n",
    "plt.show()"
   ]
  },
  {
   "cell_type": "code",
   "execution_count": 66,
   "metadata": {},
   "outputs": [
    {
     "name": "stdout",
     "output_type": "stream",
     "text": [
      "Correlation\n",
      "Ttest_indResult(statistic=42.470570546006414, pvalue=2.276710620207932e-09)\n",
      "------\n",
      "Pseudocell Corr\n",
      "Ttest_indResult(statistic=38.6323837099345, pvalue=1.2869368786018367e-06)\n",
      "------\n",
      "GVAR\n",
      "Ttest_indResult(statistic=-5.684989052418132, pvalue=0.997956949696821)\n",
      "------\n",
      "Granger\n",
      "Ttest_indResult(statistic=2.594739174766271, pvalue=0.030101938993200326)\n",
      "------\n"
     ]
    }
   ],
   "source": [
    "from scipy.stats import ttest_ind\n",
    "\n",
    "for method in [\"Correlation\",\"Pseudocell Corr\",\"GVAR\",\"Granger\"]:\n",
    "    print(method)\n",
    "    print(ttest_ind(results_df[results_df[\"method\"] == \"GrID-Net\"][\"auroc\"],\n",
    "          results_df[results_df[\"method\"] == method][\"auroc\"],\n",
    "          equal_var=False,alternative='greater'))\n",
    "    print('------')"
   ]
  },
  {
   "cell_type": "code",
   "execution_count": 20,
   "metadata": {
    "scrolled": true
   },
   "outputs": [
    {
     "data": {
      "image/png": "[encoded data removed]",
      "text/plain": [
       "<Figure size 200x300 with 1 Axes>"
      ]
     },
     "metadata": {},
     "output_type": "display_data"
    }
   ],
   "source": [
    "method_list = ['graph.trial{}'.format(trial_no) for trial_no in range(1,6)]\n",
    "method_list += ['corr.trial{}'.format(trial_no) for trial_no in range(1,6)]\n",
    "method_list += ['group_corr.trial{}'.format(trial_no) for trial_no in range(1,6)]\n",
    "method_list += ['gvar.trial{}'.format(trial_no) for trial_no in range(1,6)]\n",
    "method_list += ['granger.trial{}'.format(trial_no) for trial_no in range(1,6)]\n",
    "# method_list += ['ABC.score']\n",
    "\n",
    "feature = 'hic.100kb.rev'\n",
    "direction = 'less'\n",
    "\n",
    "metric = 'auroc'\n",
    "results_df = print_results(eval_df_hic,method_list,feature,hic_lower_thresh,direction,metric=metric)\n",
    "\n",
    "results_df['method'] = [convert_name(n) for n in results_df['method']]\n",
    "results_df = results_df[results_df['method'] != 'ABC']\n",
    "\n",
    "plt.figure(figsize=(len(set(results_df['method']))/2.5,3))\n",
    "ax = create_plot(results_df,metric)\n",
    "    \n",
    "plt.tick_params(\n",
    "    axis='x',          # changes apply to the x-axis\n",
    "    which='both',      # both major and minor ticks are affected\n",
    "    bottom=False,      # ticks along the bottom edge are off\n",
    "    top=False,         # ticks along the top edge are off\n",
    "    labelbottom=False) # labels along the bottom edge are off\n",
    "plt.legend(bbox_to_anchor=(1,1),fontsize=16,frameon=False,handlelength=0.8)\n",
    "sns.despine()\n",
    "\n",
    "plt.ylim([0,0.65])\n",
    "\n",
    "plot_dir = '/data/cb/alexwu/mm_finemap/figures'\n",
    "plt.savefig(os.path.join(plot_dir,'auroc','{}.hic.0324.pdf'.format(dataset)), dpi=500, bbox_inches = \"tight\")\n",
    "plt.show()"
   ]
  },
  {
   "cell_type": "code",
   "execution_count": 21,
   "metadata": {},
   "outputs": [
    {
     "name": "stdout",
     "output_type": "stream",
     "text": [
      "Correlation\n",
      "Ttest_indResult(statistic=89.15985060753238, pvalue=4.383028537590831e-08)\n",
      "------\n",
      "Pseudocell Corr\n",
      "Ttest_indResult(statistic=17.97787585774032, pvalue=1.1303491611777168e-05)\n",
      "------\n",
      "GVAR\n",
      "Ttest_indResult(statistic=20.07466897109925, pvalue=1.0980349724136479e-05)\n",
      "------\n",
      "Granger\n",
      "Ttest_indResult(statistic=3.0947046891717287, pvalue=0.018084044227289903)\n",
      "------\n"
     ]
    }
   ],
   "source": [
    "from scipy.stats import ttest_ind\n",
    "\n",
    "for method in [\"Correlation\",\"Pseudocell Corr\",\"GVAR\",\"Granger\"]:\n",
    "    print(method)\n",
    "    print(ttest_ind(results_df[results_df[\"method\"] == \"GrID-Net\"][\"auroc\"],\n",
    "          results_df[results_df[\"method\"] == method][\"auroc\"],\n",
    "          equal_var=False,alternative='greater'))\n",
    "    print('------')"
   ]
  },
  {
   "cell_type": "markdown",
   "metadata": {},
   "source": [
    "### Intersection of eQTL & Hi-C"
   ]
  },
  {
   "cell_type": "code",
   "execution_count": 67,
   "metadata": {},
   "outputs": [],
   "source": [
    "eqtl_feature = 'hg38tohg19_eqtl'\n",
    "eqtl_lower_thresh = 1e-10\n",
    "eval_df_eqtl = eval_df[~np.isnan(eval_df[eqtl_feature])].copy()\n",
    "\n",
    "# FDR correction\n",
    "from statsmodels.stats.multitest import fdrcorrection\n",
    "eval_df_eqtl['eqtl.q'] = fdrcorrection(eval_df_eqtl[eqtl_feature])[1]\n",
    "\n",
    "# eval_df_eqtl = distance_matched_df(eval_df_eqtl,'eqtl.q',eqtl_lower_thresh,negpos_ratio=1,seed=1)\n",
    "\n",
    "eval_df_hic = eval_df[~np.isnan(eval_df['hic.100kb'])].copy()\n",
    "eval_df_hic = eval_df_hic[eval_df_hic['hic.100kb'] != 0]\n",
    "eval_df_hic['hic.100kb.rev'] = -eval_df_hic['hic.100kb'].values\n",
    "# eval_df_hic = eval_df_hic[abs(eval_df_hic['dist']) > 50000]\n",
    "hic_lower_thresh = -np.percentile(eval_df_hic['hic.100kb'],95)\n",
    "\n",
    "# eval_df_hic = distance_matched_df(eval_df_hic,'hic.100kb.rev',hic_lower_thresh,negpos_ratio=1,seed=1,dist_min=5)"
   ]
  },
  {
   "cell_type": "code",
   "execution_count": 68,
   "metadata": {},
   "outputs": [],
   "source": [
    "idx2keep = list(set(eval_df_hic.index.values) & set(eval_df_eqtl.index.values))\n",
    "\n",
    "eval_df_eqtl_hic = eval_df_hic.loc[idx2keep]\n",
    "eval_df_eqtl_hic[\"eqtl_hic_thresh\"] = ((eval_df_eqtl_hic[\"hic.100kb.rev\"] < hic_lower_thresh) & (eval_df_eqtl_hic[eqtl_feature] < eqtl_lower_thresh)).astype(float)"
   ]
  },
  {
   "cell_type": "code",
   "execution_count": 70,
   "metadata": {},
   "outputs": [
    {
     "data": {
      "image/png": "[encoded data removed]",
      "text/plain": [
       "<Figure size 240x300 with 1 Axes>"
      ]
     },
     "metadata": {},
     "output_type": "display_data"
    }
   ],
   "source": [
    "method_list = ['graph.trial{}'.format(trial_no) for trial_no in range(1,6)] + \\\n",
    "                ['corr.trial{}'.format(trial_no) for trial_no in range(1,6)] + \\\n",
    "                ['group_corr.trial{}'.format(trial_no) for trial_no in range(1,6)]\n",
    "method_list += ['gvar.trial{}'.format(trial_no) for trial_no in range(2,6)]\n",
    "method_list += ['granger.trial{}'.format(trial_no) for trial_no in range(1,6)]\n",
    "method_list += ['ABC.score']\n",
    "\n",
    "feature = 'eqtl_hic_thresh'\n",
    "direction = 'greater'\n",
    "\n",
    "metric = 'auroc'\n",
    "results_df = print_results(eval_df_eqtl_hic,method_list,feature,0.5,direction,metric=metric)\n",
    "\n",
    "results_df['method'] = [convert_name(n) for n in results_df['method']]\n",
    "\n",
    "# results_df = results_df[results_df['method'] != 'ABC']\n",
    "\n",
    "plt.figure(figsize=(len(set(results_df['method']))/2.5,3))\n",
    "ax = create_plot(results_df,metric)\n",
    "plt.rcParams['hatch.linewidth'] = 2\n",
    "ax.patches[-1].set_edgecolor(ax.patches[-1]._facecolor)\n",
    "ax.patches[-1].set_facecolor('white')\n",
    "ax.patches[-1].set_hatch('//')\n",
    "ax.patches[-1].set_linewidth(2)\n",
    "plt.tick_params(\n",
    "    axis='x',          # changes apply to the x-axis\n",
    "    which='both',      # both major and minor ticks are affected\n",
    "    bottom=False,      # ticks along the bottom edge are off\n",
    "    top=False,         # ticks along the top edge are off\n",
    "    labelbottom=False) # labels along the bottom edge are off\n",
    "plt.legend(bbox_to_anchor=(1,1),fontsize=16,frameon=True)\n",
    "sns.despine()\n",
    "\n",
    "plt.ylim([0,0.7])\n",
    "\n",
    "plot_dir = '/data/cb/alexwu/mm_finemap/figures'\n",
    "plt.savefig(os.path.join(plot_dir,'auroc','{}.eqtl_hic_intersection.0324.pdf'.format(dataset)), dpi=500, bbox_inches = \"tight\")\n",
    "\n",
    "plt.show()"
   ]
  },
  {
   "cell_type": "code",
   "execution_count": 25,
   "metadata": {},
   "outputs": [
    {
     "name": "stdout",
     "output_type": "stream",
     "text": [
      "Correlation\n",
      "Ttest_indResult(statistic=113.19538929130721, pvalue=4.301080225498917e-12)\n",
      "------\n",
      "Pseudocell Corr\n",
      "Ttest_indResult(statistic=75.09776510656026, pvalue=1.6848473245260119e-09)\n",
      "------\n",
      "GVAR\n",
      "Ttest_indResult(statistic=33.9357917912583, pvalue=2.5034762478980475e-05)\n",
      "------\n",
      "Granger\n",
      "Ttest_indResult(statistic=9.70671210738785, pvalue=0.00030945436609295133)\n",
      "------\n"
     ]
    }
   ],
   "source": [
    "from scipy.stats import ttest_ind\n",
    "\n",
    "for method in [\"Correlation\",\"Pseudocell Corr\",\"GVAR\",\"Granger\"]:\n",
    "    print(method)\n",
    "    print(ttest_ind(results_df[results_df[\"method\"] == \"GrID-Net\"][\"auroc\"],\n",
    "          results_df[results_df[\"method\"] == method][\"auroc\"],\n",
    "          equal_var=False,alternative='greater'))\n",
    "    print('------')"
   ]
  },
  {
   "cell_type": "markdown",
   "metadata": {},
   "source": [
    "### eQTL (1e-3)"
   ]
  },
  {
   "cell_type": "code",
   "execution_count": 26,
   "metadata": {},
   "outputs": [
    {
     "name": "stdout",
     "output_type": "stream",
     "text": [
      "2 1349 1349\n",
      "3 516 516\n",
      "4 2047 2047\n",
      "5 1157 1157\n",
      "5 936 936\n"
     ]
    }
   ],
   "source": [
    "eqtl_feature = 'hg38tohg19_eqtl'\n",
    "eqtl_lower_thresh = 1e-3\n",
    "eval_df_eqtl = eval_df[~np.isnan(eval_df[eqtl_feature])].copy()\n",
    "\n",
    "# FDR correction\n",
    "from statsmodels.stats.multitest import fdrcorrection\n",
    "eval_df_eqtl['eqtl.q'] = fdrcorrection(eval_df_eqtl[eqtl_feature])[1]\n",
    "\n",
    "eval_df_eqtl = distance_matched_df(eval_df_eqtl,'eqtl.q',eqtl_lower_thresh,negpos_ratio=1,seed=1)\n",
    "\n",
    "eval_df_hic = eval_df[~np.isnan(eval_df['hic.100kb'])].copy()\n",
    "eval_df_hic = eval_df_hic[eval_df_hic['hic.100kb'] != 0]\n",
    "eval_df_hic['hic.100kb.rev'] = -eval_df_hic['hic.100kb'].values\n",
    "# eval_df_hic = eval_df_hic[abs(eval_df_hic['dist']) > 50000]\n",
    "hic_lower_thresh = -np.percentile(eval_df_hic['hic.100kb'],99)\n",
    "\n",
    "eval_df_hic = distance_matched_df(eval_df_hic,'hic.100kb.rev',hic_lower_thresh,negpos_ratio=1,seed=1,dist_min=5)"
   ]
  },
  {
   "cell_type": "code",
   "execution_count": 41,
   "metadata": {},
   "outputs": [
    {
     "data": {
      "image/png": "[encoded data removed]",
      "text/plain": [
       "<Figure size 240x300 with 1 Axes>"
      ]
     },
     "metadata": {},
     "output_type": "display_data"
    }
   ],
   "source": [
    "method_list = ['graph.trial{}'.format(trial_no) for trial_no in range(1,6)]\n",
    "method_list += ['corr.trial{}'.format(trial_no) for trial_no in range(1,6)]\n",
    "method_list += ['group_corr.trial{}'.format(trial_no) for trial_no in range(1,6)]\n",
    "method_list += ['gvar.trial{}'.format(trial_no) for trial_no in range(1,6)]\n",
    "method_list += ['granger.trial{}'.format(trial_no) for trial_no in range(1,6)]\n",
    "method_list += ['ABC.score']\n",
    "\n",
    "feature = 'hg38tohg19_eqtl'\n",
    "direction = 'less'\n",
    "\n",
    "metric = 'auroc'\n",
    "results_df = print_results(eval_df_eqtl,method_list,feature,eqtl_lower_thresh,direction,metric=metric)\n",
    "\n",
    "results_df['method'] = [convert_name(n) for n in results_df['method']]\n",
    "\n",
    "plt.figure(figsize=(len(set(results_df['method']))/2.5,3))\n",
    "ax = create_plot(results_df,metric)\n",
    "plt.rcParams['hatch.linewidth'] = 2\n",
    "ax.patches[-1].set_edgecolor(ax.patches[-1]._facecolor)\n",
    "ax.patches[-1].set_facecolor('white')\n",
    "ax.patches[-1].set_hatch('//')\n",
    "ax.patches[-1].set_linewidth(2)\n",
    "    \n",
    "plt.tick_params(\n",
    "    axis='x',          # changes apply to the x-axis\n",
    "    which='both',      # both major and minor ticks are affected\n",
    "    bottom=False,      # ticks along the bottom edge are off\n",
    "    top=False,         # ticks along the top edge are off\n",
    "    labelbottom=False) # labels along the bottom edge are off\n",
    "plt.legend(bbox_to_anchor=(1,1),fontsize=16,frameon=False,handlelength=0.8)\n",
    "sns.despine()\n",
    "\n",
    "plt.ylim([0,0.6])\n",
    "\n",
    "plot_dir = '/data/cb/alexwu/mm_finemap/figures'\n",
    "plt.savefig(os.path.join(plot_dir,'auroc','{}.eqtl.1e-3.0324.pdf'.format(dataset)), dpi=500, bbox_inches = \"tight\")\n",
    "plt.show()"
   ]
  },
  {
   "cell_type": "code",
   "execution_count": 42,
   "metadata": {},
   "outputs": [
    {
     "name": "stdout",
     "output_type": "stream",
     "text": [
      "Correlation\n",
      "Ttest_indResult(statistic=32.771366176825715, pvalue=5.099160068586923e-07)\n",
      "------\n",
      "Pseudocell Corr\n",
      "Ttest_indResult(statistic=18.67974125412761, pvalue=3.6229895561044953e-07)\n",
      "------\n",
      "GVAR\n",
      "Ttest_indResult(statistic=-3.309106926412718, pvalue=0.992407852563805)\n",
      "------\n",
      "Granger\n",
      "Ttest_indResult(statistic=2.5094392935292866, pvalue=0.03280467868333793)\n",
      "------\n"
     ]
    }
   ],
   "source": [
    "from scipy.stats import ttest_ind\n",
    "\n",
    "for method in [\"Correlation\",\"Pseudocell Corr\",\"GVAR\",\"Granger\"]:\n",
    "    print(method)\n",
    "    print(ttest_ind(results_df[results_df[\"method\"] == \"GrID-Net\"][\"auroc\"],\n",
    "          results_df[results_df[\"method\"] == method][\"auroc\"],\n",
    "          equal_var=False,alternative='greater'))\n",
    "    print('------')"
   ]
  },
  {
   "cell_type": "markdown",
   "metadata": {},
   "source": [
    "### Robustness\n",
    "#### Highly Variable Genes"
   ]
  },
  {
   "cell_type": "code",
   "execution_count": 44,
   "metadata": {},
   "outputs": [],
   "source": [
    "n_layers = 10\n",
    "n_neighbors = 15\n",
    "\n",
    "method = 'graph'\n",
    "for trial_no in range(1,6):\n",
    "\n",
    "    data_dir = '/data/cb/alexwu/mm_finemap/results/tests_nn/{}_{}'.format(dataset,trial_no)\n",
    "\n",
    "    if dataset == 'human_cortex_multiome_lineage':\n",
    "        file_name = 'graph.uniform.250kb.trial{}.all.max_scale.mseloss.{}layers.nn{}.statistics.txt'.format(trial_no,n_layers,n_neighbors)\n",
    "    elif dataset == 'share_seq_more':\n",
    "        file_name = 'graph.uniform.trial{}.all.max_scale.mseloss.{}layers.nn{}.statistics.txt'.format(trial_no,n_layers,n_neighbors)\n",
    "    else:\n",
    "        file_name = 'graph.uniform.1Mb.hv4000.trial{}.all.max_scale.mseloss.{}layers.nn{}.statistics.txt'.format(trial_no,n_layers,n_neighbors)\n",
    "\n",
    "    scores = pd.read_csv(os.path.join(data_dir,file_name),sep='\\t').values[:,2].astype(float)\n",
    "    scores[np.isinf(scores)] = 10**10\n",
    "    eval_df['{}.hv4000.trial{}'.format(method,trial_no)] = scores"
   ]
  },
  {
   "cell_type": "markdown",
   "metadata": {},
   "source": [
    "#### Number of Neighbors"
   ]
  },
  {
   "cell_type": "code",
   "execution_count": 45,
   "metadata": {},
   "outputs": [],
   "source": [
    "n_layers = 10\n",
    "\n",
    "method = 'graph'\n",
    "for trial_no in range(1,6):\n",
    "\n",
    "    for n_neighbors in [5,25]:\n",
    "#         if trial_no == 1:\n",
    "#             data_dir = '/data/cb/alexwu/mm_finemap/results/tests_nn/{}'.format(dataset)\n",
    "#         else:\n",
    "        data_dir = '/data/cb/alexwu/mm_finemap/results/tests_nn/{}_{}'.format(dataset,trial_no)\n",
    "\n",
    "        if dataset == 'human_cortex_multiome_lineage':\n",
    "            file_name = 'graph.uniform.250kb.trial{}.all.max_scale.mseloss.{}layers.nn{}.statistics.txt'.format(trial_no,n_layers,n_neighbors)\n",
    "        elif dataset == 'share_seq_more':\n",
    "            file_name = 'graph.uniform.trial{}.all.max_scale.mseloss.{}layers.nn{}.statistics.txt'.format(trial_no,n_layers,n_neighbors)\n",
    "        else:\n",
    "            file_name = 'graph.uniform.1Mb.trial{}.all.max_scale.mseloss.{}layers.nn{}.statistics.txt'.format(trial_no,n_layers,n_neighbors)\n",
    "\n",
    "        scores = pd.read_csv(os.path.join(data_dir,file_name),sep='\\t').values[:,2].astype(float)\n",
    "        scores[np.isinf(scores)] = 10**10\n",
    "        eval_df['{}.nn{}.trial{}'.format(method,n_neighbors,trial_no)] = scores"
   ]
  },
  {
   "cell_type": "markdown",
   "metadata": {},
   "source": [
    "#### Plots"
   ]
  },
  {
   "cell_type": "code",
   "execution_count": 46,
   "metadata": {},
   "outputs": [
    {
     "name": "stdout",
     "output_type": "stream",
     "text": [
      "2 500 500\n",
      "3 183 183\n",
      "4 627 627\n",
      "5 249 249\n",
      "5 936 936\n"
     ]
    }
   ],
   "source": [
    "eqtl_feature = 'hg38tohg19_eqtl'\n",
    "eqtl_lower_thresh = 1e-10\n",
    "eval_df_eqtl = eval_df[~np.isnan(eval_df[eqtl_feature])].copy()\n",
    "\n",
    "# FDR correction\n",
    "from statsmodels.stats.multitest import fdrcorrection\n",
    "eval_df_eqtl['eqtl.q'] = fdrcorrection(eval_df_eqtl[eqtl_feature])[1]\n",
    "\n",
    "eval_df_eqtl = distance_matched_df(eval_df_eqtl,'eqtl.q',eqtl_lower_thresh,negpos_ratio=1,seed=1)\n",
    "\n",
    "eval_df_hic = eval_df[~np.isnan(eval_df['hic.100kb'])].copy()\n",
    "eval_df_hic = eval_df_hic[eval_df_hic['hic.100kb'] != 0]\n",
    "eval_df_hic['hic.100kb.rev'] = -eval_df_hic['hic.100kb'].values\n",
    "# eval_df_hic = eval_df_hic[abs(eval_df_hic['dist']) > 50000]\n",
    "hic_lower_thresh = -np.percentile(eval_df_hic['hic.100kb'],99)\n",
    "\n",
    "eval_df_hic = distance_matched_df(eval_df_hic,'hic.100kb.rev',hic_lower_thresh,negpos_ratio=1,seed=1,dist_min=5)"
   ]
  },
  {
   "cell_type": "code",
   "execution_count": 26,
   "metadata": {},
   "outputs": [
    {
     "data": {
      "image/png": "[encoded data removed]",
      "text/plain": [
       "<Figure size 80x300 with 1 Axes>"
      ]
     },
     "metadata": {},
     "output_type": "display_data"
    }
   ],
   "source": [
    "method_list = ['graph.trial{}'.format(trial_no) for trial_no in range(1,6)]\n",
    "method_list += ['graph.hv4000.trial{}'.format(trial_no) for trial_no in range(1,6)]\n",
    "\n",
    "feature = 'hg38tohg19_eqtl'\n",
    "direction = 'less'\n",
    "\n",
    "metric = 'auroc'\n",
    "results_df = print_results(eval_df_eqtl,method_list,feature,eqtl_lower_thresh,direction,metric=metric)\n",
    "\n",
    "results_df['method'] = [\"2000 h.v. genes\" if \"hv\" not in n else \"4000 h.v. genes\" for n in results_df['method']] # [convert_name(n) for n in results_df['method']]\n",
    "\n",
    "plt.figure(figsize=(len(set(results_df['method']))/2.5,3))\n",
    "ax = create_plot(results_df,metric)\n",
    "    \n",
    "plt.tick_params(\n",
    "    axis='x',          # changes apply to the x-axis\n",
    "    which='both',      # both major and minor ticks are affected\n",
    "    bottom=False,      # ticks along the bottom edge are off\n",
    "    top=False,         # ticks along the top edge are off\n",
    "    labelbottom=False) # labels along the bottom edge are off\n",
    "plt.legend(bbox_to_anchor=(1,1),fontsize=16,frameon=False,handlelength=0.8)\n",
    "sns.despine()\n",
    "\n",
    "plt.ylim([0,0.85])\n",
    "\n",
    "plot_dir = '/data/cb/alexwu/mm_finemap/figures'\n",
    "plt.savefig(os.path.join(plot_dir,'auroc','{}.robustness.hv_genes.eqtl.0524.pdf'.format(dataset)), dpi=500, bbox_inches = \"tight\")\n",
    "plt.show()"
   ]
  },
  {
   "cell_type": "code",
   "execution_count": 27,
   "metadata": {},
   "outputs": [
    {
     "data": {
      "image/png": "[encoded data removed]",
      "text/plain": [
       "<Figure size 120x300 with 1 Axes>"
      ]
     },
     "metadata": {},
     "output_type": "display_data"
    }
   ],
   "source": [
    "method_list = ['graph.nn5.trial{}'.format(trial_no) for trial_no in range(1,6)]\n",
    "method_list += ['graph.trial{}'.format(trial_no) for trial_no in range(1,6)]\n",
    "method_list += ['graph.nn25.trial{}'.format(trial_no) for trial_no in range(1,6)]\n",
    "\n",
    "feature = 'hg38tohg19_eqtl'\n",
    "direction = 'less'\n",
    "\n",
    "metric = 'auroc'\n",
    "results_df = print_results(eval_df_eqtl,method_list,feature,eqtl_lower_thresh,direction,metric=metric)\n",
    "\n",
    "results_df['method'] = [\"k={}\".format(n.split(\".nn\")[1]) if \"nn\" in n else \"k=15\" \n",
    "                        for n in results_df['method']]\n",
    "\n",
    "plt.figure(figsize=(len(set(results_df['method']))/2.5,3))\n",
    "ax = create_plot(results_df,metric)\n",
    "    \n",
    "plt.tick_params(\n",
    "    axis='x',          # changes apply to the x-axis\n",
    "    which='both',      # both major and minor ticks are affected\n",
    "    bottom=False,      # ticks along the bottom edge are off\n",
    "    top=False,         # ticks along the top edge are off\n",
    "    labelbottom=False) # labels along the bottom edge are off\n",
    "plt.legend(bbox_to_anchor=(1,1),fontsize=16,frameon=False,handlelength=0.8)\n",
    "sns.despine()\n",
    "\n",
    "plt.ylim([0,0.85])\n",
    "\n",
    "plot_dir = '/data/cb/alexwu/mm_finemap/figures'\n",
    "plt.savefig(os.path.join(plot_dir,'auroc','{}.robustness.n_neighbors.eqtl.0524.pdf'.format(dataset)), dpi=500, bbox_inches = \"tight\")\n",
    "plt.show()"
   ]
  },
  {
   "cell_type": "code",
   "execution_count": 47,
   "metadata": {},
   "outputs": [
    {
     "data": {
      "image/png": "[encoded data removed]",
      "text/plain": [
       "<Figure size 80x300 with 1 Axes>"
      ]
     },
     "metadata": {},
     "output_type": "display_data"
    }
   ],
   "source": [
    "method_list = ['graph.trial{}'.format(trial_no) for trial_no in range(1,6)]\n",
    "method_list += ['graph.hv4000.trial{}'.format(trial_no) for trial_no in range(1,6)]\n",
    "\n",
    "feature = 'hic.100kb.rev'\n",
    "direction = 'less'\n",
    "\n",
    "metric = 'auroc'\n",
    "results_df = print_results(eval_df_hic,method_list,feature,hic_lower_thresh,direction,metric=metric)\n",
    "\n",
    "results_df['method'] = [\"2000 h.v. genes\" if \"hv\" not in n else \"4000 h.v. genes\" for n in results_df['method']] # [convert_name(n) for n in results_df['method']]\n",
    "\n",
    "results_df = results_df[results_df['method'] != 'ABC']\n",
    "\n",
    "plt.figure(figsize=(len(set(results_df['method']))/2.5,3))\n",
    "ax = create_plot(results_df,metric)\n",
    "    \n",
    "plt.tick_params(\n",
    "    axis='x',          # changes apply to the x-axis\n",
    "    which='both',      # both major and minor ticks are affected\n",
    "    bottom=False,      # ticks along the bottom edge are off\n",
    "    top=False,         # ticks along the top edge are off\n",
    "    labelbottom=False) # labels along the bottom edge are off\n",
    "plt.legend(bbox_to_anchor=(1,1),fontsize=16,frameon=False,handlelength=0.8)\n",
    "sns.despine()\n",
    "\n",
    "plt.ylim([0,0.65])\n",
    "\n",
    "plot_dir = '/data/cb/alexwu/mm_finemap/figures'\n",
    "plt.savefig(os.path.join(plot_dir,'auroc','{}.robustness.hv_genes.hic.0524.pdf'.format(dataset)), dpi=500, bbox_inches = \"tight\")\n",
    "plt.show()"
   ]
  },
  {
   "cell_type": "code",
   "execution_count": 49,
   "metadata": {},
   "outputs": [
    {
     "data": {
      "image/png": "[encoded data removed]",
      "text/plain": [
       "<Figure size 120x300 with 1 Axes>"
      ]
     },
     "metadata": {},
     "output_type": "display_data"
    }
   ],
   "source": [
    "method_list = ['graph.nn5.trial{}'.format(trial_no) for trial_no in range(1,6)]\n",
    "method_list += ['graph.trial{}'.format(trial_no) for trial_no in range(1,6)]\n",
    "method_list += ['graph.nn25.trial{}'.format(trial_no) for trial_no in range(1,6)]\n",
    "\n",
    "feature = 'hic.100kb.rev'\n",
    "direction = 'less'\n",
    "\n",
    "metric = 'auroc'\n",
    "results_df = print_results(eval_df_hic,method_list,feature,hic_lower_thresh,direction,metric=metric)\n",
    "\n",
    "results_df['method'] = [\"k={}\".format(n.split(\".nn\")[1]) if \"nn\" in n else \"k=15\" \n",
    "                        for n in results_df['method']]\n",
    "\n",
    "results_df = results_df[results_df['method'] != 'ABC']\n",
    "\n",
    "plt.figure(figsize=(len(set(results_df['method']))/2.5,3))\n",
    "ax = create_plot(results_df,metric)\n",
    "    \n",
    "plt.tick_params(\n",
    "    axis='x',          # changes apply to the x-axis\n",
    "    which='both',      # both major and minor ticks are affected\n",
    "    bottom=False,      # ticks along the bottom edge are off\n",
    "    top=False,         # ticks along the top edge are off\n",
    "    labelbottom=False) # labels along the bottom edge are off\n",
    "plt.legend(bbox_to_anchor=(1,1),fontsize=16,frameon=False,handlelength=0.8)\n",
    "sns.despine()\n",
    "\n",
    "plt.ylim([0,0.65])\n",
    "\n",
    "plot_dir = '/data/cb/alexwu/mm_finemap/figures'\n",
    "plt.savefig(os.path.join(plot_dir,'auroc','{}.robustness.n_neighbors.hic.0524.pdf'.format(dataset)), dpi=500, bbox_inches = \"tight\")\n",
    "plt.show()"
   ]
  },
  {
   "cell_type": "code",
   "execution_count": null,
   "metadata": {},
   "outputs": [],
   "source": []
  },
  {
   "cell_type": "code",
   "execution_count": null,
   "metadata": {},
   "outputs": [],
   "source": []
  },
  {
   "cell_type": "code",
   "execution_count": null,
   "metadata": {},
   "outputs": [],
   "source": []
  },
  {
   "cell_type": "markdown",
   "metadata": {},
   "source": [
    "### SNARE-seq"
   ]
  },
  {
   "cell_type": "code",
   "execution_count": 51,
   "metadata": {},
   "outputs": [],
   "source": [
    "name_dict = {'graph': 'GrID-Net',\n",
    "             'corr': 'Correlation',\n",
    "             'group_corr': 'Pseudocell Corr',\n",
    "             'ABC.score': 'ABC'}"
   ]
  },
  {
   "cell_type": "code",
   "execution_count": 52,
   "metadata": {},
   "outputs": [
    {
     "name": "stdout",
     "output_type": "stream",
     "text": [
      "<KeysViewHDF5 ['ABC.score', 'atac_id', 'chr_no', 'corr', 'corr_bin', 'dist', 'eqtl.all', 'eqtl.q', 'gene', 'gene_percent_cells', 'group_corr', 'group_corr_bin', 'hic', 'hic.raw', 'peak_percent_cells']>\n"
     ]
    }
   ],
   "source": [
    "dataset = 'snare_seq'\n",
    "\n",
    "distance = 1000000\n",
    "gene_percent_cells = 0.01\n",
    "peak_percent_cells = 0.001\n",
    "\n",
    "rna_adata,atac_adata,eval_df = load_data(dataset,gene_percent_cells=gene_percent_cells,\n",
    "                                          peak_percent_cells=peak_percent_cells,\n",
    "                                          include_h5=True,sampling=None,distance=distance)\n",
    "\n",
    "eval_df = load_results(dataset,eval_df,ensemble=True)\n",
    "eval_df['abs_dist'] = abs(eval_df['dist'])"
   ]
  },
  {
   "cell_type": "code",
   "execution_count": 53,
   "metadata": {},
   "outputs": [],
   "source": [
    "# load standard Granger + GVAR results\n",
    "data_dir = \"/data/cb/alexwu/mm_finemap/results/tests_nn\"\n",
    "\n",
    "dataset = 'snare_seq'\n",
    "\n",
    "# Granger\n",
    "for trial_no in range(1,6):\n",
    "    df = pd.read_csv(os.path.join(data_dir,\"{}_{}\".format(dataset,trial_no),\"{}_{}.standard_granger.csv\".format(dataset,trial_no)))\n",
    "    eval_df[\"granger.trial{}\".format(trial_no)] = -np.log10(df[\"granger_p\"].values)\n",
    "    eval_df[\"granger.trial{}\".format(trial_no)] = eval_df[\"granger.trial{}\".format(trial_no)].replace(np.nan,0)\n",
    "\n",
    "# GVAR\n",
    "for trial_no in range(1,6):\n",
    "    df = pd.read_csv(os.path.join(data_dir,\"{}_{}\".format(dataset,trial_no),\"{}_{}.GVAR.csv\".format(dataset,trial_no)))\n",
    "    p = [float(n.strip(\"[]\")) for n in df[\"granger_p\"].values]\n",
    "    eval_df[\"gvar.trial{}\".format(trial_no)] = -np.log10(p)"
   ]
  },
  {
   "cell_type": "code",
   "execution_count": 54,
   "metadata": {},
   "outputs": [
    {
     "name": "stdout",
     "output_type": "stream",
     "text": [
      "2 1 1\n",
      "3 1 1\n",
      "4 3 3\n",
      "5 2 2\n",
      "5 2017 2017\n"
     ]
    }
   ],
   "source": [
    "eqtl_feature = 'eqtl.all'\n",
    "eqtl_lower_thresh = 1e-10\n",
    "eval_df_eqtl = eval_df[~np.isnan(eval_df[eqtl_feature])].copy()\n",
    "\n",
    "# FDR correction\n",
    "from statsmodels.stats.multitest import fdrcorrection\n",
    "eval_df_eqtl['eqtl.q'] = fdrcorrection(eval_df_eqtl[eqtl_feature])[1]\n",
    "\n",
    "eval_df_eqtl = distance_matched_df(eval_df_eqtl,'eqtl.q',eqtl_lower_thresh,negpos_ratio=1,seed=1)\n",
    "\n",
    "eval_df_hic = eval_df[~np.isnan(eval_df['hic'])].copy()\n",
    "hic_lower_thresh = -np.percentile(eval_df_hic['hic'],99)\n",
    "# eval_df_hic = eval_df_hic[abs(eval_df_hic['dist']) > 50000].copy()\n",
    "\n",
    "eval_df_hic = eval_df_hic[eval_df_hic['hic'] != 0].copy()\n",
    "eval_df_hic['hic.rev'] = -eval_df_hic['hic'].values\n",
    "\n",
    "eval_df_hic = distance_matched_df(eval_df_hic,'hic.rev',hic_lower_thresh,negpos_ratio=1,seed=1,dist_min=5)"
   ]
  },
  {
   "cell_type": "code",
   "execution_count": 31,
   "metadata": {},
   "outputs": [
    {
     "data": {
      "image/png": "[encoded data removed]",
      "text/plain": [
       "<Figure size 240x300 with 1 Axes>"
      ]
     },
     "metadata": {},
     "output_type": "display_data"
    }
   ],
   "source": [
    "method_list = ['graph.trial{}'.format(trial_no) for trial_no in range(1,6)]\n",
    "method_list += ['corr.trial{}'.format(trial_no) for trial_no in range(1,6)]\n",
    "method_list += ['group_corr.trial{}'.format(trial_no) for trial_no in range(1,6)]\n",
    "method_list += ['gvar.trial{}'.format(trial_no) for trial_no in range(1,6)]\n",
    "method_list += ['granger.trial{}'.format(trial_no) for trial_no in range(1,6)]\n",
    "method_list += ['ABC.score']\n",
    "\n",
    "feature = 'eqtl.all'\n",
    "direction = 'less'\n",
    "\n",
    "metric = 'auroc'\n",
    "results_df = print_results(eval_df_eqtl,method_list,feature,eqtl_lower_thresh,direction,metric=metric)\n",
    "results_df['method'] = [convert_name(n) for n in results_df['method']]\n",
    "\n",
    "plt.figure(figsize=(len(set(results_df['method']))/2.5,3))\n",
    "ax = create_plot(results_df,metric)\n",
    "plt.rcParams['hatch.linewidth'] = 2\n",
    "ax.patches[-1].set_edgecolor(ax.patches[-1]._facecolor)\n",
    "ax.patches[-1].set_facecolor('white')\n",
    "ax.patches[-1].set_hatch('//')\n",
    "ax.patches[-1].set_linewidth(2)\n",
    "    \n",
    "plt.tick_params(\n",
    "    axis='x',          # changes apply to the x-axis\n",
    "    which='both',      # both major and minor ticks are affected\n",
    "    bottom=False,      # ticks along the bottom edge are off\n",
    "    top=False,         # ticks along the top edge are off\n",
    "    labelbottom=False) # labels along the bottom edge are off\n",
    "plt.legend(bbox_to_anchor=(1,1),fontsize=16,frameon=False,handlelength=0.8)\n",
    "sns.despine()\n",
    "\n",
    "plt.ylim([0,0.85])\n",
    "\n",
    "plot_dir = '/data/cb/alexwu/mm_finemap/figures'\n",
    "plt.savefig(os.path.join(plot_dir,'auroc','{}.eqtl.0324.pdf'.format(dataset)), dpi=500, bbox_inches = \"tight\")\n",
    "\n",
    "plt.show()"
   ]
  },
  {
   "cell_type": "code",
   "execution_count": 32,
   "metadata": {},
   "outputs": [
    {
     "name": "stdout",
     "output_type": "stream",
     "text": [
      "Correlation\n",
      "Ttest_indResult(statistic=14.182211926745955, pvalue=7.176059019144575e-05)\n",
      "------\n",
      "Pseudocell Corr\n",
      "Ttest_indResult(statistic=2.777460299317654, pvalue=0.016520007856796082)\n",
      "------\n",
      "GVAR\n",
      "Ttest_indResult(statistic=18.85618083164127, pvalue=3.3640335738344607e-07)\n",
      "------\n",
      "Granger\n",
      "Ttest_indResult(statistic=3.4931580425236772, pvalue=0.01165698769480839)\n",
      "------\n"
     ]
    },
    {
     "name": "stderr",
     "output_type": "stream",
     "text": [
      "/tmp/ipykernel_522763/1288374285.py:5: RuntimeWarning: Precision loss occurred in moment calculation due to catastrophic cancellation. This occurs when the data are nearly identical. Results may be unreliable.\n",
      "  print(ttest_ind(results_df[results_df[\"method\"] == \"GrID-Net\"][\"auroc\"],\n"
     ]
    }
   ],
   "source": [
    "from scipy.stats import ttest_ind\n",
    "\n",
    "for method in [\"Correlation\",\"Pseudocell Corr\",\"GVAR\",\"Granger\"]:\n",
    "    print(method)\n",
    "    print(ttest_ind(results_df[results_df[\"method\"] == \"GrID-Net\"][\"auroc\"],\n",
    "          results_df[results_df[\"method\"] == method][\"auroc\"],\n",
    "          equal_var=False,alternative='greater'))\n",
    "    print('------')"
   ]
  },
  {
   "cell_type": "code",
   "execution_count": 33,
   "metadata": {},
   "outputs": [
    {
     "data": {
      "image/png": "[encoded data removed]",
      "text/plain": [
       "<Figure size 200x300 with 1 Axes>"
      ]
     },
     "metadata": {},
     "output_type": "display_data"
    }
   ],
   "source": [
    "method_list = ['graph.trial{}'.format(trial_no) for trial_no in range(1,6)]\n",
    "method_list += ['corr.trial{}'.format(trial_no) for trial_no in range(1,6)]\n",
    "method_list += ['group_corr.trial{}'.format(trial_no) for trial_no in range(1,6)]\n",
    "method_list += ['gvar.trial{}'.format(trial_no) for trial_no in range(1,6)]\n",
    "method_list += ['granger.trial{}'.format(trial_no) for trial_no in range(1,6)]\n",
    "# method_list += ['ABC.score']\n",
    "\n",
    "feature = 'hic.rev'\n",
    "direction = 'less'\n",
    "\n",
    "metric = 'auroc'\n",
    "results_df = print_results(eval_df_hic,method_list,feature,hic_lower_thresh,direction,metric=metric)\n",
    "results_df['method'] = [convert_name(n) for n in results_df['method']]\n",
    "\n",
    "results_df = results_df[results_df['method'] != 'ABC']\n",
    "\n",
    "plt.figure(figsize=(len(set(results_df['method']))/2.5,3))\n",
    "ax = create_plot(results_df,metric)\n",
    "\n",
    "plt.tick_params(\n",
    "    axis='x',          # changes apply to the x-axis\n",
    "    which='both',      # both major and minor ticks are affected\n",
    "    bottom=False,      # ticks along the bottom edge are off\n",
    "    top=False,         # ticks along the top edge are off\n",
    "    labelbottom=False) # labels along the bottom edge are off\n",
    "plt.legend(bbox_to_anchor=(1,1),fontsize=16,frameon=False,handlelength=0.8)\n",
    "sns.despine()\n",
    "\n",
    "plt.ylim([0,0.65])\n",
    "\n",
    "plot_dir = '/data/cb/alexwu/mm_finemap/figures'\n",
    "plt.savefig(os.path.join(plot_dir,'auroc','{}.hic.0324.pdf'.format(dataset)), dpi=500, bbox_inches = \"tight\")\n",
    "\n",
    "plt.show()"
   ]
  },
  {
   "cell_type": "code",
   "execution_count": 34,
   "metadata": {},
   "outputs": [
    {
     "name": "stdout",
     "output_type": "stream",
     "text": [
      "Correlation\n",
      "Ttest_indResult(statistic=17.824872139466837, pvalue=1.341746718385805e-05)\n",
      "------\n",
      "Pseudocell Corr\n",
      "Ttest_indResult(statistic=13.64969684134011, pvalue=5.501011560799633e-07)\n",
      "------\n",
      "GVAR\n",
      "Ttest_indResult(statistic=20.558595626364056, pvalue=5.847289894041965e-07)\n",
      "------\n",
      "Granger\n",
      "Ttest_indResult(statistic=4.721324773801328, pvalue=0.0034843537609267916)\n",
      "------\n"
     ]
    }
   ],
   "source": [
    "from scipy.stats import ttest_ind\n",
    "\n",
    "for method in [\"Correlation\",\"Pseudocell Corr\",\"GVAR\",\"Granger\"]:\n",
    "    print(method)\n",
    "    print(ttest_ind(results_df[results_df[\"method\"] == \"GrID-Net\"][\"auroc\"],\n",
    "          results_df[results_df[\"method\"] == method][\"auroc\"],\n",
    "          equal_var=False,alternative='greater'))\n",
    "    print('------')"
   ]
  },
  {
   "cell_type": "markdown",
   "metadata": {},
   "source": [
    "### Intersection of eQTL + Hi-C"
   ]
  },
  {
   "cell_type": "code",
   "execution_count": 35,
   "metadata": {},
   "outputs": [],
   "source": [
    "eqtl_feature = 'eqtl.all'\n",
    "eqtl_lower_thresh = 1e-10\n",
    "eval_df_eqtl = eval_df[~np.isnan(eval_df[eqtl_feature])].copy()\n",
    "\n",
    "# FDR correction\n",
    "from statsmodels.stats.multitest import fdrcorrection\n",
    "eval_df_eqtl['eqtl.q'] = fdrcorrection(eval_df_eqtl[eqtl_feature])[1]\n",
    "\n",
    "# eval_df_eqtl = distance_matched_df(eval_df_eqtl,'eqtl.q',eqtl_lower_thresh,negpos_ratio=1,seed=1)\n",
    "\n",
    "eval_df_hic = eval_df[~np.isnan(eval_df['hic'])].copy()\n",
    "hic_lower_thresh = -np.percentile(eval_df_hic['hic'],95)\n",
    "# eval_df_hic = eval_df_hic[abs(eval_df_hic['dist']) > 50000].copy()\n",
    "\n",
    "eval_df_hic = eval_df_hic[eval_df_hic['hic'] != 0].copy()\n",
    "eval_df_hic['hic.rev'] = -eval_df_hic['hic'].values\n",
    "\n",
    "# eval_df_hic = distance_matched_df(eval_df_hic,'hic.rev',hic_lower_thresh,negpos_ratio=1,seed=1,dist_min=5)"
   ]
  },
  {
   "cell_type": "code",
   "execution_count": 36,
   "metadata": {},
   "outputs": [],
   "source": [
    "idx2keep = list(set(eval_df_hic.index.values) & set(eval_df_eqtl.index.values))\n",
    "\n",
    "eval_df_eqtl_hic = eval_df_hic.loc[idx2keep]\n",
    "eval_df_eqtl_hic[\"eqtl_hic_thresh\"] = ((eval_df_eqtl_hic[\"hic.rev\"] < hic_lower_thresh) & (eval_df_eqtl_hic[eqtl_feature] < eqtl_lower_thresh)).astype(float)"
   ]
  },
  {
   "cell_type": "code",
   "execution_count": 37,
   "metadata": {},
   "outputs": [
    {
     "data": {
      "text/plain": [
       "0.0"
      ]
     },
     "execution_count": 37,
     "metadata": {},
     "output_type": "execute_result"
    }
   ],
   "source": [
    "eval_df_eqtl_hic[\"eqtl_hic_thresh\"].sum()"
   ]
  },
  {
   "cell_type": "code",
   "execution_count": 62,
   "metadata": {
    "scrolled": true
   },
   "outputs": [
    {
     "ename": "ValueError",
     "evalue": "Only one class present in y_true. ROC AUC score is not defined in that case.",
     "output_type": "error",
     "traceback": [
      "\u001b[0;31m---------------------------------------------------------------------------\u001b[0m",
      "\u001b[0;31mValueError\u001b[0m                                Traceback (most recent call last)",
      "Cell \u001b[0;32mIn [62], line 12\u001b[0m\n\u001b[1;32m      9\u001b[0m direction \u001b[38;5;241m=\u001b[39m \u001b[38;5;124m'\u001b[39m\u001b[38;5;124mgreater\u001b[39m\u001b[38;5;124m'\u001b[39m\n\u001b[1;32m     11\u001b[0m metric \u001b[38;5;241m=\u001b[39m \u001b[38;5;124m'\u001b[39m\u001b[38;5;124mauroc\u001b[39m\u001b[38;5;124m'\u001b[39m\n\u001b[0;32m---> 12\u001b[0m results_df \u001b[38;5;241m=\u001b[39m print_results(eval_df_eqtl_hic,method_list,feature,\u001b[38;5;241m0.5\u001b[39m,direction,metric\u001b[38;5;241m=\u001b[39mmetric)\n\u001b[1;32m     14\u001b[0m results_df[\u001b[38;5;124m'\u001b[39m\u001b[38;5;124mmethod\u001b[39m\u001b[38;5;124m'\u001b[39m] \u001b[38;5;241m=\u001b[39m [convert_name(n) \u001b[38;5;28;01mfor\u001b[39;00m n \u001b[38;5;129;01min\u001b[39;00m results_df[\u001b[38;5;124m'\u001b[39m\u001b[38;5;124mmethod\u001b[39m\u001b[38;5;124m'\u001b[39m]]\n\u001b[1;32m     16\u001b[0m results_df \u001b[38;5;241m=\u001b[39m results_df[results_df[\u001b[38;5;124m'\u001b[39m\u001b[38;5;124mmethod\u001b[39m\u001b[38;5;124m'\u001b[39m] \u001b[38;5;241m!=\u001b[39m \u001b[38;5;124m'\u001b[39m\u001b[38;5;124mABC\u001b[39m\u001b[38;5;124m'\u001b[39m]\n",
      "Cell \u001b[0;32mIn [4], line 70\u001b[0m, in \u001b[0;36mprint_results\u001b[0;34m(eval_df, method_list, feature, thresh, direction, metric)\u001b[0m\n\u001b[1;32m     68\u001b[0m             value \u001b[38;5;241m=\u001b[39m average_precision_score(y_true,scores)\n\u001b[1;32m     69\u001b[0m         \u001b[38;5;28;01melif\u001b[39;00m metric \u001b[38;5;241m==\u001b[39m \u001b[38;5;124m'\u001b[39m\u001b[38;5;124mauroc\u001b[39m\u001b[38;5;124m'\u001b[39m:\n\u001b[0;32m---> 70\u001b[0m             value \u001b[38;5;241m=\u001b[39m \u001b[43mroc_auc_score\u001b[49m\u001b[43m(\u001b[49m\u001b[43my_true\u001b[49m\u001b[43m,\u001b[49m\u001b[43mscores\u001b[49m\u001b[43m)\u001b[49m\n\u001b[1;32m     71\u001b[0m \u001b[38;5;66;03m#         elif metric == 'f1':\u001b[39;00m\n\u001b[1;32m     72\u001b[0m \u001b[38;5;66;03m#             scores = (scores > np.percentile(scores,99)).astype(int)\u001b[39;00m\n\u001b[1;32m     73\u001b[0m \u001b[38;5;66;03m#             value = f1_score(y_true,scores)\u001b[39;00m\n\u001b[1;32m     75\u001b[0m         auprc \u001b[38;5;241m=\u001b[39m average_precision_score(y_true,scores)\n",
      "File \u001b[0;32m/data/cb/alexwu/anaconda3/envs/lagnet/lib/python3.8/site-packages/sklearn/metrics/_ranking.py:571\u001b[0m, in \u001b[0;36mroc_auc_score\u001b[0;34m(y_true, y_score, average, sample_weight, max_fpr, multi_class, labels)\u001b[0m\n\u001b[1;32m    569\u001b[0m     labels \u001b[38;5;241m=\u001b[39m np\u001b[38;5;241m.\u001b[39munique(y_true)\n\u001b[1;32m    570\u001b[0m     y_true \u001b[38;5;241m=\u001b[39m label_binarize(y_true, classes\u001b[38;5;241m=\u001b[39mlabels)[:, \u001b[38;5;241m0\u001b[39m]\n\u001b[0;32m--> 571\u001b[0m     \u001b[38;5;28;01mreturn\u001b[39;00m \u001b[43m_average_binary_score\u001b[49m\u001b[43m(\u001b[49m\n\u001b[1;32m    572\u001b[0m \u001b[43m        \u001b[49m\u001b[43mpartial\u001b[49m\u001b[43m(\u001b[49m\u001b[43m_binary_roc_auc_score\u001b[49m\u001b[43m,\u001b[49m\u001b[43m \u001b[49m\u001b[43mmax_fpr\u001b[49m\u001b[38;5;241;43m=\u001b[39;49m\u001b[43mmax_fpr\u001b[49m\u001b[43m)\u001b[49m\u001b[43m,\u001b[49m\n\u001b[1;32m    573\u001b[0m \u001b[43m        \u001b[49m\u001b[43my_true\u001b[49m\u001b[43m,\u001b[49m\n\u001b[1;32m    574\u001b[0m \u001b[43m        \u001b[49m\u001b[43my_score\u001b[49m\u001b[43m,\u001b[49m\n\u001b[1;32m    575\u001b[0m \u001b[43m        \u001b[49m\u001b[43maverage\u001b[49m\u001b[43m,\u001b[49m\n\u001b[1;32m    576\u001b[0m \u001b[43m        \u001b[49m\u001b[43msample_weight\u001b[49m\u001b[38;5;241;43m=\u001b[39;49m\u001b[43msample_weight\u001b[49m\u001b[43m,\u001b[49m\n\u001b[1;32m    577\u001b[0m \u001b[43m    \u001b[49m\u001b[43m)\u001b[49m\n\u001b[1;32m    578\u001b[0m \u001b[38;5;28;01melse\u001b[39;00m:  \u001b[38;5;66;03m# multilabel-indicator\u001b[39;00m\n\u001b[1;32m    579\u001b[0m     \u001b[38;5;28;01mreturn\u001b[39;00m _average_binary_score(\n\u001b[1;32m    580\u001b[0m         partial(_binary_roc_auc_score, max_fpr\u001b[38;5;241m=\u001b[39mmax_fpr),\n\u001b[1;32m    581\u001b[0m         y_true,\n\u001b[0;32m   (...)\u001b[0m\n\u001b[1;32m    584\u001b[0m         sample_weight\u001b[38;5;241m=\u001b[39msample_weight,\n\u001b[1;32m    585\u001b[0m     )\n",
      "File \u001b[0;32m/data/cb/alexwu/anaconda3/envs/lagnet/lib/python3.8/site-packages/sklearn/metrics/_base.py:75\u001b[0m, in \u001b[0;36m_average_binary_score\u001b[0;34m(binary_metric, y_true, y_score, average, sample_weight)\u001b[0m\n\u001b[1;32m     72\u001b[0m     \u001b[38;5;28;01mraise\u001b[39;00m \u001b[38;5;167;01mValueError\u001b[39;00m(\u001b[38;5;124m\"\u001b[39m\u001b[38;5;132;01m{0}\u001b[39;00m\u001b[38;5;124m format is not supported\u001b[39m\u001b[38;5;124m\"\u001b[39m\u001b[38;5;241m.\u001b[39mformat(y_type))\n\u001b[1;32m     74\u001b[0m \u001b[38;5;28;01mif\u001b[39;00m y_type \u001b[38;5;241m==\u001b[39m \u001b[38;5;124m\"\u001b[39m\u001b[38;5;124mbinary\u001b[39m\u001b[38;5;124m\"\u001b[39m:\n\u001b[0;32m---> 75\u001b[0m     \u001b[38;5;28;01mreturn\u001b[39;00m \u001b[43mbinary_metric\u001b[49m\u001b[43m(\u001b[49m\u001b[43my_true\u001b[49m\u001b[43m,\u001b[49m\u001b[43m \u001b[49m\u001b[43my_score\u001b[49m\u001b[43m,\u001b[49m\u001b[43m \u001b[49m\u001b[43msample_weight\u001b[49m\u001b[38;5;241;43m=\u001b[39;49m\u001b[43msample_weight\u001b[49m\u001b[43m)\u001b[49m\n\u001b[1;32m     77\u001b[0m check_consistent_length(y_true, y_score, sample_weight)\n\u001b[1;32m     78\u001b[0m y_true \u001b[38;5;241m=\u001b[39m check_array(y_true)\n",
      "File \u001b[0;32m/data/cb/alexwu/anaconda3/envs/lagnet/lib/python3.8/site-packages/sklearn/metrics/_ranking.py:339\u001b[0m, in \u001b[0;36m_binary_roc_auc_score\u001b[0;34m(y_true, y_score, sample_weight, max_fpr)\u001b[0m\n\u001b[1;32m    337\u001b[0m \u001b[38;5;124;03m\"\"\"Binary roc auc score.\"\"\"\u001b[39;00m\n\u001b[1;32m    338\u001b[0m \u001b[38;5;28;01mif\u001b[39;00m \u001b[38;5;28mlen\u001b[39m(np\u001b[38;5;241m.\u001b[39munique(y_true)) \u001b[38;5;241m!=\u001b[39m \u001b[38;5;241m2\u001b[39m:\n\u001b[0;32m--> 339\u001b[0m     \u001b[38;5;28;01mraise\u001b[39;00m \u001b[38;5;167;01mValueError\u001b[39;00m(\n\u001b[1;32m    340\u001b[0m         \u001b[38;5;124m\"\u001b[39m\u001b[38;5;124mOnly one class present in y_true. ROC AUC score \u001b[39m\u001b[38;5;124m\"\u001b[39m\n\u001b[1;32m    341\u001b[0m         \u001b[38;5;124m\"\u001b[39m\u001b[38;5;124mis not defined in that case.\u001b[39m\u001b[38;5;124m\"\u001b[39m\n\u001b[1;32m    342\u001b[0m     )\n\u001b[1;32m    344\u001b[0m fpr, tpr, _ \u001b[38;5;241m=\u001b[39m roc_curve(y_true, y_score, sample_weight\u001b[38;5;241m=\u001b[39msample_weight)\n\u001b[1;32m    345\u001b[0m \u001b[38;5;28;01mif\u001b[39;00m max_fpr \u001b[38;5;129;01mis\u001b[39;00m \u001b[38;5;28;01mNone\u001b[39;00m \u001b[38;5;129;01mor\u001b[39;00m max_fpr \u001b[38;5;241m==\u001b[39m \u001b[38;5;241m1\u001b[39m:\n",
      "\u001b[0;31mValueError\u001b[0m: Only one class present in y_true. ROC AUC score is not defined in that case."
     ]
    }
   ],
   "source": [
    "method_list = ['graph.trial{}'.format(trial_no) for trial_no in range(1,6)] + \\\n",
    "                ['corr.trial{}'.format(trial_no) for trial_no in range(1,6)] + \\\n",
    "                ['group_corr.trial{}'.format(trial_no) for trial_no in range(1,6)]\n",
    "method_list += ['gvar.trial{}'.format(trial_no) for trial_no in range(2,6)]\n",
    "method_list += ['granger.trial{}'.format(trial_no) for trial_no in range(1,6)]\n",
    "# method_list += ['ABC.score']\n",
    "\n",
    "feature = 'eqtl_hic_thresh'\n",
    "direction = 'greater'\n",
    "\n",
    "metric = 'auroc'\n",
    "results_df = print_results(eval_df_eqtl_hic,method_list,feature,0.5,direction,metric=metric)\n",
    "\n",
    "results_df['method'] = [convert_name(n) for n in results_df['method']]\n",
    "\n",
    "results_df = results_df[results_df['method'] != 'ABC']\n",
    "\n",
    "plt.figure(figsize=(len(set(results_df['method']))/2.5,3))\n",
    "ax = create_plot(results_df,metric)\n",
    "plt.tick_params(\n",
    "    axis='x',          # changes apply to the x-axis\n",
    "    which='both',      # both major and minor ticks are affected\n",
    "    bottom=False,      # ticks along the bottom edge are off\n",
    "    top=False,         # ticks along the top edge are off\n",
    "    labelbottom=False) # labels along the bottom edge are off\n",
    "plt.legend(bbox_to_anchor=(1,1),fontsize=16,frameon=True)\n",
    "sns.despine()\n",
    "\n",
    "plt.ylim([0,0.7])\n",
    "\n",
    "plot_dir = '/data/cb/alexwu/mm_finemap/figures'\n",
    "plt.savefig(os.path.join(plot_dir,'auroc','{}.eqtl_hic_intersection.0324.pdf'.format(dataset)), dpi=500, bbox_inches = \"tight\")\n",
    "\n",
    "plt.show()"
   ]
  },
  {
   "cell_type": "markdown",
   "metadata": {},
   "source": [
    "### eQTL (1e-3)"
   ]
  },
  {
   "cell_type": "code",
   "execution_count": 55,
   "metadata": {},
   "outputs": [
    {
     "name": "stdout",
     "output_type": "stream",
     "text": [
      "2 6 6\n",
      "3 1 1\n",
      "4 10 10\n",
      "5 3 3\n",
      "5 2017 2017\n"
     ]
    }
   ],
   "source": [
    "eqtl_feature = 'eqtl.all'\n",
    "eqtl_lower_thresh = 1e-3\n",
    "eval_df_eqtl = eval_df[~np.isnan(eval_df[eqtl_feature])].copy()\n",
    "\n",
    "# FDR correction\n",
    "from statsmodels.stats.multitest import fdrcorrection\n",
    "eval_df_eqtl['eqtl.q'] = fdrcorrection(eval_df_eqtl[eqtl_feature])[1]\n",
    "\n",
    "eval_df_eqtl = distance_matched_df(eval_df_eqtl,'eqtl.q',eqtl_lower_thresh,negpos_ratio=1,seed=1)\n",
    "\n",
    "eval_df_hic = eval_df[~np.isnan(eval_df['hic'])].copy()\n",
    "hic_lower_thresh = -np.percentile(eval_df_hic['hic'],99)\n",
    "# eval_df_hic = eval_df_hic[abs(eval_df_hic['dist']) > 50000].copy()\n",
    "\n",
    "eval_df_hic = eval_df_hic[eval_df_hic['hic'] != 0].copy()\n",
    "eval_df_hic['hic.rev'] = -eval_df_hic['hic'].values\n",
    "\n",
    "eval_df_hic = distance_matched_df(eval_df_hic,'hic.rev',hic_lower_thresh,negpos_ratio=1,seed=1,dist_min=5)"
   ]
  },
  {
   "cell_type": "code",
   "execution_count": 59,
   "metadata": {},
   "outputs": [
    {
     "data": {
      "image/png": "[encoded data removed]",
      "text/plain": [
       "<Figure size 240x300 with 1 Axes>"
      ]
     },
     "metadata": {},
     "output_type": "display_data"
    }
   ],
   "source": [
    "method_list = ['graph.trial{}'.format(trial_no) for trial_no in range(1,6)]\n",
    "method_list += ['corr.trial{}'.format(trial_no) for trial_no in range(1,6)]\n",
    "method_list += ['group_corr.trial{}'.format(trial_no) for trial_no in range(1,6)]\n",
    "method_list += ['gvar.trial{}'.format(trial_no) for trial_no in range(1,6)]\n",
    "method_list += ['granger.trial{}'.format(trial_no) for trial_no in range(1,6)]\n",
    "method_list += ['ABC.score']\n",
    "\n",
    "feature = 'eqtl.all'\n",
    "direction = 'less'\n",
    "\n",
    "metric = 'auroc'\n",
    "results_df = print_results(eval_df_eqtl,method_list,feature,eqtl_lower_thresh,direction,metric=metric)\n",
    "results_df['method'] = [convert_name(n) for n in results_df['method']]\n",
    "\n",
    "plt.figure(figsize=(len(set(results_df['method']))/2.5,3))\n",
    "ax = create_plot(results_df,metric)\n",
    "plt.rcParams['hatch.linewidth'] = 2\n",
    "ax.patches[-1].set_edgecolor(ax.patches[-1]._facecolor)\n",
    "ax.patches[-1].set_facecolor('white')\n",
    "ax.patches[-1].set_hatch('//')\n",
    "ax.patches[-1].set_linewidth(2)\n",
    "    \n",
    "plt.tick_params(\n",
    "    axis='x',          # changes apply to the x-axis\n",
    "    which='both',      # both major and minor ticks are affected\n",
    "    bottom=False,      # ticks along the bottom edge are off\n",
    "    top=False,         # ticks along the top edge are off\n",
    "    labelbottom=False) # labels along the bottom edge are off\n",
    "plt.legend(bbox_to_anchor=(1,1),fontsize=16,frameon=False,handlelength=0.8)\n",
    "sns.despine()\n",
    "\n",
    "plt.ylim([0,0.6])\n",
    "\n",
    "plot_dir = '/data/cb/alexwu/mm_finemap/figures'\n",
    "plt.savefig(os.path.join(plot_dir,'auroc','{}.eqtl.1e-3.0324.pdf'.format(dataset)), dpi=500, bbox_inches = \"tight\")\n",
    "\n",
    "plt.show()"
   ]
  },
  {
   "cell_type": "code",
   "execution_count": 60,
   "metadata": {},
   "outputs": [
    {
     "name": "stdout",
     "output_type": "stream",
     "text": [
      "Correlation\n",
      "Ttest_indResult(statistic=1.5322177400763743, pvalue=0.09836332197526997)\n",
      "------\n",
      "Pseudocell Corr\n",
      "Ttest_indResult(statistic=-0.39141521152027264, pvalue=0.645444163801075)\n",
      "------\n",
      "GVAR\n",
      "Ttest_indResult(statistic=4.175133495228332, pvalue=0.0017295339010215747)\n",
      "------\n",
      "Granger\n",
      "Ttest_indResult(statistic=1.5600918382314908, pvalue=0.08300774371141492)\n",
      "------\n"
     ]
    }
   ],
   "source": [
    "from scipy.stats import ttest_ind\n",
    "\n",
    "for method in [\"Correlation\",\"Pseudocell Corr\",\"GVAR\",\"Granger\"]:\n",
    "    print(method)\n",
    "    print(ttest_ind(results_df[results_df[\"method\"] == \"GrID-Net\"][\"auroc\"],\n",
    "          results_df[results_df[\"method\"] == method][\"auroc\"],\n",
    "          equal_var=False,alternative='greater'))\n",
    "    print('------')"
   ]
  },
  {
   "cell_type": "markdown",
   "metadata": {},
   "source": [
    "### Robustness\n",
    "#### Highly Variable Genes"
   ]
  },
  {
   "cell_type": "code",
   "execution_count": 32,
   "metadata": {},
   "outputs": [],
   "source": [
    "n_layers = 10\n",
    "n_neighbors = 15\n",
    "\n",
    "method = 'graph'\n",
    "for trial_no in range(1,6):\n",
    "\n",
    "    data_dir = '/data/cb/alexwu/mm_finemap/results/tests_nn/{}_{}'.format(dataset,trial_no)\n",
    "\n",
    "    if dataset == 'human_cortex_multiome_lineage':\n",
    "        file_name = 'graph.uniform.250kb.trial{}.all.max_scale.mseloss.{}layers.nn{}.statistics.txt'.format(trial_no,n_layers,n_neighbors)\n",
    "    elif dataset == 'share_seq_more':\n",
    "        file_name = 'graph.uniform.trial{}.all.max_scale.mseloss.{}layers.nn{}.statistics.txt'.format(trial_no,n_layers,n_neighbors)\n",
    "    else:\n",
    "        file_name = 'graph.uniform.1Mb.hv4000.trial{}.all.max_scale.mseloss.{}layers.nn{}.statistics.txt'.format(trial_no,n_layers,n_neighbors)\n",
    "\n",
    "    scores = pd.read_csv(os.path.join(data_dir,file_name),sep='\\t').values[:,2].astype(float)\n",
    "    scores[np.isinf(scores)] = 10**10\n",
    "    eval_df['{}.hv4000.trial{}'.format(method,trial_no)] = scores"
   ]
  },
  {
   "cell_type": "markdown",
   "metadata": {},
   "source": [
    "#### Number of Neighbors"
   ]
  },
  {
   "cell_type": "code",
   "execution_count": 33,
   "metadata": {},
   "outputs": [],
   "source": [
    "n_layers = 10\n",
    "\n",
    "method = 'graph'\n",
    "for trial_no in range(1,6):\n",
    "\n",
    "    for n_neighbors in [5,25]:\n",
    "#         if trial_no == 1:\n",
    "#             data_dir = '/data/cb/alexwu/mm_finemap/results/tests_nn/{}'.format(dataset)\n",
    "#         else:\n",
    "        data_dir = '/data/cb/alexwu/mm_finemap/results/tests_nn/{}_{}'.format(dataset,trial_no)\n",
    "\n",
    "        if dataset == 'human_cortex_multiome_lineage':\n",
    "            file_name = 'graph.uniform.250kb.trial{}.all.max_scale.mseloss.{}layers.nn{}.statistics.txt'.format(trial_no,n_layers,n_neighbors)\n",
    "        elif dataset == 'share_seq_more':\n",
    "            file_name = 'graph.uniform.trial{}.all.max_scale.mseloss.{}layers.nn{}.statistics.txt'.format(trial_no,n_layers,n_neighbors)\n",
    "        else:\n",
    "            file_name = 'graph.uniform.1Mb.trial{}.all.max_scale.mseloss.{}layers.nn{}.statistics.txt'.format(trial_no,n_layers,n_neighbors)\n",
    "\n",
    "        scores = pd.read_csv(os.path.join(data_dir,file_name),sep='\\t').values[:,2].astype(float)\n",
    "        scores[np.isinf(scores)] = 10**10\n",
    "        eval_df['{}.nn{}.trial{}'.format(method,n_neighbors,trial_no)] = scores"
   ]
  },
  {
   "cell_type": "markdown",
   "metadata": {},
   "source": [
    "#### Plots"
   ]
  },
  {
   "cell_type": "code",
   "execution_count": 34,
   "metadata": {},
   "outputs": [
    {
     "name": "stdout",
     "output_type": "stream",
     "text": [
      "2 1 1\n",
      "3 1 1\n",
      "4 3 3\n",
      "5 2 2\n",
      "5 2017 2017\n"
     ]
    }
   ],
   "source": [
    "eqtl_feature = 'eqtl.all'\n",
    "eqtl_lower_thresh = 1e-10\n",
    "eval_df_eqtl = eval_df[~np.isnan(eval_df[eqtl_feature])].copy()\n",
    "\n",
    "# FDR correction\n",
    "from statsmodels.stats.multitest import fdrcorrection\n",
    "eval_df_eqtl['eqtl.q'] = fdrcorrection(eval_df_eqtl[eqtl_feature])[1]\n",
    "\n",
    "eval_df_eqtl = distance_matched_df(eval_df_eqtl,'eqtl.q',eqtl_lower_thresh,negpos_ratio=1,seed=1)\n",
    "\n",
    "eval_df_hic = eval_df[~np.isnan(eval_df['hic'])].copy()\n",
    "hic_lower_thresh = -np.percentile(eval_df_hic['hic'],99)\n",
    "# eval_df_hic = eval_df_hic[abs(eval_df_hic['dist']) > 50000].copy()\n",
    "\n",
    "eval_df_hic = eval_df_hic[eval_df_hic['hic'] != 0].copy()\n",
    "eval_df_hic['hic.rev'] = -eval_df_hic['hic'].values\n",
    "\n",
    "eval_df_hic = distance_matched_df(eval_df_hic,'hic.rev',hic_lower_thresh,negpos_ratio=1,seed=1,dist_min=5)"
   ]
  },
  {
   "cell_type": "code",
   "execution_count": 35,
   "metadata": {},
   "outputs": [
    {
     "data": {
      "image/png": "[encoded data removed]",
      "text/plain": [
       "<Figure size 80x300 with 1 Axes>"
      ]
     },
     "metadata": {},
     "output_type": "display_data"
    }
   ],
   "source": [
    "method_list = ['graph.trial{}'.format(trial_no) for trial_no in range(1,6)]\n",
    "method_list += ['graph.hv4000.trial{}'.format(trial_no) for trial_no in range(1,6)]\n",
    "\n",
    "feature = 'eqtl.all'\n",
    "direction = 'less'\n",
    "\n",
    "metric = 'auroc'\n",
    "results_df = print_results(eval_df_eqtl,method_list,feature,eqtl_lower_thresh,direction,metric=metric)\n",
    "\n",
    "results_df['method'] = [\"2000 h.v. genes\" if \"hv\" not in n else \"4000 h.v. genes\" for n in results_df['method']] # [convert_name(n) for n in results_df['method']]\n",
    "\n",
    "plt.figure(figsize=(len(set(results_df['method']))/2.5,3))\n",
    "ax = create_plot(results_df,metric)\n",
    "    \n",
    "plt.tick_params(\n",
    "    axis='x',          # changes apply to the x-axis\n",
    "    which='both',      # both major and minor ticks are affected\n",
    "    bottom=False,      # ticks along the bottom edge are off\n",
    "    top=False,         # ticks along the top edge are off\n",
    "    labelbottom=False) # labels along the bottom edge are off\n",
    "plt.legend(bbox_to_anchor=(1,1),fontsize=16,frameon=False,handlelength=0.8)\n",
    "sns.despine()\n",
    "\n",
    "plt.ylim([0,0.85])\n",
    "\n",
    "plot_dir = '/data/cb/alexwu/mm_finemap/figures'\n",
    "plt.savefig(os.path.join(plot_dir,'auroc','{}.robustness.hv_genes.eqtl.0524.pdf'.format(dataset)), dpi=500, bbox_inches = \"tight\")\n",
    "plt.show()"
   ]
  },
  {
   "cell_type": "code",
   "execution_count": 36,
   "metadata": {},
   "outputs": [
    {
     "data": {
      "image/png": "[encoded data removed]",
      "text/plain": [
       "<Figure size 120x300 with 1 Axes>"
      ]
     },
     "metadata": {},
     "output_type": "display_data"
    }
   ],
   "source": [
    "method_list = ['graph.nn5.trial{}'.format(trial_no) for trial_no in range(1,6)]\n",
    "method_list += ['graph.trial{}'.format(trial_no) for trial_no in range(1,6)]\n",
    "method_list += ['graph.nn25.trial{}'.format(trial_no) for trial_no in range(1,6)]\n",
    "\n",
    "feature = 'eqtl.all'\n",
    "direction = 'less'\n",
    "\n",
    "metric = 'auroc'\n",
    "results_df = print_results(eval_df_eqtl,method_list,feature,eqtl_lower_thresh,direction,metric=metric)\n",
    "\n",
    "results_df['method'] = [\"k={}\".format(n.split(\".nn\")[1]) if \"nn\" in n else \"k=15\" \n",
    "                        for n in results_df['method']]\n",
    "\n",
    "plt.figure(figsize=(len(set(results_df['method']))/2.5,3))\n",
    "ax = create_plot(results_df,metric)\n",
    "    \n",
    "plt.tick_params(\n",
    "    axis='x',          # changes apply to the x-axis\n",
    "    which='both',      # both major and minor ticks are affected\n",
    "    bottom=False,      # ticks along the bottom edge are off\n",
    "    top=False,         # ticks along the top edge are off\n",
    "    labelbottom=False) # labels along the bottom edge are off\n",
    "plt.legend(bbox_to_anchor=(1,1),fontsize=16,frameon=False,handlelength=0.8)\n",
    "sns.despine()\n",
    "\n",
    "plt.ylim([0,0.85])\n",
    "\n",
    "plot_dir = '/data/cb/alexwu/mm_finemap/figures'\n",
    "plt.savefig(os.path.join(plot_dir,'auroc','{}.robustness.n_neighbors.eqtl.0524.pdf'.format(dataset)), dpi=500, bbox_inches = \"tight\")\n",
    "plt.show()"
   ]
  },
  {
   "cell_type": "code",
   "execution_count": 38,
   "metadata": {},
   "outputs": [
    {
     "data": {
      "image/png": "[encoded data removed]",
      "text/plain": [
       "<Figure size 80x300 with 1 Axes>"
      ]
     },
     "metadata": {},
     "output_type": "display_data"
    }
   ],
   "source": [
    "method_list = ['graph.trial{}'.format(trial_no) for trial_no in range(1,6)]\n",
    "method_list += ['graph.hv4000.trial{}'.format(trial_no) for trial_no in range(1,6)]\n",
    "\n",
    "feature = 'hic.rev'\n",
    "direction = 'less'\n",
    "\n",
    "metric = 'auroc'\n",
    "results_df = print_results(eval_df_hic,method_list,feature,hic_lower_thresh,direction,metric=metric)\n",
    "\n",
    "results_df['method'] = [\"2000 h.v. genes\" if \"hv\" not in n else \"4000 h.v. genes\" for n in results_df['method']] # [convert_name(n) for n in results_df['method']]\n",
    "\n",
    "results_df = results_df[results_df['method'] != 'ABC']\n",
    "\n",
    "plt.figure(figsize=(len(set(results_df['method']))/2.5,3))\n",
    "ax = create_plot(results_df,metric)\n",
    "    \n",
    "plt.tick_params(\n",
    "    axis='x',          # changes apply to the x-axis\n",
    "    which='both',      # both major and minor ticks are affected\n",
    "    bottom=False,      # ticks along the bottom edge are off\n",
    "    top=False,         # ticks along the top edge are off\n",
    "    labelbottom=False) # labels along the bottom edge are off\n",
    "plt.legend(bbox_to_anchor=(1,1),fontsize=16,frameon=False,handlelength=0.8)\n",
    "sns.despine()\n",
    "\n",
    "plt.ylim([0,0.65])\n",
    "\n",
    "plot_dir = '/data/cb/alexwu/mm_finemap/figures'\n",
    "plt.savefig(os.path.join(plot_dir,'auroc','{}.robustness.hv_genes.hic.0524.pdf'.format(dataset)), dpi=500, bbox_inches = \"tight\")\n",
    "plt.show()"
   ]
  },
  {
   "cell_type": "code",
   "execution_count": 39,
   "metadata": {},
   "outputs": [
    {
     "data": {
      "image/png": "[encoded data removed]",
      "text/plain": [
       "<Figure size 120x300 with 1 Axes>"
      ]
     },
     "metadata": {},
     "output_type": "display_data"
    }
   ],
   "source": [
    "method_list = ['graph.nn5.trial{}'.format(trial_no) for trial_no in range(1,6)]\n",
    "method_list += ['graph.trial{}'.format(trial_no) for trial_no in range(1,6)]\n",
    "method_list += ['graph.nn25.trial{}'.format(trial_no) for trial_no in range(1,6)]\n",
    "\n",
    "feature = 'hic.rev'\n",
    "direction = 'less'\n",
    "\n",
    "metric = 'auroc'\n",
    "results_df = print_results(eval_df_hic,method_list,feature,hic_lower_thresh,direction,metric=metric)\n",
    "\n",
    "results_df['method'] = [\"k={}\".format(n.split(\".nn\")[1]) if \"nn\" in n else \"k=15\" \n",
    "                        for n in results_df['method']]\n",
    "\n",
    "results_df = results_df[results_df['method'] != 'ABC']\n",
    "\n",
    "plt.figure(figsize=(len(set(results_df['method']))/2.5,3))\n",
    "ax = create_plot(results_df,metric)\n",
    "    \n",
    "plt.tick_params(\n",
    "    axis='x',          # changes apply to the x-axis\n",
    "    which='both',      # both major and minor ticks are affected\n",
    "    bottom=False,      # ticks along the bottom edge are off\n",
    "    top=False,         # ticks along the top edge are off\n",
    "    labelbottom=False) # labels along the bottom edge are off\n",
    "plt.legend(bbox_to_anchor=(1,1),fontsize=16,frameon=False,handlelength=0.8)\n",
    "sns.despine()\n",
    "\n",
    "plt.ylim([0,0.65])\n",
    "\n",
    "plot_dir = '/data/cb/alexwu/mm_finemap/figures'\n",
    "plt.savefig(os.path.join(plot_dir,'auroc','{}.robustness.n_neighbors.hic.0524.pdf'.format(dataset)), dpi=500, bbox_inches = \"tight\")\n",
    "plt.show()"
   ]
  },
  {
   "cell_type": "code",
   "execution_count": null,
   "metadata": {},
   "outputs": [],
   "source": []
  }
 ],
 "metadata": {
  "kernelspec": {
   "display_name": "Python 3 (ipykernel)",
   "language": "python",
   "name": "python3"
  },
  "language_info": {
   "codemirror_mode": {
    "name": "ipython",
    "version": 3
   },
   "file_extension": ".py",
   "mimetype": "text/x-python",
   "name": "python",
   "nbconvert_exporter": "python",
   "pygments_lexer": "ipython3",
   "version": "3.8.13"
  }
 },
 "nbformat": 4,
 "nbformat_minor": 4
}
