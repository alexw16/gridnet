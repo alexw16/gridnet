{
 "cells": [
  {
   "cell_type": "code",
   "execution_count": 1,
   "metadata": {},
   "outputs": [],
   "source": [
    "%matplotlib inline\n",
    "import os\n",
    "import numpy as np\n",
    "import matplotlib.pyplot as plt\n",
    "import numpy as np\n",
    "import seaborn as sns\n",
    "import pandas as pd\n",
    "\n",
    "import csv\n",
    "import umap\n",
    "import scanpy as sc"
   ]
  },
  {
   "cell_type": "code",
   "execution_count": 2,
   "metadata": {},
   "outputs": [],
   "source": [
    "import h5py\n",
    "from scipy.sparse import csr_matrix\n",
    "\n",
    "def load_data(dataset,gene_percent_cells=0.01,peak_percent_cells=0.001,include_h5=True,\n",
    "              preprocess=True,sampling=None,distance=1000000):\n",
    "    \n",
    "    data_dir = '/data/cb/alexwu/mm_finemap/datasets/{}'.format(dataset)\n",
    "\n",
    "    if sampling == 'geosketch':\n",
    "        rna_adata = sc.read(os.path.join(data_dir,'{}.rna.sketch.h5ad'.format(dataset)))\n",
    "        atac_adata = sc.read(os.path.join(data_dir,'{}.atac.sketch.h5ad'.format(dataset)))\n",
    "    elif sampling == 'uniform':\n",
    "        rna_adata = sc.read(os.path.join(data_dir,'{}.rna.uniform.h5ad'.format(dataset)))\n",
    "        atac_adata = sc.read(os.path.join(data_dir,'{}.atac.uniform.h5ad'.format(dataset)))        \n",
    "    else:\n",
    "        rna_adata = sc.read(os.path.join(data_dir,'{}.rna.h5ad'.format(dataset)))\n",
    "        atac_adata = sc.read(os.path.join(data_dir,'{}.atac.h5ad'.format(dataset)))\n",
    "\n",
    "    if dataset == 'sci_car':\n",
    "        data_dir = '/data/cb/alexwu/mm_finemap/data/sci_car'\n",
    "        adata = sc.read(os.path.join(data_dir,'adata-hs.h5ad'))\n",
    "\n",
    "        atac_adata.var['chr_no'] = ['chr' + n for n in atac_adata.var['chr_no']]\n",
    "        atac_adata.var['start'] = adata.uns['atac.var'][:,2].astype(int)\n",
    "        atac_adata.var['end'] = adata.uns['atac.var'][:,3].astype(int)\n",
    "\n",
    "    if preprocess:\n",
    "        # scale by maximum \n",
    "        # (rna already normalized by library size + log-transformed)\n",
    "        X_max = rna_adata.X.max(0).toarray().squeeze()\n",
    "        X_max[X_max == 0] = 1\n",
    "        rna_adata.X = csr_matrix(rna_adata.X / X_max)\n",
    "\n",
    "        # atac: normalize library size + log transformation\n",
    "        sc.pp.normalize_total(atac_adata,target_sum=1e4)\n",
    "        sc.pp.log1p(atac_adata)\n",
    "\n",
    "    if include_h5:\n",
    "        data_dir = '/data/cb/alexwu/mm_finemap/datasets/{}'.format(dataset)\n",
    "        with h5py.File(os.path.join(data_dir,'dataset.h5'),'r') as f:\n",
    "            print(f.keys())\n",
    "            data_df = pd.DataFrame()\n",
    "            for k in ['chr_no','eqtl','hic','dist','atac_id','gene','corr','group_corr','gene_percent_cells',\n",
    "                      'peak_percent_cells','hg38tohg19_eqtl','eqtl.new','corr_bin','group_corr_bin',\n",
    "                      'hic_0hr','hic_1hr','hic_4hr','eqtl.q','hic_4hr.expectedBL','eqtl.all','hic.new2',\n",
    "                      'hic.100kb','ABC.score','eqtl.fdr']: #,\n",
    "#                      'hic_0hr.expectedBL','hic_1hr.expectedBL','hic_4hr.expectedBL.new','hic_0hr.expectedBL.new',\n",
    "#                      'hic_4hr.expectedBL.new2','hic_12hr.expectedBL','hic_4hr.expectedBL.full']:\n",
    "                if k in f.keys():\n",
    "                    data_df[k] = f[k][:]\n",
    "\n",
    "        small_df = data_df[abs(data_df['dist']) < distance]\n",
    "\n",
    "        # small_df = small_df[~np.isnan(small_df['group_corr'])]\n",
    "        small_df = small_df[small_df['gene_percent_cells'] > gene_percent_cells]\n",
    "        small_df = small_df[small_df['peak_percent_cells'] > peak_percent_cells]\n",
    "\n",
    "        small_df.index = [(atac_idx,gene) for atac_idx,gene in small_df[['atac_id','gene']].values]\n",
    "    \n",
    "        return rna_adata,atac_adata,small_df\n",
    "\n",
    "    else:\n",
    "        \n",
    "        return rna_adata,atac_adata"
   ]
  },
  {
   "cell_type": "code",
   "execution_count": 3,
   "metadata": {},
   "outputs": [],
   "source": [
    "from scipy.stats import rankdata\n",
    "\n",
    "def load_results(dataset,eval_df,ensemble=False,gene_percent_cells=0.01,peak_percent_cells=0.001):\n",
    "    \n",
    "    n_layers = 10\n",
    "    n_neighbors = 15\n",
    "    mode = 'lr'\n",
    "\n",
    "    eval_df['ABC.score'] = eval_df['ABC.score'].replace(np.nan, 0)\n",
    "    eval_df['ABC.score'] = eval_df['ABC.score'].values #.astype(bool).astype(float)\n",
    "\n",
    "    eval_df['corr'] = eval_df['corr'].replace(np.nan, 0)\n",
    "    eval_df['group_corr'] = eval_df['group_corr'].replace(np.nan, 0)\n",
    "\n",
    "    data_dir = '/data/cb/alexwu/mm_finemap/results/tests_nn/{}'.format(dataset)\n",
    "\n",
    "    \n",
    "    if dataset in ['sci_car','snare_seq']:\n",
    "        \n",
    "        method = 'graph'\n",
    "        data_dir = '/data/cb/alexwu/mm_finemap/results/tests_nn/{}'.format(dataset)\n",
    "        for trial_no in range(1,6):\n",
    "\n",
    "            file_name = 'graph.trial{}.all.max_scale.mseloss.{}layers.nn{}.statistics.txt'.format(trial_no,n_layers,n_neighbors)\n",
    "            scores = pd.read_csv(os.path.join(data_dir,file_name),sep='\\t').values[:,2].astype(float)\n",
    "            scores[np.isinf(scores)] = 10**10\n",
    "            eval_df['{}.trial{}'.format(method,trial_no)] = scores\n",
    "            \n",
    "    elif dataset in ['share_seq_more','human_cortex_multiome_lineage']:\n",
    "        \n",
    "        method = 'graph'\n",
    "        for trial_no in range(1,6):\n",
    "\n",
    "            if trial_no == 1:\n",
    "                data_dir = '/data/cb/alexwu/mm_finemap/results/tests_nn/{}'.format(dataset)\n",
    "            else:\n",
    "                data_dir = '/data/cb/alexwu/mm_finemap/results/tests_nn/{}_{}'.format(dataset,trial_no)\n",
    "\n",
    "            if dataset == 'human_cortex_multiome_lineage':\n",
    "                file_name = 'graph.uniform.250kb.trial{}.all.max_scale.mseloss.{}layers.nn{}.statistics.txt'.format(trial_no,n_layers,n_neighbors)\n",
    "            elif dataset == 'share_seq_more':\n",
    "                file_name = 'graph.uniform.trial{}.all.max_scale.mseloss.{}layers.nn{}.statistics.txt'.format(trial_no,n_layers,n_neighbors)\n",
    "            else:\n",
    "                file_name = 'graph.uniform.trial{}.all.max_scale.mseloss.{}layers.nn{}.statistics.txt'.format(trial_no,n_layers,n_neighbors)\n",
    "\n",
    "            scores = pd.read_csv(os.path.join(data_dir,file_name),sep='\\t').values[:,2].astype(float)\n",
    "            scores[np.isinf(scores)] = 10**10\n",
    "            eval_df['{}.trial{}'.format(method,trial_no)] = scores\n",
    "            \n",
    "        \n",
    "            if trial_no == 1:\n",
    "                data_dir = '/data/cb/alexwu/mm_finemap/datasets/{}'.format(dataset)\n",
    "            else:\n",
    "                data_dir = '/data/cb/alexwu/mm_finemap/datasets/{}_{}'.format(dataset,trial_no)\n",
    "\n",
    "            # correlations\n",
    "            with h5py.File(os.path.join(data_dir,'dataset.h5'),'r') as f:\n",
    "                data_df = pd.DataFrame()\n",
    "                for k in ['dist','corr','group_corr','gene_percent_cells','peak_percent_cells']:\n",
    "                    if k in f.keys():\n",
    "                        data_df[k] = f[k][:]\n",
    "\n",
    "            small_df = data_df[abs(data_df['dist']) < distance]\n",
    "\n",
    "            # small_df = small_df[~np.isnan(small_df['group_corr'])]\n",
    "            small_df = small_df[small_df['gene_percent_cells'] > gene_percent_cells]\n",
    "            small_df = small_df[small_df['peak_percent_cells'] > peak_percent_cells]\n",
    "\n",
    "            eval_df['corr.trial{}'.format(trial_no)] = small_df['corr'].replace(np.nan, 0).values\n",
    "            eval_df['group_corr.trial{}'.format(trial_no)] = small_df['group_corr'].replace(np.nan, 0).values\n",
    "\n",
    "    if ensemble:\n",
    "                \n",
    "        for method in ['graph','corr','group_corr']:\n",
    "            eval_df['{}.ranks.mean'.format(method)] = np.array([rankdata(abs(eval_df['{}.trial{}'.format(method,trial_no)].values),\n",
    "                                                                method='average') for trial_no in range(1,6)]).mean(0)\n",
    "\n",
    "        distance_ranks = rankdata(-abs(eval_df['dist'].values),method='average')\n",
    "        eval_df['dist_ranks'] = distance_ranks\n",
    "\n",
    "        for feature in ['graph.ranks.mean','group_corr.ranks.mean','corr.ranks.mean']:\n",
    "            eval_df[feature + '-dist'] = (distance_ranks + eval_df[feature].values)/2\n",
    "            \n",
    "    return eval_df"
   ]
  },
  {
   "cell_type": "code",
   "execution_count": 4,
   "metadata": {},
   "outputs": [],
   "source": [
    "from sklearn.metrics import average_precision_score,roc_auc_score\n",
    "\n",
    "def get_results(dataset,method,n_layers=None,n_neighbors=None,mode=None,sketch=False,trial_no=None):\n",
    "    \n",
    "    data_dir = '/data/cb/alexwu/mm_finemap/results/tests_nn/{}'.format(dataset)\n",
    "    \n",
    "    if method == 'graph':\n",
    "        trial_str = 'new2' if trial_no == 0 else 'trial{}'.format(trial_no)\n",
    "        if sketch:\n",
    "            file_name = 'graph.sketch.{}.all.max_scale.mseloss.{}layers.nn{}.{}.p.txt'.format(trial_str,n_layers,n_neighbors,mode)\n",
    "        else:\n",
    "            file_name = 'graph.{}.all.max_scale.mseloss.{}layers.nn{}.{}.p.txt'.format(trial_str,n_layers,n_neighbors,mode)\n",
    "    elif method == 'granger':\n",
    "        if sketch:\n",
    "            file_name = 'baseline.bin.sketch.bin.results.txt'\n",
    "        else:\n",
    "            file_name = 'baseline.bin.bin.results.txt'\n",
    "    elif method == 'graph.base':\n",
    "        if sketch:\n",
    "            file_name = 'graph.base.sketch.new.{}layers.nn{}.{}.txt'.format(n_layers,n_neighbors,mode)\n",
    "        else:\n",
    "            file_name = 'graph.base.new.{}layers.nn{}.{}.txt'.format(n_layers,n_neighbors,mode)\n",
    "            \n",
    "    elif method == 'gvar':\n",
    "        if sketch:\n",
    "            file_name = 'gvar.bin.sketch.trial{}.bin.results.txt'.format(trial_no)\n",
    "        else:\n",
    "            file_name = 'gvar.bin.trial{}.bin.results.txt'.format(trial_no)\n",
    "\n",
    "    elif method == 'GVAR':\n",
    "        if sketch:\n",
    "            file_name = 'GVAR.bin.sketch.trial{}.bin.results.txt'.format(trial_no)\n",
    "        else:\n",
    "            file_name = 'GVAR.bin.trial{}.bin.results.txt'.format(trial_no)\n",
    "            \n",
    "    scores = pd.read_csv(os.path.join(data_dir,file_name),header=None).values\n",
    "    \n",
    "    if (method == 'graph' and mode == 'lr') or method == 'gvar':\n",
    "        return scores\n",
    "    else:\n",
    "        scores[scores == 0] = 10**-100\n",
    "        scores = -np.log10(scores)\n",
    "        return scores\n",
    "    \n",
    "def print_results(eval_df,method_list,feature,thresh,direction,metric='auprc'):\n",
    "    \n",
    "    if direction == 'less':\n",
    "        y_true = eval_df[feature].values <= thresh\n",
    "    elif direction == 'greater':\n",
    "        y_true = eval_df[feature].values >= thresh\n",
    "\n",
    "    data_dict = {'method': [], metric: []}\n",
    "    for method in method_list:\n",
    "        scores = abs(eval_df[method].values)\n",
    "                \n",
    "        if metric == 'auprc':\n",
    "            value = average_precision_score(y_true,scores)\n",
    "        elif metric == 'auroc':\n",
    "            value = roc_auc_score(y_true,scores)\n",
    "            \n",
    "        auprc = average_precision_score(y_true,scores)\n",
    "        data_dict['method'].append(method)\n",
    "        data_dict[metric].append(value)\n",
    "\n",
    "    results_df = pd.DataFrame(data_dict)\n",
    "    results_df['trial_no'] = [int(n.split('trial')[1]) if 'trial' in n else 0 for n in results_df['method']]\n",
    "    results_df['method'] = [n.split('.trial')[0] for n in results_df['method']]\n",
    "    \n",
    "    return results_df"
   ]
  },
  {
   "cell_type": "code",
   "execution_count": 10,
   "metadata": {},
   "outputs": [],
   "source": [
    "import math\n",
    "\n",
    "def round_sigfigs(number,significant_digits=3):\n",
    "    return round(number, significant_digits - int(math.floor(math.log10(abs(number)))) - 1)\n",
    "\n",
    "def num_sigfigs(number):\n",
    "    return len(str(number).split('.')[1].strip('0'))\n",
    "    \n",
    "def create_plot(results_df,metric):\n",
    "    \n",
    "    ax = sns.barplot(x='method',y=metric,hue='method',data=results_df,capsize=0.2,dodge=False)\n",
    "\n",
    "    sns.stripplot(x='method',y=metric,hue='method',data=results_df,\n",
    "                  ax=ax,color=\"black\",size=3,alpha=0.8)\n",
    "\n",
    "    handles, labels = ax.get_legend_handles_labels()\n",
    "    plt.legend(handles[results_df[\"method\"].nunique():],labels[results_df[\"method\"].nunique():],\n",
    "               bbox_to_anchor=(1,1),fontsize=16,frameon=False,handlelength=0.8)\n",
    "    sns.despine()\n",
    "\n",
    "    plt.tick_params(\n",
    "        axis='x',          # changes apply to the x-axis\n",
    "        which='both',      # both major and minor ticks are affected\n",
    "        bottom=False,      # ticks along the bottom edge are off\n",
    "        top=False,         # ticks along the top edge are off\n",
    "        labelbottom=False) # labels along the bottom edge are off\n",
    "\n",
    "    plt.ylim(0,results_df[metric].max()*1.02)\n",
    "    plt.xlabel('',fontsize=16)\n",
    "    plt.ylabel(metric.upper(),fontsize=16)\n",
    "    plt.yticks(fontsize=14)\n",
    "    plt.xticks(rotation=90)\n",
    "    \n",
    "    return ax\n",
    "    "
   ]
  },
  {
   "cell_type": "code",
   "execution_count": 6,
   "metadata": {},
   "outputs": [],
   "source": [
    "def distance_matched_df(eval_df,feature,lower_thresh,negpos_ratio=9,seed=1,dist_min=2,verbose=True):\n",
    "    \n",
    "    df_copy = eval_df.copy()\n",
    "    np.random.seed(1)\n",
    "    \n",
    "    dist_categories = np.clip(np.log10(0.1+abs(df_copy['dist'].values)).astype(int),dist_min,10)\n",
    "    df_copy['dist_category'] = dist_categories\n",
    "\n",
    "    df_list = []\n",
    "    for group,group_df in df_copy.groupby('dist_category'):\n",
    "        \n",
    "        n_per_category = (group_df[feature] <= lower_thresh).sum()\n",
    "        pos_inds = np.argsort(group_df[feature])[0:n_per_category].tolist()\n",
    "        neg_inds = np.argsort(group_df[feature])[(-negpos_ratio*n_per_category):]\n",
    "        neg_inds = list(set(neg_inds) - set(pos_inds))\n",
    "        \n",
    "        if verbose:\n",
    "            print(group,len(pos_inds),len(neg_inds))\n",
    "        \n",
    "        df_list.append(group_df.iloc[pos_inds + neg_inds])\n",
    "    \n",
    "    return pd.concat(df_list)"
   ]
  },
  {
   "cell_type": "code",
   "execution_count": 7,
   "metadata": {},
   "outputs": [],
   "source": [
    "def convert_name(n):\n",
    "    \n",
    "    if 'graph' in n:\n",
    "        name = 'GrID-Net'\n",
    "    elif 'group' in n:\n",
    "        name = 'Pseudocell Corr'\n",
    "    elif 'corr' in n:\n",
    "        name = 'Correlation'\n",
    "    elif 'ABC' in n:\n",
    "        name = 'ABC'\n",
    "    elif \"GVAR\" in n or \"gvar\" in n:\n",
    "        name = \"GVAR\"\n",
    "    elif \"granger\" in n:\n",
    "        name = \"Granger\"\n",
    "    elif \"tripod\" in n:\n",
    "        name = \"TRIPOD\"\n",
    "    \n",
    "    \n",
    "    if 'rra' in n:\n",
    "        name += ' (RRA)'\n",
    "        \n",
    "    if 'ranks' in n:\n",
    "        name += ' (ens)'\n",
    "    \n",
    "    if '-dist' in n:\n",
    "        name += ' (dist)'\n",
    "        \n",
    "\n",
    "    return name"
   ]
  },
  {
   "cell_type": "markdown",
   "metadata": {},
   "source": [
    "## Results"
   ]
  },
  {
   "cell_type": "code",
   "execution_count": 8,
   "metadata": {
    "scrolled": true
   },
   "outputs": [
    {
     "name": "stdout",
     "output_type": "stream",
     "text": [
      "WARNING: Your filename has more than two extensions: ['.rna', '.uniform', '.h5ad'].\n",
      "Only considering the two last: ['.uniform', '.h5ad'].\n",
      "WARNING: Your filename has more than two extensions: ['.rna', '.uniform', '.h5ad'].\n",
      "Only considering the two last: ['.uniform', '.h5ad'].\n",
      "WARNING: Your filename has more than two extensions: ['.atac', '.uniform', '.h5ad'].\n",
      "Only considering the two last: ['.uniform', '.h5ad'].\n",
      "WARNING: Your filename has more than two extensions: ['.atac', '.uniform', '.h5ad'].\n",
      "Only considering the two last: ['.uniform', '.h5ad'].\n",
      "<KeysViewHDF5 ['ABC.score', 'atac_id', 'chr_no', 'corr', 'corr.sketch', 'corr_bin', 'dist', 'eqtl.all', 'eqtl.fdr', 'eqtl.q', 'gene', 'gene_percent_cells', 'group_corr', 'group_corr.sketch', 'hic', 'hic.new', 'hic.new2', 'peak_percent_cells']>\n"
     ]
    }
   ],
   "source": [
    "dataset = 'share_seq_more'\n",
    "\n",
    "distance = 1000000\n",
    "gene_percent_cells = 0.01\n",
    "peak_percent_cells = 0.001\n",
    "\n",
    "# sketch = 'glial' not in dataset\n",
    "rna_adata,atac_adata,eval_df = load_data(dataset,gene_percent_cells=gene_percent_cells,\n",
    "                                          peak_percent_cells=peak_percent_cells,\n",
    "                                          include_h5=True,sampling='uniform',distance=distance)\n",
    "\n",
    "eval_df = load_results(dataset,eval_df,ensemble=True)\n",
    "eval_df['abs_dist'] = abs(eval_df['dist'])"
   ]
  },
  {
   "cell_type": "code",
   "execution_count": 9,
   "metadata": {
    "scrolled": true
   },
   "outputs": [],
   "source": [
    "# load standard Granger + GVAR results\n",
    "dataset = 'share_seq_more'\n",
    "\n",
    "data_dir = \"/data/cb/alexwu/mm_finemap/results/tests_nn\"\n",
    "df = pd.read_csv(os.path.join(data_dir,dataset,\"{}.standard_granger.csv\".format(dataset)))\n",
    "eval_df[\"granger.trial{}\".format(1)] = -np.log10(df[\"granger_p\"].values)\n",
    "for trial_no in range(2,6):\n",
    "    df = pd.read_csv(os.path.join(data_dir,\"{}_{}\".format(dataset,trial_no),\"{}_{}.standard_granger.csv\".format(dataset,trial_no)))\n",
    "    eval_df[\"granger.trial{}\".format(trial_no)] = -np.log10(df[\"granger_p\"].values)"
   ]
  },
  {
   "cell_type": "code",
   "execution_count": 11,
   "metadata": {
    "scrolled": true
   },
   "outputs": [],
   "source": [
    "# load standard Granger + GVAR results\n",
    "dataset = 'share_seq_more'\n",
    "\n",
    "data_dir = \"/data/cb/alexwu/mm_finemap/results/tests_nn\"\n",
    "# df = pd.read_csv(os.path.join(data_dir,dataset,\"{}.GVAR.csv\".format(dataset,trial_no)))\n",
    "# p = [float(n.strip(\"[]\")) for n in df[\"granger_p\"].values]\n",
    "# eval_df[\"gvar.trial{}\".format(1)] = -np.log10(df[\"granger_p\"].values)\n",
    "for trial_no in range(2,6):\n",
    "    df = pd.read_csv(os.path.join(data_dir,\"{}_{}\".format(dataset,trial_no),\"{}_{}.GVAR.csv\".format(dataset,trial_no)))\n",
    "    p = [float(n.strip(\"[]\")) for n in df[\"granger_p\"].values]\n",
    "    eval_df[\"gvar.trial{}\".format(trial_no)] = -np.log10(p)"
   ]
  },
  {
   "cell_type": "code",
   "execution_count": 12,
   "metadata": {},
   "outputs": [],
   "source": [
    "# dataset = 'share_seq_more'\n",
    "# n_layers = 10\n",
    "# n_neighbors = 15\n",
    "# mode = 'lr'\n",
    "\n",
    "# method = 'GVAR'\n",
    "# for trial_no in range(1,4):\n",
    "#     scores = get_results(dataset,method,n_layers=n_layers,n_neighbors=n_neighbors,mode=mode,trial_no=trial_no,\n",
    "#                         sketch=True)\n",
    "#     scores[np.isinf(scores)] = 10**10\n",
    "#     eval_df['{}.trial{}'.format(method,trial_no)] = scores\n",
    "\n",
    "# method = 'granger'\n",
    "# scores = get_results(dataset,method,n_layers=n_layers,n_neighbors=n_neighbors,mode=mode,trial_no=0,sketch=True)\n",
    "\n",
    "# scores[np.isinf(scores)] = 10**10\n",
    "# eval_df[method] = scores"
   ]
  },
  {
   "cell_type": "markdown",
   "metadata": {},
   "source": [
    "### No Ensembling"
   ]
  },
  {
   "cell_type": "code",
   "execution_count": 13,
   "metadata": {},
   "outputs": [],
   "source": [
    "name_dict = {'graph': 'GrID-Net',\n",
    "             'corr': 'Correlation',\n",
    "             'group_corr': 'Pseudocell Corr',\n",
    "             'ABC.score': 'ABC',\n",
    "             'granger': \"Linear GC\",\n",
    "             'gvar': \"GVAR\"}\n",
    "\n",
    "data_dir = '/data/cb/alexwu/mm_finemap/data/share_seq/validation'\n",
    "\n",
    "df = pd.read_csv(os.path.join(data_dir,'GSM2740038_5C-pKerat-R1-zscore-pval-qval.txt.gz'),\n",
    "                 sep='\\t',compression='gzip',header=None)\n",
    "hic_lower_thresh = -df.values[:,6][df.values[:,8] < 1e-3].min()"
   ]
  },
  {
   "cell_type": "code",
   "execution_count": 14,
   "metadata": {},
   "outputs": [
    {
     "name": "stdout",
     "output_type": "stream",
     "text": [
      "2 12 12\n",
      "3 7 7\n",
      "4 47 47\n",
      "5 12 12\n",
      "5 124 124\n"
     ]
    }
   ],
   "source": [
    "eqtl_lower_thresh = 1e-10\n",
    "eval_df_eqtl = eval_df[~np.isnan(eval_df['eqtl.all'])].copy()\n",
    "\n",
    "# FDR correction\n",
    "from statsmodels.stats.multitest import fdrcorrection\n",
    "eval_df_eqtl['eqtl.q'] = fdrcorrection(eval_df_eqtl['eqtl.all'])[1]\n",
    "eval_df_eqtl = distance_matched_df(eval_df_eqtl,'eqtl.q',eqtl_lower_thresh,negpos_ratio=1,seed=1)\n",
    "\n",
    "eval_df_hic = eval_df[~np.isnan(eval_df['hic.new2'])].copy()\n",
    "eval_df_hic['hic.new2.rev'] = -eval_df_hic['hic.new2'].values\n",
    "# eval_df_hic = eval_df_hic[abs(eval_df_hic['dist']) > 50000]\n",
    "# hic_lower_thresh = -np.percentile(eval_df_hic['hic.new2'],99)\n",
    "eval_df_hic = distance_matched_df(eval_df_hic,'hic.new2.rev',hic_lower_thresh,negpos_ratio=1,seed=1,dist_min=5)"
   ]
  },
  {
   "cell_type": "code",
   "execution_count": 15,
   "metadata": {},
   "outputs": [
    {
     "data": {
      "image/png": "[encoded data removed]",
      "text/plain": [
       "<Figure size 240x300 with 1 Axes>"
      ]
     },
     "metadata": {},
     "output_type": "display_data"
    }
   ],
   "source": [
    "method_list = ['graph.trial{}'.format(trial_no) for trial_no in range(1,6)]\n",
    "method_list += ['corr.trial{}'.format(trial_no) for trial_no in range(1,6)]\n",
    "method_list += ['group_corr.trial{}'.format(trial_no) for trial_no in range(1,6)]\n",
    "method_list += ['gvar.trial{}'.format(trial_no) for trial_no in range(2,6)]\n",
    "method_list += ['granger.trial{}'.format(trial_no) for trial_no in range(1,6)]\n",
    "\n",
    "method_list += ['ABC.score'] #,'dist_ranks']\n",
    "\n",
    "feature = 'eqtl.all'\n",
    "direction = 'less'\n",
    "\n",
    "metric = 'auroc'\n",
    "results_df = print_results(eval_df_eqtl,method_list,feature,eqtl_lower_thresh,direction,metric=metric)\n",
    "\n",
    "results_df['method'] = [convert_name(n) for n in results_df['method']]\n",
    "plt.figure(figsize=(len(set(results_df['method']))/2.5,3))\n",
    "ax = create_plot(results_df,metric)\n",
    "plt.rcParams['hatch.linewidth'] = 2\n",
    "ax.patches[-1].set_edgecolor(ax.patches[-1]._facecolor)\n",
    "ax.patches[-1].set_facecolor('white')\n",
    "ax.patches[-1].set_hatch('//')\n",
    "ax.patches[-1].set_linewidth(2)\n",
    "    \n",
    "# plt.tick_params(\n",
    "#     axis='x',          # changes apply to the x-axis\n",
    "#     which='both',      # both major and minor ticks are affected\n",
    "#     bottom=False,      # ticks along the bottom edge are off\n",
    "#     top=False,         # ticks along the top edge are off\n",
    "#     labelbottom=False) # labels along the bottom edge are off\n",
    "# plt.legend(bbox_to_anchor=(1,1),fontsize=16,frameon=False,handlelength=0.8)\n",
    "# sns.despine()\n",
    "\n",
    "plt.ylim([0,0.85])\n",
    "\n",
    "plot_dir = '/data/cb/alexwu/mm_finemap/figures'\n",
    "plt.savefig(os.path.join(plot_dir,'auroc','updated.{}.eqtl.0125.pdf'.format(dataset)), dpi=500, bbox_inches = \"tight\")\n",
    "plt.show()"
   ]
  },
  {
   "cell_type": "code",
   "execution_count": 27,
   "metadata": {},
   "outputs": [],
   "source": [
    "method_list = ['graph.trial{}'.format(trial_no) for trial_no in range(1,6)]\n",
    "method_list += ['corr.trial{}'.format(trial_no) for trial_no in range(1,6)]\n",
    "method_list += ['group_corr.trial{}'.format(trial_no) for trial_no in range(1,6)]\n",
    "method_list += ['gvar.trial{}'.format(trial_no) for trial_no in range(2,6)]\n",
    "method_list += ['granger.trial{}'.format(trial_no) for trial_no in range(1,6)]\n",
    "\n",
    "method_list += ['ABC.score'] #,'dist_ranks']\n",
    "\n",
    "feature = 'eqtl.all'\n",
    "direction = 'less'\n",
    "\n",
    "metric = 'auroc'\n",
    "results_df = print_results(eval_df_eqtl,method_list,feature,eqtl_lower_thresh,direction,metric=metric)\n",
    "\n",
    "results_df['method'] = [convert_name(n) for n in results_df['method']]"
   ]
  },
  {
   "cell_type": "code",
   "execution_count": 30,
   "metadata": {},
   "outputs": [
    {
     "data": {
      "text/plain": [
       "method\n",
       "ABC                0.519395\n",
       "Correlation        0.428632\n",
       "GVAR               0.525559\n",
       "GrID-Net           0.641206\n",
       "Granger            0.445480\n",
       "Pseudocell Corr    0.434681\n",
       "Name: auroc, dtype: float64"
      ]
     },
     "execution_count": 30,
     "metadata": {},
     "output_type": "execute_result"
    }
   ],
   "source": [
    "results_df.groupby(\"method\")[\"auroc\"].mean()"
   ]
  },
  {
   "cell_type": "code",
   "execution_count": 31,
   "metadata": {},
   "outputs": [
    {
     "data": {
      "text/plain": [
       "0.2200457037173753"
      ]
     },
     "execution_count": 31,
     "metadata": {},
     "output_type": "execute_result"
    }
   ],
   "source": [
    "(0.641206-0.525559)/0.525559"
   ]
  },
  {
   "cell_type": "code",
   "execution_count": 77,
   "metadata": {},
   "outputs": [
    {
     "name": "stdout",
     "output_type": "stream",
     "text": [
      "Correlation\n",
      "Ttest_indResult(statistic=13.938134066804283, pvalue=3.3997852725633653e-07)\n",
      "------\n",
      "Pseudocell Corr\n",
      "Ttest_indResult(statistic=13.814997119010076, pvalue=3.7037996079813053e-07)\n",
      "------\n",
      "GVAR\n",
      "Ttest_indResult(statistic=9.24274394446773, pvalue=3.6031097846733226e-05)\n",
      "------\n",
      "Granger\n",
      "Ttest_indResult(statistic=8.520414902115892, pvalue=6.558356077479193e-05)\n",
      "------\n"
     ]
    }
   ],
   "source": [
    "from scipy.stats import ttest_ind\n",
    "\n",
    "for method in [\"Correlation\",\"Pseudocell Corr\",\"GVAR\",\"Granger\"]:\n",
    "    print(method)\n",
    "    print(ttest_ind(results_df[results_df[\"method\"] == \"GrID-Net\"][\"auroc\"],\n",
    "          results_df[results_df[\"method\"] == method][\"auroc\"],\n",
    "          equal_var=False,alternative='greater'))\n",
    "    print('------')"
   ]
  },
  {
   "cell_type": "code",
   "execution_count": 16,
   "metadata": {},
   "outputs": [
    {
     "data": {
      "image/png": "[encoded data removed]",
      "text/plain": [
       "<Figure size 200x300 with 1 Axes>"
      ]
     },
     "metadata": {},
     "output_type": "display_data"
    }
   ],
   "source": [
    "method_list = ['graph.trial{}'.format(trial_no) for trial_no in range(1,6)]\n",
    "method_list += ['corr.trial{}'.format(trial_no) for trial_no in range(1,6)]\n",
    "method_list += ['group_corr.trial{}'.format(trial_no) for trial_no in range(1,6)]\n",
    "method_list += ['gvar.trial{}'.format(trial_no) for trial_no in range(2,6)]\n",
    "method_list += ['granger.trial{}'.format(trial_no) for trial_no in range(1,6)]\n",
    "\n",
    "method_list += ['ABC.score'] #,'dist_ranks']\n",
    "\n",
    "feature = 'hic.new2.rev'\n",
    "direction = 'less'\n",
    "\n",
    "metric = 'auroc'\n",
    "results_df = print_results(eval_df_hic,method_list,feature,hic_lower_thresh,direction,metric=metric)\n",
    "results_df['method'] = [convert_name(n) for n in results_df['method']]\n",
    "results_df = results_df[results_df['method'] != 'ABC']\n",
    "\n",
    "plt.figure(figsize=(len(set(results_df['method']))/2.5,3))\n",
    "ax = create_plot(results_df,metric)\n",
    "\n",
    "plt.ylim([0,0.65])\n",
    "\n",
    "plot_dir = '/data/cb/alexwu/mm_finemap/figures'\n",
    "plt.savefig(os.path.join(plot_dir,'auroc','updated.{}.hic.0125.pdf'.format(dataset)), dpi=500, bbox_inches = \"tight\")\n",
    "plt.show()"
   ]
  },
  {
   "cell_type": "code",
   "execution_count": 79,
   "metadata": {},
   "outputs": [
    {
     "name": "stdout",
     "output_type": "stream",
     "text": [
      "Correlation\n",
      "Ttest_indResult(statistic=0.9760549455092846, pvalue=0.17952758431462681)\n",
      "------\n",
      "Pseudocell Corr\n",
      "Ttest_indResult(statistic=3.8650402720535273, pvalue=0.0054540386571077055)\n",
      "------\n",
      "GVAR\n",
      "Ttest_indResult(statistic=6.438352237595719, pvalue=0.0005955500056958426)\n",
      "------\n",
      "Granger\n",
      "Ttest_indResult(statistic=0.3305603995833492, pvalue=0.37804377159804825)\n",
      "------\n"
     ]
    }
   ],
   "source": [
    "from scipy.stats import ttest_ind\n",
    "\n",
    "for method in [\"Correlation\",\"Pseudocell Corr\",\"GVAR\",\"Granger\"]:\n",
    "    print(method)\n",
    "    print(ttest_ind(results_df[results_df[\"method\"] == \"GrID-Net\"][\"auroc\"],\n",
    "          results_df[results_df[\"method\"] == method][\"auroc\"],\n",
    "          equal_var=False,alternative='greater'))\n",
    "    print('------')"
   ]
  },
  {
   "cell_type": "markdown",
   "metadata": {},
   "source": [
    "#### Intersection of eQTLs & Hi-C"
   ]
  },
  {
   "cell_type": "code",
   "execution_count": 17,
   "metadata": {},
   "outputs": [],
   "source": [
    "eqtl_lower_thresh = 1e-1\n",
    "eval_df_eqtl = eval_df[~np.isnan(eval_df['eqtl.all'])].copy()\n",
    "\n",
    "# FDR correction\n",
    "from statsmodels.stats.multitest import fdrcorrection\n",
    "eval_df_eqtl['eqtl.q'] = fdrcorrection(eval_df_eqtl['eqtl.all'])[1]\n",
    "# eval_df_eqtl = distance_matched_df(eval_df_eqtl,'eqtl.q',eqtl_lower_thresh,negpos_ratio=1,seed=1)\n",
    "\n",
    "eval_df_hic = eval_df[~np.isnan(eval_df['hic.new2'])].copy()\n",
    "eval_df_hic['hic.new2.rev'] = -eval_df_hic['hic.new2'].values\n",
    "# eval_df_hic = eval_df_hic[abs(eval_df_hic['dist']) > 50000]\n",
    "# hic_lower_thresh = -np.percentile(eval_df_hic['hic.new2'],99)\n",
    "# eval_df_hic = distance_matched_df(eval_df_hic,'hic.new2.rev',hic_lower_thresh,negpos_ratio=1,seed=1,dist_min=5)"
   ]
  },
  {
   "cell_type": "code",
   "execution_count": 18,
   "metadata": {},
   "outputs": [
    {
     "data": {
      "text/plain": [
       "{(185901.0, b'Rorc')}"
      ]
     },
     "execution_count": 18,
     "metadata": {},
     "output_type": "execute_result"
    }
   ],
   "source": [
    "set(eval_df_hic.index.values) & set(eval_df_eqtl.index.values)"
   ]
  },
  {
   "cell_type": "markdown",
   "metadata": {},
   "source": [
    "### eQTL (1e-3)"
   ]
  },
  {
   "cell_type": "code",
   "execution_count": 19,
   "metadata": {},
   "outputs": [
    {
     "name": "stdout",
     "output_type": "stream",
     "text": [
      "2 29 29\n",
      "3 30 30\n",
      "4 140 140\n",
      "5 51 51\n",
      "5 124 124\n"
     ]
    },
    {
     "data": {
      "image/png": "[encoded data removed]",
      "text/plain": [
       "<Figure size 240x300 with 1 Axes>"
      ]
     },
     "metadata": {},
     "output_type": "display_data"
    },
    {
     "name": "stdout",
     "output_type": "stream",
     "text": [
      "Correlation\n",
      "Ttest_indResult(statistic=8.789841209559679, pvalue=0.00023912584900206792)\n",
      "------\n",
      "Pseudocell Corr\n",
      "Ttest_indResult(statistic=7.285173853510287, pvalue=0.0005608189484506242)\n",
      "------\n",
      "GVAR\n",
      "Ttest_indResult(statistic=14.084494281647768, pvalue=1.1192327695978894e-06)\n",
      "------\n",
      "Granger\n",
      "Ttest_indResult(statistic=6.267982740317527, pvalue=0.001207072896216058)\n",
      "------\n"
     ]
    }
   ],
   "source": [
    "eqtl_lower_thresh = 1e-3\n",
    "eval_df_eqtl = eval_df[~np.isnan(eval_df['eqtl.all'])].copy()\n",
    "\n",
    "# FDR correction\n",
    "from statsmodels.stats.multitest import fdrcorrection\n",
    "eval_df_eqtl['eqtl.q'] = fdrcorrection(eval_df_eqtl['eqtl.all'])[1]\n",
    "eval_df_eqtl = distance_matched_df(eval_df_eqtl,'eqtl.q',eqtl_lower_thresh,negpos_ratio=1,seed=1)\n",
    "\n",
    "eval_df_hic = eval_df[~np.isnan(eval_df['hic.new2'])].copy()\n",
    "eval_df_hic['hic.new2.rev'] = -eval_df_hic['hic.new2'].values\n",
    "# eval_df_hic = eval_df_hic[abs(eval_df_hic['dist']) > 50000]\n",
    "# hic_lower_thresh = -np.percentile(eval_df_hic['hic.new2'],99)\n",
    "eval_df_hic = distance_matched_df(eval_df_hic,'hic.new2.rev',hic_lower_thresh,negpos_ratio=1,seed=1,dist_min=5)\n",
    "\n",
    "method_list = ['graph.trial{}'.format(trial_no) for trial_no in range(1,6)]\n",
    "method_list += ['corr.trial{}'.format(trial_no) for trial_no in range(1,6)]\n",
    "method_list += ['group_corr.trial{}'.format(trial_no) for trial_no in range(1,6)]\n",
    "method_list += ['gvar.trial{}'.format(trial_no) for trial_no in range(2,6)]\n",
    "method_list += ['granger.trial{}'.format(trial_no) for trial_no in range(1,6)]\n",
    "\n",
    "method_list += ['ABC.score'] #,'dist_ranks']\n",
    "\n",
    "feature = 'eqtl.all'\n",
    "direction = 'less'\n",
    "\n",
    "metric = 'auroc'\n",
    "results_df = print_results(eval_df_eqtl,method_list,feature,eqtl_lower_thresh,direction,metric=metric)\n",
    "\n",
    "results_df['method'] = [convert_name(n) for n in results_df['method']]\n",
    "plt.figure(figsize=(len(set(results_df['method']))/2.5,3))\n",
    "ax = create_plot(results_df,metric)\n",
    "plt.rcParams['hatch.linewidth'] = 2\n",
    "ax.patches[-1].set_edgecolor(ax.patches[-1]._facecolor)\n",
    "ax.patches[-1].set_facecolor('white')\n",
    "ax.patches[-1].set_hatch('//')\n",
    "ax.patches[-1].set_linewidth(2)\n",
    "\n",
    "plt.ylim([0,0.6])\n",
    "\n",
    "plot_dir = '/data/cb/alexwu/mm_finemap/figures'\n",
    "plt.savefig(os.path.join(plot_dir,'auroc','updated.{}.eqtl.1e-3.0125.pdf'.format(dataset)), dpi=500, bbox_inches = \"tight\")\n",
    "plt.show()\n",
    "\n",
    "from scipy.stats import ttest_ind\n",
    "\n",
    "for method in [\"Correlation\",\"Pseudocell Corr\",\"GVAR\",\"Granger\"]:\n",
    "    print(method)\n",
    "    print(ttest_ind(results_df[results_df[\"method\"] == \"GrID-Net\"][\"auroc\"],\n",
    "          results_df[results_df[\"method\"] == method][\"auroc\"],\n",
    "          equal_var=False,alternative='greater'))\n",
    "    print('------')"
   ]
  },
  {
   "cell_type": "markdown",
   "metadata": {},
   "source": [
    "### Robustness"
   ]
  },
  {
   "cell_type": "markdown",
   "metadata": {},
   "source": [
    "#### Number of Highly Variable Genes"
   ]
  },
  {
   "cell_type": "code",
   "execution_count": 20,
   "metadata": {},
   "outputs": [],
   "source": [
    "method = 'graph'\n",
    "n_layers = 10\n",
    "n_neighbors = 15\n",
    "for trial_no in range(1,6):\n",
    "\n",
    "    if trial_no == 1:\n",
    "        data_dir = '/data/cb/alexwu/mm_finemap/results/tests_nn/{}'.format(dataset)\n",
    "    else:\n",
    "        data_dir = '/data/cb/alexwu/mm_finemap/results/tests_nn/{}_{}'.format(dataset,trial_no)\n",
    "\n",
    "    if dataset == 'human_cortex_multiome_lineage':\n",
    "        file_name = 'graph.uniform.250kb.hv4000.trial{}.all.max_scale.mseloss.{}layers.nn{}.statistics.txt'.format(trial_no,n_layers,n_neighbors)\n",
    "    elif dataset == 'share_seq_more':\n",
    "        file_name = 'graph.uniform.trial{}.all.max_scale.mseloss.{}layers.nn{}.statistics.txt'.format(trial_no,n_layers,n_neighbors)\n",
    "    else:\n",
    "        file_name = 'graph.uniform.trial{}.all.max_scale.mseloss.{}layers.nn{}.statistics.txt'.format(trial_no,n_layers,n_neighbors)\n",
    "\n",
    "    scores = pd.read_csv(os.path.join(data_dir,file_name),sep='\\t').values[:,2].astype(float)\n",
    "    scores[np.isinf(scores)] = 10**10\n",
    "    eval_df['{}.hv4000.trial{}'.format(method,trial_no)] = scores"
   ]
  },
  {
   "cell_type": "markdown",
   "metadata": {},
   "source": [
    "#### Number of Neighbors"
   ]
  },
  {
   "cell_type": "code",
   "execution_count": 21,
   "metadata": {},
   "outputs": [],
   "source": [
    "method = 'graph'\n",
    "n_layers = 10\n",
    "for trial_no in range(1,6):\n",
    "    \n",
    "    for n_neighbors in [5,25]:\n",
    "\n",
    "        if trial_no == 1:\n",
    "            data_dir = '/data/cb/alexwu/mm_finemap/results/tests_nn/{}'.format(dataset)\n",
    "        else:\n",
    "            data_dir = '/data/cb/alexwu/mm_finemap/results/tests_nn/{}_{}'.format(dataset,trial_no)\n",
    "\n",
    "        if dataset == 'human_cortex_multiome_lineage':\n",
    "            file_name = 'graph.uniform.250kb.trial{}.all.max_scale.mseloss.{}layers.nn{}.statistics.txt'.format(trial_no,n_layers,n_neighbors)\n",
    "        elif dataset == 'share_seq_more':\n",
    "            file_name = 'graph.uniform.1Mb.trial{}.all.max_scale.mseloss.{}layers.nn{}.statistics.txt'.format(trial_no,n_layers,n_neighbors)\n",
    "        else:\n",
    "            file_name = 'graph.uniform.1Mb.trial{}.all.max_scale.mseloss.{}layers.nn{}.statistics.txt'.format(trial_no,n_layers,n_neighbors)\n",
    "\n",
    "        scores = pd.read_csv(os.path.join(data_dir,file_name),sep='\\t').values[:,2].astype(float)\n",
    "        scores[np.isinf(scores)] = 10**10\n",
    "        eval_df['{}.nn{}.trial{}'.format(method,n_neighbors,trial_no)] = scores"
   ]
  },
  {
   "cell_type": "markdown",
   "metadata": {},
   "source": [
    "#### Plots"
   ]
  },
  {
   "cell_type": "code",
   "execution_count": 22,
   "metadata": {},
   "outputs": [],
   "source": [
    "name_dict = {'graph': 'GrID-Net',\n",
    "             'corr': 'Correlation',\n",
    "             'group_corr': 'Pseudocell Corr',\n",
    "             'ABC.score': 'ABC',\n",
    "             'granger': \"Linear GC\",\n",
    "             'gvar': \"GVAR\"}\n",
    "\n",
    "data_dir = '/data/cb/alexwu/mm_finemap/data/share_seq/validation'\n",
    "\n",
    "df = pd.read_csv(os.path.join(data_dir,'GSM2740038_5C-pKerat-R1-zscore-pval-qval.txt.gz'),\n",
    "                 sep='\\t',compression='gzip',header=None)\n",
    "hic_lower_thresh = -df.values[:,6][df.values[:,8] < 1e-3].min()"
   ]
  },
  {
   "cell_type": "code",
   "execution_count": 23,
   "metadata": {},
   "outputs": [
    {
     "name": "stdout",
     "output_type": "stream",
     "text": [
      "2 12 12\n",
      "3 7 7\n",
      "4 47 47\n",
      "5 12 12\n",
      "5 124 124\n"
     ]
    }
   ],
   "source": [
    "eqtl_lower_thresh = 1e-10\n",
    "eval_df_eqtl = eval_df[~np.isnan(eval_df['eqtl.all'])].copy()\n",
    "\n",
    "# FDR correction\n",
    "from statsmodels.stats.multitest import fdrcorrection\n",
    "eval_df_eqtl['eqtl.q'] = fdrcorrection(eval_df_eqtl['eqtl.all'])[1]\n",
    "eval_df_eqtl = distance_matched_df(eval_df_eqtl,'eqtl.q',eqtl_lower_thresh,negpos_ratio=1,seed=1)\n",
    "\n",
    "eval_df_hic = eval_df[~np.isnan(eval_df['hic.new2'])].copy()\n",
    "eval_df_hic['hic.new2.rev'] = -eval_df_hic['hic.new2'].values\n",
    "# eval_df_hic = eval_df_hic[abs(eval_df_hic['dist']) > 50000]\n",
    "# hic_lower_thresh = -np.percentile(eval_df_hic['hic.new2'],99)\n",
    "eval_df_hic = distance_matched_df(eval_df_hic,'hic.new2.rev',hic_lower_thresh,negpos_ratio=1,seed=1,dist_min=5)"
   ]
  },
  {
   "cell_type": "code",
   "execution_count": 24,
   "metadata": {},
   "outputs": [
    {
     "data": {
      "image/png": "[encoded data removed]",
      "text/plain": [
       "<Figure size 80x300 with 1 Axes>"
      ]
     },
     "metadata": {},
     "output_type": "display_data"
    }
   ],
   "source": [
    "method_list = ['graph.trial{}'.format(trial_no) for trial_no in range(1,6)]\n",
    "method_list += ['graph.hv4000.trial{}'.format(trial_no) for trial_no in range(1,6)]\n",
    "\n",
    "feature = 'eqtl.all'\n",
    "direction = 'less'\n",
    "\n",
    "metric = 'auroc'\n",
    "results_df = print_results(eval_df_eqtl,method_list,feature,eqtl_lower_thresh,direction,metric=metric)\n",
    "\n",
    "results_df['method'] = [\"2000 h.v. genes\" if \"hv\" not in n else \"4000 h.v. genes\" for n in results_df['method']] # [convert_name(n) for n in results_df['method']]\n",
    "plt.figure(figsize=(len(set(results_df['method']))/2.5,3))\n",
    "ax = create_plot(results_df,metric)\n",
    "# plt.rcParams['hatch.linewidth'] = 2\n",
    "# ax.patches[-1].set_edgecolor(ax.patches[-1]._facecolor)\n",
    "# ax.patches[-1].set_facecolor('white')\n",
    "# ax.patches[-1].set_hatch('//')\n",
    "# ax.patches[-1].set_linewidth(2)\n",
    "\n",
    "plt.ylim([0,0.85])\n",
    "\n",
    "plot_dir = '/data/cb/alexwu/mm_finemap/figures'\n",
    "plt.savefig(os.path.join(plot_dir,'auroc','updated.{}.robustness.hv_genes.eqtl.0125.pdf'.format(dataset)), dpi=500, bbox_inches = \"tight\")\n",
    "plt.show()"
   ]
  },
  {
   "cell_type": "code",
   "execution_count": 25,
   "metadata": {},
   "outputs": [
    {
     "data": {
      "image/png": "[encoded data removed]",
      "text/plain": [
       "<Figure size 120x300 with 1 Axes>"
      ]
     },
     "metadata": {},
     "output_type": "display_data"
    }
   ],
   "source": [
    "method_list = ['graph.nn5.trial{}'.format(trial_no) for trial_no in range(1,6)]\n",
    "method_list += ['graph.trial{}'.format(trial_no) for trial_no in range(1,6)]\n",
    "method_list += ['graph.nn25.trial{}'.format(trial_no) for trial_no in range(1,6)]\n",
    "\n",
    "feature = 'eqtl.all'\n",
    "direction = 'less'\n",
    "\n",
    "metric = 'auroc'\n",
    "results_df = print_results(eval_df_eqtl,method_list,feature,eqtl_lower_thresh,direction,metric=metric)\n",
    "\n",
    "results_df['method'] = [\"k={}\".format(n.split(\".nn\")[1]) if \"nn\" in n else \"k=15\" \n",
    "                        for n in results_df['method']]\n",
    "\n",
    "plt.figure(figsize=(len(set(results_df['method']))/2.5,3))\n",
    "ax = create_plot(results_df,metric)\n",
    "\n",
    "plt.ylim([0,0.85])\n",
    "\n",
    "plot_dir = '/data/cb/alexwu/mm_finemap/figures'\n",
    "plt.savefig(os.path.join(plot_dir,'auroc','{}.robustness.n_neighbors.eqtl.0125.pdf'.format(dataset)), dpi=500, bbox_inches = \"tight\")\n",
    "plt.show()"
   ]
  },
  {
   "cell_type": "code",
   "execution_count": 26,
   "metadata": {},
   "outputs": [
    {
     "data": {
      "image/png": "[encoded data removed]",
      "text/plain": [
       "<Figure size 80x300 with 1 Axes>"
      ]
     },
     "metadata": {},
     "output_type": "display_data"
    }
   ],
   "source": [
    "method_list = ['graph.trial{}'.format(trial_no) for trial_no in range(1,6)]\n",
    "method_list += ['graph.hv4000.trial{}'.format(trial_no) for trial_no in range(1,6)]\n",
    "\n",
    "feature = 'hic.new2.rev'\n",
    "direction = 'less'\n",
    "\n",
    "metric = 'auroc'\n",
    "results_df = print_results(eval_df_hic,method_list,feature,eqtl_lower_thresh,direction,metric=metric)\n",
    "\n",
    "results_df['method'] = [\"2000 h.v. genes\" if \"hv\" not in n else \"4000 h.v. genes\" for n in results_df['method']] # [convert_name(n) for n in results_df['method']]\n",
    "plt.figure(figsize=(len(set(results_df['method']))/2.5,3))\n",
    "ax = create_plot(results_df,metric)\n",
    "# plt.rcParams['hatch.linewidth'] = 2\n",
    "# ax.patches[-1].set_edgecolor(ax.patches[-1]._facecolor)\n",
    "# ax.patches[-1].set_facecolor('white')\n",
    "# ax.patches[-1].set_hatch('//')\n",
    "# ax.patches[-1].set_linewidth(2)\n",
    "\n",
    "plt.ylim([0,0.85])\n",
    "\n",
    "plot_dir = '/data/cb/alexwu/mm_finemap/figures'\n",
    "plt.savefig(os.path.join(plot_dir,'auroc','updated.{}.robustness.hv_genes.hic.0125.pdf'.format(dataset)), dpi=500, bbox_inches = \"tight\")\n",
    "plt.show()"
   ]
  },
  {
   "cell_type": "code",
   "execution_count": 27,
   "metadata": {},
   "outputs": [
    {
     "data": {
      "image/png": "[encoded data removed]",
      "text/plain": [
       "<Figure size 120x300 with 1 Axes>"
      ]
     },
     "metadata": {},
     "output_type": "display_data"
    }
   ],
   "source": [
    "method_list = ['graph.nn5.trial{}'.format(trial_no) for trial_no in range(1,6)]\n",
    "method_list += ['graph.trial{}'.format(trial_no) for trial_no in range(1,6)]\n",
    "method_list += ['graph.nn25.trial{}'.format(trial_no) for trial_no in range(1,6)]\n",
    "\n",
    "feature = 'hic.new2.rev'\n",
    "direction = 'less'\n",
    "\n",
    "metric = 'auroc'\n",
    "results_df = print_results(eval_df_hic,method_list,feature,hic_lower_thresh,direction,metric=metric)\n",
    "results_df['method'] = [\"k={}\".format(n.split(\".nn\")[1]) if \"nn\" in n else \"k=15\" \n",
    "                        for n in results_df['method']]\n",
    "results_df = results_df[results_df['method'] != 'ABC']\n",
    "\n",
    "plt.figure(figsize=(len(set(results_df['method']))/2.5,3))\n",
    "ax = create_plot(results_df,metric)\n",
    "\n",
    "plt.ylim([0,0.65])\n",
    "\n",
    "plot_dir = '/data/cb/alexwu/mm_finemap/figures'\n",
    "plt.savefig(os.path.join(plot_dir,'auroc','updated.{}.robustness.n_neighbors.hic.0125.pdf'.format(dataset)), dpi=500, bbox_inches = \"tight\")\n",
    "plt.show()"
   ]
  },
  {
   "cell_type": "code",
   "execution_count": null,
   "metadata": {},
   "outputs": [],
   "source": []
  },
  {
   "cell_type": "code",
   "execution_count": null,
   "metadata": {},
   "outputs": [],
   "source": []
  },
  {
   "cell_type": "markdown",
   "metadata": {},
   "source": [
    "### Sparse Genes, Peaks\n",
    "#### Sparse Genes"
   ]
  },
  {
   "cell_type": "code",
   "execution_count": 11,
   "metadata": {},
   "outputs": [],
   "source": [
    "method_list = ['graph.trial{}'.format(trial_no) for trial_no in range(1,6)]\n",
    "method_list += ['corr.trial{}'.format(trial_no) for trial_no in range(1,6)]\n",
    "method_list += ['group_corr.trial{}'.format(trial_no) for trial_no in range(1,6)]\n",
    "method_list += ['gvar.trial{}'.format(trial_no) for trial_no in range(2,6)]\n",
    "method_list += ['granger.trial{}'.format(trial_no) for trial_no in range(1,6)]\n",
    "\n",
    "# method_list += ['ABC.score'] #,'dist_ranks']"
   ]
  },
  {
   "cell_type": "code",
   "execution_count": 12,
   "metadata": {
    "scrolled": true
   },
   "outputs": [],
   "source": [
    "results_df_list = []\n",
    "eval_df_eqtl = eval_df[~np.isnan(eval_df['eqtl.all'])].copy()\n",
    "\n",
    "# method_list = ['{}.trial{}'.format(method,trial_no) for method in ['graph','corr','group_corr'] for trial_no in range(1,6)]\n",
    "\n",
    "for bin_start,bin_end in [(0.,0.1),(0.1,0.2),(0.2,0.5)]:\n",
    "\n",
    "    eqtl_lower_thresh = 1e-10\n",
    "    eval_df_eqtl = eval_df[~np.isnan(eval_df['eqtl.all'])].copy()\n",
    "\n",
    "    # FDR correction\n",
    "    from statsmodels.stats.multitest import fdrcorrection\n",
    "    eval_df_eqtl['eqtl.q'] = fdrcorrection(eval_df_eqtl['eqtl.all'])[1]\n",
    "        \n",
    "    eval_df_eqtl = eval_df_eqtl[(eval_df_eqtl['gene_percent_cells'] > bin_start) & (eval_df_eqtl['gene_percent_cells'] < bin_end)]\n",
    "    eval_df_eqtl = distance_matched_df(eval_df_eqtl,'eqtl.all',eqtl_lower_thresh,negpos_ratio=1,seed=1,verbose=False)\n",
    "    \n",
    "    feature = 'eqtl.all'\n",
    "    direction = 'less'\n",
    "\n",
    "    metric = 'auroc'\n",
    "    results_df = print_results(eval_df_eqtl,method_list,feature,eqtl_lower_thresh,direction,metric=metric)\n",
    "\n",
    "    results_df['method'] = [convert_name(n) for n in results_df['method']]\n",
    "    results_df['percent_cells'] = [\"{:.0f} - {:.0f}%\".format(100*bin_start,100*bin_end) for i in range(results_df.shape[0])]\n",
    "    results_df_list.append(results_df)\n",
    "results_df = pd.concat(results_df_list)"
   ]
  },
  {
   "cell_type": "code",
   "execution_count": 14,
   "metadata": {},
   "outputs": [
    {
     "data": {
      "image/png": "[encoded data removed]",
      "text/plain": [
       "<Figure size 800x500 with 1 Axes>"
      ]
     },
     "metadata": {},
     "output_type": "display_data"
    }
   ],
   "source": [
    "plot_dir = '/data/cb/alexwu/mm_finemap/figures'\n",
    "\n",
    "plt.figure(figsize=(8,5))\n",
    "sns.barplot(x=\"percent_cells\",y=\"auroc\",hue=\"method\",data=results_df,capsize=0.05)\n",
    "plt.xlabel(\"Sparsity Range\\n(Proportion of Cells)\",fontsize=14)\n",
    "plt.ylabel(\"AUROC\",fontsize=14)\n",
    "plt.xticks(fontsize=12)\n",
    "plt.yticks(fontsize=12)\n",
    "plt.legend(fontsize=16,bbox_to_anchor=(1,1),title='Method',title_fontsize=18,frameon=False)\n",
    "sns.despine()\n",
    "plt.savefig(os.path.join(plot_dir,'auroc','updated.{}.sparsity_genes.eqtl.0524.pdf'.format(dataset)), dpi=500, bbox_inches = \"tight\")\n",
    "plt.show()"
   ]
  },
  {
   "cell_type": "markdown",
   "metadata": {},
   "source": [
    "#### Sparse Peaks"
   ]
  },
  {
   "cell_type": "code",
   "execution_count": 16,
   "metadata": {},
   "outputs": [],
   "source": [
    "method_list = ['graph.trial{}'.format(trial_no) for trial_no in range(1,6)]\n",
    "method_list += ['corr.trial{}'.format(trial_no) for trial_no in range(1,6)]\n",
    "method_list += ['group_corr.trial{}'.format(trial_no) for trial_no in range(1,6)]\n",
    "method_list += ['gvar.trial{}'.format(trial_no) for trial_no in range(2,6)]\n",
    "method_list += ['granger.trial{}'.format(trial_no) for trial_no in range(1,6)]\n",
    "\n",
    "# method_list += ['ABC.score'] #,'dist_ranks']"
   ]
  },
  {
   "cell_type": "code",
   "execution_count": 17,
   "metadata": {},
   "outputs": [],
   "source": [
    "# method_list = [\"{}.trial{}\".format(method,trial_no) for method in ['graph','corr','group_corr'] for trial_no in range(1,6)]\n",
    "\n",
    "results_df_list = []\n",
    "# eval_df_eqtl = eval_df[~np.isnan(eval_df['eqtl.all'])].copy()\n",
    "for bin_start,bin_end in [(0.,0.01),(0.01,0.05),(0.05,0.1)]:\n",
    "\n",
    "    eval_df_eqtl = eval_df[~np.isnan(eval_df['eqtl.all'])].copy()\n",
    "    \n",
    "    # FDR correction\n",
    "    from statsmodels.stats.multitest import fdrcorrection\n",
    "    eval_df_eqtl['eqtl.q'] = fdrcorrection(eval_df_eqtl['eqtl.all'])[1]\n",
    "\n",
    "    eval_df_eqtl = eval_df_eqtl[(eval_df_eqtl['peak_percent_cells'] > bin_start) & (eval_df_eqtl['peak_percent_cells'] < bin_end)]\n",
    "    eval_df_eqtl = distance_matched_df(eval_df_eqtl,'eqtl.all',eqtl_lower_thresh,negpos_ratio=1,seed=1,verbose=False)\n",
    "    \n",
    "    feature = 'eqtl.all'\n",
    "    direction = 'less'\n",
    "\n",
    "    metric = 'auroc'\n",
    "    results_df = print_results(eval_df_eqtl,method_list,feature,eqtl_lower_thresh,direction,metric=metric)\n",
    "\n",
    "    results_df['method'] = [convert_name(n) for n in results_df['method']]\n",
    "    results_df['percent_cells'] = [\"{:.0f} - {:.0f}%\".format(100*bin_start,100*bin_end) for i in range(results_df.shape[0])]\n",
    "    results_df_list.append(results_df)\n",
    "results_df = pd.concat(results_df_list)"
   ]
  },
  {
   "cell_type": "code",
   "execution_count": 18,
   "metadata": {},
   "outputs": [
    {
     "data": {
      "image/png": "[encoded data removed]",
      "text/plain": [
       "<Figure size 800x500 with 1 Axes>"
      ]
     },
     "metadata": {},
     "output_type": "display_data"
    }
   ],
   "source": [
    "plot_dir = '/data/cb/alexwu/mm_finemap/figures'\n",
    "\n",
    "plt.figure(figsize=(8,5))\n",
    "sns.barplot(x=\"percent_cells\",y=\"auroc\",hue=\"method\",data=results_df,capsize=0.05)\n",
    "plt.xlabel(\"Sparsity Range\\n(Proportion of Cells)\",fontsize=14)\n",
    "plt.ylabel(\"AUROC\",fontsize=14)\n",
    "plt.xticks(fontsize=12)\n",
    "plt.yticks(fontsize=12)\n",
    "plt.legend(fontsize=16,bbox_to_anchor=(1,1),title='Method',title_fontsize=18,frameon=False)\n",
    "sns.despine()\n",
    "plt.savefig(os.path.join(plot_dir,'auroc','updated.{}.sparsity_peaks.eqtl.0524.pdf'.format(dataset)), dpi=500, bbox_inches = \"tight\")\n",
    "plt.show()"
   ]
  },
  {
   "cell_type": "code",
   "execution_count": null,
   "metadata": {},
   "outputs": [],
   "source": []
  },
  {
   "cell_type": "markdown",
   "metadata": {},
   "source": [
    "## Logistic Regression: Include Distance"
   ]
  },
  {
   "cell_type": "code",
   "execution_count": 61,
   "metadata": {},
   "outputs": [],
   "source": [
    "from sklearn.linear_model import LogisticRegression\n",
    "from sklearn.metrics import average_precision_score,roc_auc_score\n",
    "\n",
    "def nested_cross_validation_datasets(eval_df,feature,lower_thresh,negpos_ratio,n_folds=3,dist_min=2,seed=1):\n",
    "    \n",
    "    df_copy = eval_df.copy()\n",
    "    \n",
    "    dist_categories = np.clip(np.log10(0.1+abs(df_copy['dist'].values)).astype(int),dist_min,10)\n",
    "    df_copy['dist_category'] = dist_categories\n",
    "    df_copy['label'] = (df_copy[feature] < lower_thresh).values.astype(float)\n",
    "    \n",
    "    df_list = []\n",
    "    for group,group_df in df_copy.groupby(['dist_category','label']):\n",
    "        group_df['fold'] = np.arange(group_df.shape[0]) % n_folds\n",
    "        df_list.append(group_df)\n",
    "    df = pd.concat(df_list)\n",
    "    \n",
    "    # validation set\n",
    "    validation_df = df[df['fold'] == 0]\n",
    "    inner_df = df[df['fold'] != 0]\n",
    "    \n",
    "    # inner loop training, test sets\n",
    "    inner_df_list = []\n",
    "    for group,group_df in inner_df.groupby(['dist_category','label']):\n",
    "        group_df['fold'] = np.arange(group_df.shape[0]) % n_folds\n",
    "        inner_df_list.append(group_df)\n",
    "    inner_df = pd.concat(inner_df_list)\n",
    "        \n",
    "    inner_df_sets = []\n",
    "    for fold_no in range(n_folds):\n",
    "        test_df = inner_df[inner_df['fold'] == fold_no]\n",
    "        train_df = inner_df[inner_df['fold'] != fold_no]\n",
    "    \n",
    "        inner_df_sets.append((train_df,test_df))\n",
    "        \n",
    "    return validation_df,inner_df_sets\n",
    "\n",
    "def transform_X(df,score_key):\n",
    "\n",
    "#     X = df[[score_key,'log_dist']].values\n",
    "    X = np.array([np.log(1e-10+df[score_key]),np.clip(np.log10(1+df['abs_dist']),4,10)-4]).T\n",
    "\n",
    "#     X = np.log10(1e-5 + df[[score_key,'abs_dist']].values)\n",
    "\n",
    "    return X\n",
    "\n",
    "def nested_cross_validation(inner_df_sets,score_key,feature,lower_thresh,metric='auroc'):\n",
    "    \n",
    "    model_list = []\n",
    "    metric_list = []\n",
    "    \n",
    "    for train_df,test_df in inner_df_sets:\n",
    "                \n",
    "        train_X = transform_X(train_df,score_key)\n",
    "        train_y = (train_df[feature] < lower_thresh).astype(float)\n",
    "        \n",
    "        test_X = transform_X(test_df,score_key)\n",
    "        test_y = (test_df[feature] < lower_thresh).astype(float)\n",
    "\n",
    "        lr = LogisticRegression(penalty='none',fit_intercept=True).fit(train_X,train_y)\n",
    "        \n",
    "        if metric == 'auroc':\n",
    "            metric_list.append(roc_auc_score(test_y,lr.predict_proba(test_X)[:,1]))\n",
    "        elif metric == 'auprc':\n",
    "            metric_list.append(average_precision_score(test_y,lr.predict_proba(test_X)[:,1]))\n",
    "        \n",
    "        model_list.append(lr)\n",
    "        \n",
    "    return model_list[np.argmax(metric_list)]\n",
    "\n",
    "def validation_predictions(validation_df,selected_model,score_key,feature,lower_thresh):\n",
    "    \n",
    "    validation_X = transform_X(validation_df,score_key)\n",
    "    validation_y = (validation_df[feature] < lower_thresh).astype(float)\n",
    "\n",
    "    validation_df[score_key + '-dist-LR'] = selected_model.predict_proba(validation_X)[:,1]"
   ]
  },
  {
   "cell_type": "code",
   "execution_count": 62,
   "metadata": {},
   "outputs": [],
   "source": [
    "# for col in eval_df.columns:\n",
    "#     if 'ranks.mean' in col:\n",
    "#         eval_df[col + '.rerank'] = rankdata(eval_df[col],method='average')"
   ]
  },
  {
   "cell_type": "code",
   "execution_count": 70,
   "metadata": {
    "scrolled": true
   },
   "outputs": [
    {
     "name": "stdout",
     "output_type": "stream",
     "text": [
      "2 12 12\n",
      "3 7 7\n",
      "4 47 47\n",
      "5 12 12\n"
     ]
    }
   ],
   "source": [
    "eqtl_lower_thresh = 1e-10\n",
    "eval_df_eqtl = eval_df[~np.isnan(eval_df['eqtl.all'])].copy()\n",
    "\n",
    "# FDR correction\n",
    "from statsmodels.stats.multitest import fdrcorrection\n",
    "eval_df_eqtl['eqtl.q'] = fdrcorrection(eval_df_eqtl['eqtl.all'])[1]\n",
    "\n",
    "eval_df_eqtl = distance_matched_df(eval_df_eqtl,'eqtl.q',eqtl_lower_thresh,negpos_ratio=1,seed=1)\n",
    "\n",
    "# # min-max normalize rankings\n",
    "# for col in eval_df_eqtl.columns:\n",
    "#     if 'ranks.mean' in col:\n",
    "#         min_value = eval_df[col].min()\n",
    "#         max_value = eval_df[col].max()\n",
    "#         eval_df_eqtl['{}.norm'.format(col)] = np.log(1+(eval_df_eqtl[col] - min_value)/(max_value-min_value))"
   ]
  },
  {
   "cell_type": "code",
   "execution_count": 71,
   "metadata": {
    "scrolled": false
   },
   "outputs": [
    {
     "name": "stdout",
     "output_type": "stream",
     "text": [
      "graph.ranks.mean [[ 0.77661531 -0.47272459]] [-10.50656008]\n",
      "corr.ranks.mean [[-2.02137031 -0.73724918]] [29.05684741]\n",
      "group_corr.ranks.mean [[-0.34702563 -0.54205462]] [5.22982929]\n"
     ]
    }
   ],
   "source": [
    "n_folds = 3\n",
    "feature = 'eqtl.q'\n",
    "negpos_ratio = 1\n",
    "direction = 'less'\n",
    "\n",
    "validation_df,inner_df_sets = nested_cross_validation_datasets(eval_df_eqtl,feature,eqtl_lower_thresh,\n",
    "                                                              negpos_ratio,n_folds=n_folds,seed=1)\n",
    "\n",
    "# method_list = ['graph.ranks.mean.norm','group_corr.ranks.mean.norm','corr.ranks.mean.norm']\n",
    "method_list = ['{}.ranks.mean'.format(method) for method in ['graph','corr','group_corr']]\n",
    "\n",
    "for score_key in method_list:\n",
    "    selected_lr = nested_cross_validation(inner_df_sets,score_key,feature,eqtl_lower_thresh)\n",
    "    print(score_key,selected_lr.coef_,selected_lr.intercept_)\n",
    "    validation_predictions(validation_df,selected_lr,score_key,feature,eqtl_lower_thresh)"
   ]
  },
  {
   "cell_type": "code",
   "execution_count": 72,
   "metadata": {},
   "outputs": [
    {
     "data": {
      "image/png": "[encoded data removed]",
      "text/plain": [
       "<Figure size 180x360 with 1 Axes>"
      ]
     },
     "metadata": {
      "needs_background": "light"
     },
     "output_type": "display_data"
    }
   ],
   "source": [
    "# method_list = ['graph.ranks.mean','group_corr.ranks.mean','corr.ranks.mean']\n",
    "method_list = ['{}.ranks.mean'.format(method) for method in ['graph','corr','group_corr']]\n",
    "method_list += ['{}-dist-LR'.format(n) for n in method_list]\n",
    "\n",
    "metric = 'auroc'\n",
    "results_df = print_results(validation_df,method_list,feature,eqtl_lower_thresh,direction,metric=metric)\n",
    "results_df['method'] = [convert_name(n) for n in results_df['method']]\n",
    "\n",
    "results_df['dist'] = ['yes' if '(dist)' in n else 'no' for n in results_df['method']]\n",
    "results_df['method'] = [n.split(' (')[0] for n in results_df['method']]\n",
    "results_df['method'] = ['Pseudocell \\nCorrelation' if 'Pseudo' in n else n for n in results_df['method']]\n",
    "\n",
    "plt.figure(figsize=(2.5,5))\n",
    "sns.barplot(x='method',y=metric,hue='dist',data=results_df,capsize=0.1,dodge=True)\n",
    "plt.ylim(0,results_df[metric].max()*1.02)\n",
    "plt.xlabel(metric.upper(),fontsize=16)\n",
    "plt.ylabel(metric.upper(),fontsize=16)\n",
    "plt.yticks(fontsize=14)\n",
    "plt.xticks(fontsize=14,rotation=45)\n",
    "    \n",
    "plt.tick_params(\n",
    "    axis='x',          # changes apply to the x-axis\n",
    "    which='both',      # both major and minor ticks are affected\n",
    "    bottom=False,      # ticks along the bottom edge are off\n",
    "    top=False,         # ticks along the top edge are off\n",
    "    labelbottom=True) # labels along the bottom edge are off\n",
    "plt.legend(bbox_to_anchor=(2,1),fontsize=16,title='Include \\nDistance',title_fontsize=16,frameon=True)\n",
    "sns.despine()\n",
    "\n",
    "plot_dir = '/data/cb/alexwu/mm_finemap/figures'\n",
    "plt.savefig(os.path.join(plot_dir,'auroc','{}.LR-dist.pdf'.format(dataset)), dpi=500, bbox_inches = \"tight\")\n",
    "plt.show()"
   ]
  },
  {
   "cell_type": "markdown",
   "metadata": {},
   "source": [
    "### Determine Optimal Threshold (as Percentile of all Peak-Gene Pairs)\n",
    "#### Compute Distance-based GrID-Net Scores for all Peak-Gene Pairs"
   ]
  },
  {
   "cell_type": "code",
   "execution_count": 14,
   "metadata": {},
   "outputs": [],
   "source": [
    "from sklearn.linear_model import LogisticRegression\n",
    "\n",
    "def transform_X(df,score_key):\n",
    "\n",
    "#     X = df[[score_key,'log_dist']].values\n",
    "    X = np.array([np.log(1e-10+df[score_key]),np.clip(np.log10(1+df['abs_dist']),4,10)-4]).T\n",
    "#     X = np.log10(1e-5 + df[[score_key,'abs_dist']].values)\n",
    "\n",
    "    return X\n",
    "\n",
    "def string2coeffs(coeff_str):\n",
    "    \n",
    "    values = np.array([float(v) for v in [n.strip('[ ]') \n",
    "                        for n in coeff_str.split(' ')] if len(v)])\n",
    "    \n",
    "    return np.array([values[0:2]]),np.array([values[2]])\n",
    "\n",
    "lr = LogisticRegression(penalty='none',fit_intercept=True)\n",
    "\n",
    "coeff_str = '[[ 0.28332471 -0.16272753]] [-3.66021169]'\n",
    "coeff_str = '[[ 0.77661531 -0.47272459]] [-10.50656008]'\n",
    "\n",
    "lr.coef_,lr.intercept_ = string2coeffs(coeff_str)\n",
    "lr.classes_ = np.array([0,1])\n",
    "\n",
    "score_key = 'graph.ranks.mean'\n",
    "X = transform_X(eval_df,score_key)\n",
    "\n",
    "eval_df['{}-LR-dist'.format(score_key)] = lr.predict_proba(X)[:,1]"
   ]
  },
  {
   "cell_type": "markdown",
   "metadata": {},
   "source": [
    "#### Evaluate Percentile of Scores (Relative to all Peak-Gene Scores)"
   ]
  },
  {
   "cell_type": "code",
   "execution_count": 15,
   "metadata": {
    "scrolled": true
   },
   "outputs": [],
   "source": [
    "from sklearn.metrics import f1_score\n",
    "\n",
    "# less than 250kb\n",
    "filtered_validation_df = validation_df[abs(validation_df['dist']) < 250000]\n",
    "filtered_eval_df = eval_df[abs(eval_df['dist']) < 250000]\n",
    "\n",
    "percentile_list = []\n",
    "score_list = []\n",
    "f1_score_list = []\n",
    "precision_list = []\n",
    "recall_list = []\n",
    "for score in sorted(filtered_validation_df['graph.ranks.mean-dist-LR']):\n",
    "    y_true = (filtered_validation_df[feature] < eqtl_lower_thresh).astype(float)\n",
    "    y_pred = (filtered_validation_df['graph.ranks.mean-dist-LR'] >= score).astype(float)\n",
    "    \n",
    "    percentile_list.append((filtered_eval_df['{}-LR-dist'.format(score_key)] < score).mean())\n",
    "    score_list.append(score)\n",
    "    f1_score_list.append(f1_score(y_true, y_pred))\n",
    "    precision_list.append((y_true + y_pred == 2).sum()/sum(y_pred))\n",
    "    recall_list.append((y_true + y_pred == 2).sum()/sum(y_true))"
   ]
  },
  {
   "cell_type": "code",
   "execution_count": 23,
   "metadata": {},
   "outputs": [
    {
     "data": {
      "image/png": "[encoded data removed]",
      "text/plain": [
       "<Figure size 432x288 with 1 Axes>"
      ]
     },
     "metadata": {
      "needs_background": "light"
     },
     "output_type": "display_data"
    }
   ],
   "source": [
    "plt.scatter(percentile_list,f1_score_list)\n",
    "plt.show()"
   ]
  },
  {
   "cell_type": "code",
   "execution_count": 19,
   "metadata": {
    "scrolled": false
   },
   "outputs": [
    {
     "name": "stdout",
     "output_type": "stream",
     "text": [
      "Score for Optimal F1:\t 0.5119947260150817\n",
      "Optimal F1:\t\t 0.7096774193548386\n"
     ]
    }
   ],
   "source": [
    "print('Score for Optimal F1:\\t',np.array(score_list)[np.argmax(f1_score_list)])\n",
    "print('Optimal F1:\\t\\t',max(f1_score_list))"
   ]
  },
  {
   "cell_type": "code",
   "execution_count": 20,
   "metadata": {},
   "outputs": [
    {
     "name": "stdout",
     "output_type": "stream",
     "text": [
      "Percentile of Score for Optimal F1:\t 0.5103393526548252\n"
     ]
    }
   ],
   "source": [
    "print('Percentile of Score for Optimal F1:\\t',np.array(percentile_list)[np.argmax(f1_score_list)])"
   ]
  },
  {
   "cell_type": "code",
   "execution_count": 21,
   "metadata": {},
   "outputs": [
    {
     "name": "stdout",
     "output_type": "stream",
     "text": [
      "Recall of Score for Optimal F1:\t 0.8148148148148148\n"
     ]
    }
   ],
   "source": [
    "print('Recall of Score for Optimal F1:\\t',np.array(recall_list)[np.argmax(f1_score_list)])"
   ]
  },
  {
   "cell_type": "code",
   "execution_count": 22,
   "metadata": {},
   "outputs": [
    {
     "name": "stdout",
     "output_type": "stream",
     "text": [
      "Precision of Score for Optimal F1:\t 0.6285714285714286\n"
     ]
    }
   ],
   "source": [
    "print('Precision of Score for Optimal F1:\\t',np.array(precision_list)[np.argmax(f1_score_list)])"
   ]
  },
  {
   "cell_type": "code",
   "execution_count": null,
   "metadata": {},
   "outputs": [],
   "source": []
  },
  {
   "cell_type": "code",
   "execution_count": null,
   "metadata": {},
   "outputs": [],
   "source": []
  },
  {
   "cell_type": "markdown",
   "metadata": {},
   "source": [
    "## TRIPOD Comparison"
   ]
  },
  {
   "cell_type": "markdown",
   "metadata": {},
   "source": [
    "### Aggregate TRIPOD Results"
   ]
  },
  {
   "cell_type": "code",
   "execution_count": 28,
   "metadata": {},
   "outputs": [],
   "source": [
    "atac_df = atac_adata.var.copy()\n",
    "atac_df[\"peak\"] = [\"{}-{}-{}\".format(chr_no,start,end) for chr_no,start,end in atac_adata.var.values]"
   ]
  },
  {
   "cell_type": "code",
   "execution_count": 29,
   "metadata": {
    "scrolled": true
   },
   "outputs": [],
   "source": [
    "data_dir = \"/data/cb/alexwu/mm_finemap/tools/TRIPOD/scripts/share_seq_skin\"\n",
    "\n",
    "pred_df_list = []\n",
    "for name in [\"X1\",\"X2\",\"Y1\",\"Y2\"]:\n",
    "    filename = \"xymats.t{}.pos.df.csv\".format(name)\n",
    "\n",
    "    df = pd.read_csv(os.path.join(data_dir,filename))\n",
    "\n",
    "    peak_df = df[[\"peak_num\",\"peak\"]].drop_duplicates()\n",
    "    peak_df.index = peak_df[\"peak\"].values\n",
    "\n",
    "    peak_to_idx_dict = {n:i for i,n in enumerate(atac_df[\"peak\"].values)}\n",
    "    df[\"atac_id\"] = [peak_to_idx_dict[peak] for peak in df[\"peak\"].values]\n",
    "    pred_df_list.append(df)"
   ]
  },
  {
   "cell_type": "code",
   "execution_count": 30,
   "metadata": {},
   "outputs": [],
   "source": [
    "pred_df = pd.concat(pred_df_list)"
   ]
  },
  {
   "cell_type": "code",
   "execution_count": 31,
   "metadata": {},
   "outputs": [],
   "source": [
    "summary_df = pred_df[[\"gene\",\"atac_id\",\"adj\"]].groupby([\"gene\",\"atac_id\"]).min().reset_index()"
   ]
  },
  {
   "cell_type": "code",
   "execution_count": 32,
   "metadata": {},
   "outputs": [],
   "source": [
    "peak_gene_tripod_dict = {(peak,gene): -np.log10(p) if p != 0 else 1000\n",
    "                         for peak,gene,p in summary_df[[\"atac_id\",\"gene\",\"adj\"]].values}"
   ]
  },
  {
   "cell_type": "code",
   "execution_count": 33,
   "metadata": {},
   "outputs": [],
   "source": [
    "eval_df[\"tripod\"] = [peak_gene_tripod_dict[(int(peak),gene.decode())] if (int(peak),gene.decode()) in peak_gene_tripod_dict else 0 \n",
    "                     for peak,gene in eval_df[[\"atac_id\",\"gene\"]].values]"
   ]
  },
  {
   "cell_type": "code",
   "execution_count": 34,
   "metadata": {},
   "outputs": [
    {
     "name": "stdout",
     "output_type": "stream",
     "text": [
      "2 12 12\n",
      "3 7 7\n",
      "4 47 47\n",
      "5 12 12\n",
      "5 124 124\n"
     ]
    }
   ],
   "source": [
    "name_dict = {'graph': 'GrID-Net',\n",
    "             'corr': 'Correlation',\n",
    "             'group_corr': 'Pseudocell Corr',\n",
    "             'ABC.score': 'ABC',\n",
    "             'granger': \"Linear GC\",\n",
    "             'gvar': \"GVAR\"}\n",
    "\n",
    "data_dir = '/data/cb/alexwu/mm_finemap/data/share_seq/validation'\n",
    "\n",
    "df = pd.read_csv(os.path.join(data_dir,'GSM2740038_5C-pKerat-R1-zscore-pval-qval.txt.gz'),\n",
    "                 sep='\\t',compression='gzip',header=None)\n",
    "hic_lower_thresh = -df.values[:,6][df.values[:,8] < 1e-3].min()\n",
    "\n",
    "eqtl_lower_thresh = 1e-10\n",
    "eval_df_eqtl = eval_df[~np.isnan(eval_df['eqtl.all'])].copy()\n",
    "\n",
    "# FDR correction\n",
    "from statsmodels.stats.multitest import fdrcorrection\n",
    "eval_df_eqtl['eqtl.q'] = fdrcorrection(eval_df_eqtl['eqtl.all'])[1]\n",
    "eval_df_eqtl = distance_matched_df(eval_df_eqtl,'eqtl.q',eqtl_lower_thresh,negpos_ratio=1,seed=1)\n",
    "\n",
    "eval_df_hic = eval_df[~np.isnan(eval_df['hic.new2'])].copy()\n",
    "eval_df_hic['hic.new2.rev'] = -eval_df_hic['hic.new2'].values\n",
    "# eval_df_hic = eval_df_hic[abs(eval_df_hic['dist']) > 50000]\n",
    "# hic_lower_thresh = -np.percentile(eval_df_hic['hic.new2'],99)\n",
    "eval_df_hic = distance_matched_df(eval_df_hic,'hic.new2.rev',hic_lower_thresh,negpos_ratio=1,seed=1,dist_min=5)"
   ]
  },
  {
   "cell_type": "code",
   "execution_count": 35,
   "metadata": {},
   "outputs": [
    {
     "data": {
      "image/png": "[encoded data removed]",
      "text/plain": [
       "<Figure size 240x300 with 1 Axes>"
      ]
     },
     "metadata": {},
     "output_type": "display_data"
    }
   ],
   "source": [
    "method_list = ['graph.trial{}'.format(trial_no) for trial_no in range(1,6)]\n",
    "method_list += ['corr.trial{}'.format(trial_no) for trial_no in range(1,6)]\n",
    "method_list += ['group_corr.trial{}'.format(trial_no) for trial_no in range(1,6)]\n",
    "method_list += ['gvar.trial{}'.format(trial_no) for trial_no in range(2,6)]\n",
    "method_list += ['granger.trial{}'.format(trial_no) for trial_no in range(1,6)]\n",
    "\n",
    "# method_list += ['ABC.score'] #,'dist_ranks']\n",
    "method_list += [\"tripod\"]\n",
    "\n",
    "feature = 'eqtl.all'\n",
    "direction = 'less'\n",
    "\n",
    "metric = 'auroc'\n",
    "results_df = print_results(eval_df_eqtl,method_list,feature,eqtl_lower_thresh,direction,metric=metric)\n",
    "\n",
    "results_df['method'] = [convert_name(n) for n in results_df['method']]\n",
    "plt.figure(figsize=(len(set(results_df['method']))/2.5,3))\n",
    "ax = create_plot(results_df,metric)\n",
    "plt.rcParams['hatch.linewidth'] = 2\n",
    "# ax.patches[-1].set_edgecolor(ax.patches[-2]._facecolor)\n",
    "# ax.patches[-1].set_facecolor('white')\n",
    "# ax.patches[-1].set_hatch('//')\n",
    "# ax.patches[-1].set_linewidth(2)\n",
    "    \n",
    "# plt.tick_params(\n",
    "#     axis='x',          # changes apply to the x-axis\n",
    "#     which='both',      # both major and minor ticks are affected\n",
    "#     bottom=False,      # ticks along the bottom edge are off\n",
    "#     top=False,         # ticks along the top edge are off\n",
    "#     labelbottom=False) # labels along the bottom edge are off\n",
    "# plt.legend(bbox_to_anchor=(1,1),fontsize=16,frameon=False,handlelength=0.8)\n",
    "# sns.despine()\n",
    "\n",
    "plot_dir = '/data/cb/alexwu/mm_finemap/figures'\n",
    "plt.savefig(os.path.join(plot_dir,'auroc','updated.{}.eqtl.tripod.0125.pdf'.format(dataset)), dpi=500, bbox_inches = \"tight\")\n",
    "plt.show()\n",
    "\n"
   ]
  },
  {
   "cell_type": "code",
   "execution_count": null,
   "metadata": {},
   "outputs": [],
   "source": []
  }
 ],
 "metadata": {
  "kernelspec": {
   "display_name": "Python 3 (ipykernel)",
   "language": "python",
   "name": "python3"
  },
  "language_info": {
   "codemirror_mode": {
    "name": "ipython",
    "version": 3
   },
   "file_extension": ".py",
   "mimetype": "text/x-python",
   "name": "python",
   "nbconvert_exporter": "python",
   "pygments_lexer": "ipython3",
   "version": "3.8.13"
  }
 },
 "nbformat": 4,
 "nbformat_minor": 4
}
